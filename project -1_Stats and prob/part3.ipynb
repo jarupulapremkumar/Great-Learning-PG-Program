{
 "cells": [
  {
   "cell_type": "code",
   "execution_count": 1,
   "id": "455921a6",
   "metadata": {},
   "outputs": [],
   "source": [
    "import pandas as pd\n",
    "import numpy as np\n",
    "import matplotlib.pyplot as plt\n",
    "import seaborn as sns\n",
    "import scipy.stats as stats\n",
    "\n",
    "%matplotlib inline\n",
    "sns.set_style(\"darkgrid\")"
   ]
  },
  {
   "cell_type": "code",
   "execution_count": 2,
   "id": "67eccb00",
   "metadata": {},
   "outputs": [],
   "source": [
    "data = pd.read_csv(\"Data/CompanyX_EU3.csv\")"
   ]
  },
  {
   "cell_type": "code",
   "execution_count": 3,
   "id": "7aa32a26",
   "metadata": {},
   "outputs": [
    {
     "data": {
      "text/html": [
       "<div>\n",
       "<style scoped>\n",
       "    .dataframe tbody tr th:only-of-type {\n",
       "        vertical-align: middle;\n",
       "    }\n",
       "\n",
       "    .dataframe tbody tr th {\n",
       "        vertical-align: top;\n",
       "    }\n",
       "\n",
       "    .dataframe thead th {\n",
       "        text-align: right;\n",
       "    }\n",
       "</style>\n",
       "<table border=\"1\" class=\"dataframe\">\n",
       "  <thead>\n",
       "    <tr style=\"text-align: right;\">\n",
       "      <th></th>\n",
       "      <th>Startup</th>\n",
       "      <th>Product</th>\n",
       "      <th>Funding</th>\n",
       "      <th>Event</th>\n",
       "      <th>Result</th>\n",
       "      <th>OperatingState</th>\n",
       "    </tr>\n",
       "  </thead>\n",
       "  <tbody>\n",
       "    <tr>\n",
       "      <th>0</th>\n",
       "      <td>2600Hz</td>\n",
       "      <td>2600hz.com</td>\n",
       "      <td>NaN</td>\n",
       "      <td>Disrupt SF 2013</td>\n",
       "      <td>Contestant</td>\n",
       "      <td>Operating</td>\n",
       "    </tr>\n",
       "    <tr>\n",
       "      <th>1</th>\n",
       "      <td>3DLT</td>\n",
       "      <td>3dlt.com</td>\n",
       "      <td>$630K</td>\n",
       "      <td>Disrupt NYC 2013</td>\n",
       "      <td>Contestant</td>\n",
       "      <td>Closed</td>\n",
       "    </tr>\n",
       "    <tr>\n",
       "      <th>2</th>\n",
       "      <td>3DPrinterOS</td>\n",
       "      <td>3dprinteros.com</td>\n",
       "      <td>NaN</td>\n",
       "      <td>Disrupt SF 2016</td>\n",
       "      <td>Contestant</td>\n",
       "      <td>Operating</td>\n",
       "    </tr>\n",
       "    <tr>\n",
       "      <th>3</th>\n",
       "      <td>3Dprintler</td>\n",
       "      <td>3dprintler.com</td>\n",
       "      <td>$1M</td>\n",
       "      <td>Disrupt NY 2016</td>\n",
       "      <td>Audience choice</td>\n",
       "      <td>Operating</td>\n",
       "    </tr>\n",
       "    <tr>\n",
       "      <th>4</th>\n",
       "      <td>42 Technologies</td>\n",
       "      <td>42technologies.com</td>\n",
       "      <td>NaN</td>\n",
       "      <td>Disrupt NYC 2013</td>\n",
       "      <td>Contestant</td>\n",
       "      <td>Operating</td>\n",
       "    </tr>\n",
       "  </tbody>\n",
       "</table>\n",
       "</div>"
      ],
      "text/plain": [
       "           Startup             Product Funding             Event  \\\n",
       "0           2600Hz          2600hz.com     NaN   Disrupt SF 2013   \n",
       "1             3DLT            3dlt.com   $630K  Disrupt NYC 2013   \n",
       "2      3DPrinterOS     3dprinteros.com     NaN   Disrupt SF 2016   \n",
       "3       3Dprintler      3dprintler.com     $1M   Disrupt NY 2016   \n",
       "4  42 Technologies  42technologies.com     NaN  Disrupt NYC 2013   \n",
       "\n",
       "            Result OperatingState  \n",
       "0       Contestant      Operating  \n",
       "1       Contestant         Closed  \n",
       "2       Contestant      Operating  \n",
       "3  Audience choice      Operating  \n",
       "4       Contestant      Operating  "
      ]
     },
     "execution_count": 3,
     "metadata": {},
     "output_type": "execute_result"
    }
   ],
   "source": [
    "data.head()"
   ]
  },
  {
   "cell_type": "code",
   "execution_count": 4,
   "id": "a25720d8",
   "metadata": {},
   "outputs": [
    {
     "data": {
      "text/plain": [
       "(662, 6)"
      ]
     },
     "execution_count": 4,
     "metadata": {},
     "output_type": "execute_result"
    }
   ],
   "source": [
    "data.shape"
   ]
  },
  {
   "cell_type": "code",
   "execution_count": 5,
   "id": "2c66d498",
   "metadata": {},
   "outputs": [
    {
     "name": "stdout",
     "output_type": "stream",
     "text": [
      "<class 'pandas.core.frame.DataFrame'>\n",
      "RangeIndex: 662 entries, 0 to 661\n",
      "Data columns (total 6 columns):\n",
      " #   Column          Non-Null Count  Dtype \n",
      "---  ------          --------------  ----- \n",
      " 0   Startup         662 non-null    object\n",
      " 1   Product         656 non-null    object\n",
      " 2   Funding         448 non-null    object\n",
      " 3   Event           662 non-null    object\n",
      " 4   Result          662 non-null    object\n",
      " 5   OperatingState  662 non-null    object\n",
      "dtypes: object(6)\n",
      "memory usage: 31.2+ KB\n"
     ]
    }
   ],
   "source": [
    "data.info()"
   ]
  },
  {
   "cell_type": "markdown",
   "id": "e5c5a0c7",
   "metadata": {},
   "source": [
    "#### All the attributes are of type series objects that is string"
   ]
  },
  {
   "cell_type": "markdown",
   "id": "b6cd4c3a",
   "metadata": {},
   "source": [
    "### DATA CLEANING"
   ]
  },
  {
   "cell_type": "code",
   "execution_count": 6,
   "id": "9e609cda",
   "metadata": {},
   "outputs": [],
   "source": [
    "# removing dollar symbol \n",
    "data['Funding'] = data['Funding'].str.slice(start = 1)"
   ]
  },
  {
   "cell_type": "code",
   "execution_count": 7,
   "id": "9130eaf2",
   "metadata": {},
   "outputs": [
    {
     "data": {
      "text/html": [
       "<div>\n",
       "<style scoped>\n",
       "    .dataframe tbody tr th:only-of-type {\n",
       "        vertical-align: middle;\n",
       "    }\n",
       "\n",
       "    .dataframe tbody tr th {\n",
       "        vertical-align: top;\n",
       "    }\n",
       "\n",
       "    .dataframe thead th {\n",
       "        text-align: right;\n",
       "    }\n",
       "</style>\n",
       "<table border=\"1\" class=\"dataframe\">\n",
       "  <thead>\n",
       "    <tr style=\"text-align: right;\">\n",
       "      <th></th>\n",
       "      <th>Startup</th>\n",
       "      <th>Product</th>\n",
       "      <th>Funding</th>\n",
       "      <th>Event</th>\n",
       "      <th>Result</th>\n",
       "      <th>OperatingState</th>\n",
       "    </tr>\n",
       "  </thead>\n",
       "  <tbody>\n",
       "    <tr>\n",
       "      <th>0</th>\n",
       "      <td>2600Hz</td>\n",
       "      <td>2600hz.com</td>\n",
       "      <td>NaN</td>\n",
       "      <td>Disrupt SF 2013</td>\n",
       "      <td>Contestant</td>\n",
       "      <td>Operating</td>\n",
       "    </tr>\n",
       "    <tr>\n",
       "      <th>1</th>\n",
       "      <td>3DLT</td>\n",
       "      <td>3dlt.com</td>\n",
       "      <td>630K</td>\n",
       "      <td>Disrupt NYC 2013</td>\n",
       "      <td>Contestant</td>\n",
       "      <td>Closed</td>\n",
       "    </tr>\n",
       "    <tr>\n",
       "      <th>2</th>\n",
       "      <td>3DPrinterOS</td>\n",
       "      <td>3dprinteros.com</td>\n",
       "      <td>NaN</td>\n",
       "      <td>Disrupt SF 2016</td>\n",
       "      <td>Contestant</td>\n",
       "      <td>Operating</td>\n",
       "    </tr>\n",
       "  </tbody>\n",
       "</table>\n",
       "</div>"
      ],
      "text/plain": [
       "       Startup          Product Funding             Event      Result  \\\n",
       "0       2600Hz       2600hz.com     NaN   Disrupt SF 2013  Contestant   \n",
       "1         3DLT         3dlt.com    630K  Disrupt NYC 2013  Contestant   \n",
       "2  3DPrinterOS  3dprinteros.com     NaN   Disrupt SF 2016  Contestant   \n",
       "\n",
       "  OperatingState  \n",
       "0      Operating  \n",
       "1         Closed  \n",
       "2      Operating  "
      ]
     },
     "execution_count": 7,
     "metadata": {},
     "output_type": "execute_result"
    }
   ],
   "source": [
    "data.head(3)"
   ]
  },
  {
   "cell_type": "code",
   "execution_count": 8,
   "id": "2f03e556",
   "metadata": {},
   "outputs": [],
   "source": [
    "#covnerting Funds into thousands\n",
    "def value_to_float(x):\n",
    "    if type(x) == float or type(x) == int:\n",
    "        return x\n",
    "    if 'K' in x:\n",
    "        if len(x) > 1:\n",
    "            return float(x.replace('K', '')) * 1000\n",
    "        return 1000.0\n",
    "    if 'M' in x:\n",
    "        if len(x) > 1:\n",
    "            return float(x.replace('M', '')) * 1000000\n",
    "        return 1000000.0\n",
    "    if 'B' in x:\n",
    "        return float(x.replace('B', '')) * 1000000000\n",
    "    return 0.0"
   ]
  },
  {
   "cell_type": "code",
   "execution_count": 9,
   "id": "1f390c24",
   "metadata": {},
   "outputs": [],
   "source": [
    "data['Funding'] = data['Funding'].apply(value_to_float)"
   ]
  },
  {
   "cell_type": "code",
   "execution_count": 10,
   "id": "91240efe",
   "metadata": {},
   "outputs": [],
   "source": [
    "#converting funds into millons \n",
    "\n",
    "data['Funding'] = data['Funding']*0.001"
   ]
  },
  {
   "cell_type": "code",
   "execution_count": 11,
   "id": "a63a2acf",
   "metadata": {},
   "outputs": [
    {
     "data": {
      "text/html": [
       "<div>\n",
       "<style scoped>\n",
       "    .dataframe tbody tr th:only-of-type {\n",
       "        vertical-align: middle;\n",
       "    }\n",
       "\n",
       "    .dataframe tbody tr th {\n",
       "        vertical-align: top;\n",
       "    }\n",
       "\n",
       "    .dataframe thead th {\n",
       "        text-align: right;\n",
       "    }\n",
       "</style>\n",
       "<table border=\"1\" class=\"dataframe\">\n",
       "  <thead>\n",
       "    <tr style=\"text-align: right;\">\n",
       "      <th></th>\n",
       "      <th>Startup</th>\n",
       "      <th>Product</th>\n",
       "      <th>Funding</th>\n",
       "      <th>Event</th>\n",
       "      <th>Result</th>\n",
       "      <th>OperatingState</th>\n",
       "    </tr>\n",
       "  </thead>\n",
       "  <tbody>\n",
       "    <tr>\n",
       "      <th>0</th>\n",
       "      <td>2600Hz</td>\n",
       "      <td>2600hz.com</td>\n",
       "      <td>NaN</td>\n",
       "      <td>Disrupt SF 2013</td>\n",
       "      <td>Contestant</td>\n",
       "      <td>Operating</td>\n",
       "    </tr>\n",
       "    <tr>\n",
       "      <th>1</th>\n",
       "      <td>3DLT</td>\n",
       "      <td>3dlt.com</td>\n",
       "      <td>630.0</td>\n",
       "      <td>Disrupt NYC 2013</td>\n",
       "      <td>Contestant</td>\n",
       "      <td>Closed</td>\n",
       "    </tr>\n",
       "    <tr>\n",
       "      <th>2</th>\n",
       "      <td>3DPrinterOS</td>\n",
       "      <td>3dprinteros.com</td>\n",
       "      <td>NaN</td>\n",
       "      <td>Disrupt SF 2016</td>\n",
       "      <td>Contestant</td>\n",
       "      <td>Operating</td>\n",
       "    </tr>\n",
       "    <tr>\n",
       "      <th>3</th>\n",
       "      <td>3Dprintler</td>\n",
       "      <td>3dprintler.com</td>\n",
       "      <td>1000.0</td>\n",
       "      <td>Disrupt NY 2016</td>\n",
       "      <td>Audience choice</td>\n",
       "      <td>Operating</td>\n",
       "    </tr>\n",
       "    <tr>\n",
       "      <th>4</th>\n",
       "      <td>42 Technologies</td>\n",
       "      <td>42technologies.com</td>\n",
       "      <td>NaN</td>\n",
       "      <td>Disrupt NYC 2013</td>\n",
       "      <td>Contestant</td>\n",
       "      <td>Operating</td>\n",
       "    </tr>\n",
       "  </tbody>\n",
       "</table>\n",
       "</div>"
      ],
      "text/plain": [
       "           Startup             Product  Funding             Event  \\\n",
       "0           2600Hz          2600hz.com      NaN   Disrupt SF 2013   \n",
       "1             3DLT            3dlt.com    630.0  Disrupt NYC 2013   \n",
       "2      3DPrinterOS     3dprinteros.com      NaN   Disrupt SF 2016   \n",
       "3       3Dprintler      3dprintler.com   1000.0   Disrupt NY 2016   \n",
       "4  42 Technologies  42technologies.com      NaN  Disrupt NYC 2013   \n",
       "\n",
       "            Result OperatingState  \n",
       "0       Contestant      Operating  \n",
       "1       Contestant         Closed  \n",
       "2       Contestant      Operating  \n",
       "3  Audience choice      Operating  \n",
       "4       Contestant      Operating  "
      ]
     },
     "execution_count": 11,
     "metadata": {},
     "output_type": "execute_result"
    }
   ],
   "source": [
    "data.head()"
   ]
  },
  {
   "cell_type": "code",
   "execution_count": 12,
   "id": "5a6bdb58",
   "metadata": {},
   "outputs": [
    {
     "name": "stdout",
     "output_type": "stream",
     "text": [
      "mean =  17182.374776785717\n",
      "median =  2250.0\n",
      "mode =  0    1000.0\n",
      "dtype: float64\n"
     ]
    }
   ],
   "source": [
    "print(\"mean = \" ,data['Funding'].mean())\n",
    "print(\"median = \",data['Funding'].median())\n",
    "print(\"mode = \",data['Funding'].mode())"
   ]
  },
  {
   "cell_type": "code",
   "execution_count": 13,
   "id": "b5e21e2d",
   "metadata": {},
   "outputs": [],
   "source": [
    "#FIlling Null values with median value of funding\n",
    "data['Funding'].fillna(data['Funding'].median(),inplace = True)\n"
   ]
  },
  {
   "cell_type": "code",
   "execution_count": 14,
   "id": "1e158720",
   "metadata": {},
   "outputs": [
    {
     "data": {
      "text/html": [
       "<div>\n",
       "<style scoped>\n",
       "    .dataframe tbody tr th:only-of-type {\n",
       "        vertical-align: middle;\n",
       "    }\n",
       "\n",
       "    .dataframe tbody tr th {\n",
       "        vertical-align: top;\n",
       "    }\n",
       "\n",
       "    .dataframe thead th {\n",
       "        text-align: right;\n",
       "    }\n",
       "</style>\n",
       "<table border=\"1\" class=\"dataframe\">\n",
       "  <thead>\n",
       "    <tr style=\"text-align: right;\">\n",
       "      <th></th>\n",
       "      <th>Startup</th>\n",
       "      <th>Product</th>\n",
       "      <th>Funding</th>\n",
       "      <th>Event</th>\n",
       "      <th>Result</th>\n",
       "      <th>OperatingState</th>\n",
       "    </tr>\n",
       "  </thead>\n",
       "  <tbody>\n",
       "    <tr>\n",
       "      <th>0</th>\n",
       "      <td>2600Hz</td>\n",
       "      <td>2600hz.com</td>\n",
       "      <td>2250.0</td>\n",
       "      <td>Disrupt SF 2013</td>\n",
       "      <td>Contestant</td>\n",
       "      <td>Operating</td>\n",
       "    </tr>\n",
       "    <tr>\n",
       "      <th>1</th>\n",
       "      <td>3DLT</td>\n",
       "      <td>3dlt.com</td>\n",
       "      <td>630.0</td>\n",
       "      <td>Disrupt NYC 2013</td>\n",
       "      <td>Contestant</td>\n",
       "      <td>Closed</td>\n",
       "    </tr>\n",
       "    <tr>\n",
       "      <th>2</th>\n",
       "      <td>3DPrinterOS</td>\n",
       "      <td>3dprinteros.com</td>\n",
       "      <td>2250.0</td>\n",
       "      <td>Disrupt SF 2016</td>\n",
       "      <td>Contestant</td>\n",
       "      <td>Operating</td>\n",
       "    </tr>\n",
       "    <tr>\n",
       "      <th>3</th>\n",
       "      <td>3Dprintler</td>\n",
       "      <td>3dprintler.com</td>\n",
       "      <td>1000.0</td>\n",
       "      <td>Disrupt NY 2016</td>\n",
       "      <td>Audience choice</td>\n",
       "      <td>Operating</td>\n",
       "    </tr>\n",
       "    <tr>\n",
       "      <th>4</th>\n",
       "      <td>42 Technologies</td>\n",
       "      <td>42technologies.com</td>\n",
       "      <td>2250.0</td>\n",
       "      <td>Disrupt NYC 2013</td>\n",
       "      <td>Contestant</td>\n",
       "      <td>Operating</td>\n",
       "    </tr>\n",
       "    <tr>\n",
       "      <th>5</th>\n",
       "      <td>5to1</td>\n",
       "      <td>5to1.com</td>\n",
       "      <td>19300.0</td>\n",
       "      <td>TC50 2009</td>\n",
       "      <td>Contestant</td>\n",
       "      <td>Acquired</td>\n",
       "    </tr>\n",
       "    <tr>\n",
       "      <th>6</th>\n",
       "      <td>8 Securities</td>\n",
       "      <td>8securities.com</td>\n",
       "      <td>29000.0</td>\n",
       "      <td>Disrupt Beijing 2011</td>\n",
       "      <td>Finalist</td>\n",
       "      <td>Operating</td>\n",
       "    </tr>\n",
       "    <tr>\n",
       "      <th>7</th>\n",
       "      <td>8020 Media</td>\n",
       "      <td>8020media.com</td>\n",
       "      <td>2250.0</td>\n",
       "      <td>TC40 2007</td>\n",
       "      <td>Contestant</td>\n",
       "      <td>Operating</td>\n",
       "    </tr>\n",
       "    <tr>\n",
       "      <th>8</th>\n",
       "      <td>About Last Night</td>\n",
       "      <td>aboutlastnight.net</td>\n",
       "      <td>2250.0</td>\n",
       "      <td>Disrupt NYC 2012</td>\n",
       "      <td>Contestant</td>\n",
       "      <td>Operating</td>\n",
       "    </tr>\n",
       "    <tr>\n",
       "      <th>9</th>\n",
       "      <td>Adgregate Markets</td>\n",
       "      <td>adgregate.com</td>\n",
       "      <td>2250.0</td>\n",
       "      <td>TC50 2008</td>\n",
       "      <td>Contestant</td>\n",
       "      <td>Operating</td>\n",
       "    </tr>\n",
       "    <tr>\n",
       "      <th>10</th>\n",
       "      <td>AdhereTech</td>\n",
       "      <td>adheretech.com</td>\n",
       "      <td>1800.0</td>\n",
       "      <td>Hardware Battlefield 2014</td>\n",
       "      <td>Contestant</td>\n",
       "      <td>Operating</td>\n",
       "    </tr>\n",
       "    <tr>\n",
       "      <th>11</th>\n",
       "      <td>AdRocket</td>\n",
       "      <td>adrocket.com</td>\n",
       "      <td>1000.0</td>\n",
       "      <td>TC50 2008</td>\n",
       "      <td>Contestant</td>\n",
       "      <td>Closed</td>\n",
       "    </tr>\n",
       "    <tr>\n",
       "      <th>12</th>\n",
       "      <td>Affective Interfaces</td>\n",
       "      <td>affectiveinterfaces.com</td>\n",
       "      <td>2250.0</td>\n",
       "      <td>TC50 2009</td>\n",
       "      <td>Contestant</td>\n",
       "      <td>Operating</td>\n",
       "    </tr>\n",
       "    <tr>\n",
       "      <th>13</th>\n",
       "      <td>Agrilyst</td>\n",
       "      <td>agrilyst.com</td>\n",
       "      <td>1000.0</td>\n",
       "      <td>Disrupt SF 2015</td>\n",
       "      <td>Winner</td>\n",
       "      <td>Operating</td>\n",
       "    </tr>\n",
       "    <tr>\n",
       "      <th>14</th>\n",
       "      <td>Aiden</td>\n",
       "      <td>aiden.ai</td>\n",
       "      <td>750.0</td>\n",
       "      <td>Disrupt London 2016</td>\n",
       "      <td>Contestant</td>\n",
       "      <td>Operating</td>\n",
       "    </tr>\n",
       "    <tr>\n",
       "      <th>15</th>\n",
       "      <td>AirBoxLab</td>\n",
       "      <td>foobot.io</td>\n",
       "      <td>17.9</td>\n",
       "      <td>Hardware Battlefield 2014</td>\n",
       "      <td>Contestant</td>\n",
       "      <td>Operating</td>\n",
       "    </tr>\n",
       "    <tr>\n",
       "      <th>16</th>\n",
       "      <td>Aircall</td>\n",
       "      <td>aircall.io</td>\n",
       "      <td>11600.0</td>\n",
       "      <td>Disrupt SF 2015</td>\n",
       "      <td>Contestant</td>\n",
       "      <td>Operating</td>\n",
       "    </tr>\n",
       "    <tr>\n",
       "      <th>17</th>\n",
       "      <td>AirDroids</td>\n",
       "      <td>airdroids.com</td>\n",
       "      <td>929.2</td>\n",
       "      <td>Hardware Battlefield 2014</td>\n",
       "      <td>Contestant</td>\n",
       "      <td>Closed</td>\n",
       "    </tr>\n",
       "    <tr>\n",
       "      <th>18</th>\n",
       "      <td>AirHelp</td>\n",
       "      <td>airhelp.com</td>\n",
       "      <td>12200.0</td>\n",
       "      <td>Disrupt NYC 2014</td>\n",
       "      <td>Contestant</td>\n",
       "      <td>Operating</td>\n",
       "    </tr>\n",
       "    <tr>\n",
       "      <th>19</th>\n",
       "      <td>AirWander</td>\n",
       "      <td>airwander.com</td>\n",
       "      <td>2250.0</td>\n",
       "      <td>Disrupt London 2016</td>\n",
       "      <td>Contestant</td>\n",
       "      <td>Operating</td>\n",
       "    </tr>\n",
       "    <tr>\n",
       "      <th>20</th>\n",
       "      <td>Akoha</td>\n",
       "      <td>akoha.com</td>\n",
       "      <td>1900.0</td>\n",
       "      <td>TC50 2008</td>\n",
       "      <td>Contestant</td>\n",
       "      <td>Closed</td>\n",
       "    </tr>\n",
       "    <tr>\n",
       "      <th>21</th>\n",
       "      <td>Alfabetic</td>\n",
       "      <td>alfabetic.com</td>\n",
       "      <td>2250.0</td>\n",
       "      <td>TC50 2008</td>\n",
       "      <td>Contestant</td>\n",
       "      <td>Acquired</td>\n",
       "    </tr>\n",
       "    <tr>\n",
       "      <th>22</th>\n",
       "      <td>Alicanto</td>\n",
       "      <td>alicanto.com</td>\n",
       "      <td>4000.0</td>\n",
       "      <td>Disrupt SF 2012</td>\n",
       "      <td>Contestant</td>\n",
       "      <td>Operating</td>\n",
       "    </tr>\n",
       "    <tr>\n",
       "      <th>23</th>\n",
       "      <td>Allre</td>\n",
       "      <td>allre.com</td>\n",
       "      <td>2250.0</td>\n",
       "      <td>Disrupt SF 2014</td>\n",
       "      <td>Contestant</td>\n",
       "      <td>Acquired</td>\n",
       "    </tr>\n",
       "    <tr>\n",
       "      <th>24</th>\n",
       "      <td>Alpha Outlook</td>\n",
       "      <td>alphaoutlook.com</td>\n",
       "      <td>2250.0</td>\n",
       "      <td>Disrupt Beijing 2011</td>\n",
       "      <td>Contestant</td>\n",
       "      <td>Operating</td>\n",
       "    </tr>\n",
       "    <tr>\n",
       "      <th>25</th>\n",
       "      <td>Altwork</td>\n",
       "      <td>altwork.com</td>\n",
       "      <td>2250.0</td>\n",
       "      <td>Disrupt SF 2016</td>\n",
       "      <td>Audience choice</td>\n",
       "      <td>Operating</td>\n",
       "    </tr>\n",
       "    <tr>\n",
       "      <th>26</th>\n",
       "      <td>Amaryllis Nucleics</td>\n",
       "      <td>amaryllisnucleics.com</td>\n",
       "      <td>2250.0</td>\n",
       "      <td>Disrupt SF 2016</td>\n",
       "      <td>Contestant</td>\n",
       "      <td>Operating</td>\n",
       "    </tr>\n",
       "    <tr>\n",
       "      <th>27</th>\n",
       "      <td>Amen.</td>\n",
       "      <td>getamen.com</td>\n",
       "      <td>3000.0</td>\n",
       "      <td>Disrupt SF 2011</td>\n",
       "      <td>Contestant</td>\n",
       "      <td>Acquired</td>\n",
       "    </tr>\n",
       "    <tr>\n",
       "      <th>28</th>\n",
       "      <td>Angstro</td>\n",
       "      <td>angst.ro</td>\n",
       "      <td>225.0</td>\n",
       "      <td>TC50 2008</td>\n",
       "      <td>Contestant</td>\n",
       "      <td>Acquired</td>\n",
       "    </tr>\n",
       "    <tr>\n",
       "      <th>29</th>\n",
       "      <td>Anquanbao</td>\n",
       "      <td>anquanbao.com</td>\n",
       "      <td>2250.0</td>\n",
       "      <td>Disrupt Beijing 2011</td>\n",
       "      <td>Runner up</td>\n",
       "      <td>Acquired</td>\n",
       "    </tr>\n",
       "    <tr>\n",
       "      <th>30</th>\n",
       "      <td>Ansa</td>\n",
       "      <td>ansa.com</td>\n",
       "      <td>2250.0</td>\n",
       "      <td>Disrupt SF 2013</td>\n",
       "      <td>Contestant</td>\n",
       "      <td>Operating</td>\n",
       "    </tr>\n",
       "    <tr>\n",
       "      <th>31</th>\n",
       "      <td>Anyclip</td>\n",
       "      <td>anyclip.com</td>\n",
       "      <td>24000.0</td>\n",
       "      <td>TC50 2009</td>\n",
       "      <td>Finalist</td>\n",
       "      <td>Operating</td>\n",
       "    </tr>\n",
       "    <tr>\n",
       "      <th>32</th>\n",
       "      <td>App2you</td>\n",
       "      <td>app2you.com</td>\n",
       "      <td>746.0</td>\n",
       "      <td>TC40 2007</td>\n",
       "      <td>Contestant</td>\n",
       "      <td>Operating</td>\n",
       "    </tr>\n",
       "    <tr>\n",
       "      <th>33</th>\n",
       "      <td>AppArchitect</td>\n",
       "      <td>apparchitect.com</td>\n",
       "      <td>2250.0</td>\n",
       "      <td>Disrupt NYC 2013</td>\n",
       "      <td>Contestant</td>\n",
       "      <td>Acquired</td>\n",
       "    </tr>\n",
       "    <tr>\n",
       "      <th>34</th>\n",
       "      <td>Appbistro</td>\n",
       "      <td>appbistro.com</td>\n",
       "      <td>600.0</td>\n",
       "      <td>Disrupt NYC 2010</td>\n",
       "      <td>Contestant</td>\n",
       "      <td>Closed</td>\n",
       "    </tr>\n",
       "    <tr>\n",
       "      <th>35</th>\n",
       "      <td>AppChina</td>\n",
       "      <td>appchina.com</td>\n",
       "      <td>7100.0</td>\n",
       "      <td>Disrupt Beijing 2011</td>\n",
       "      <td>Contestant</td>\n",
       "      <td>Operating</td>\n",
       "    </tr>\n",
       "    <tr>\n",
       "      <th>36</th>\n",
       "      <td>Arctuition</td>\n",
       "      <td>arcsiteapp.com</td>\n",
       "      <td>2250.0</td>\n",
       "      <td>Disrupt NY 2015</td>\n",
       "      <td>Contestant</td>\n",
       "      <td>Operating</td>\n",
       "    </tr>\n",
       "    <tr>\n",
       "      <th>37</th>\n",
       "      <td>Ark</td>\n",
       "      <td>ark.com</td>\n",
       "      <td>4500.0</td>\n",
       "      <td>Disrupt NYC 2012</td>\n",
       "      <td>Finalist</td>\n",
       "      <td>Operating</td>\n",
       "    </tr>\n",
       "    <tr>\n",
       "      <th>38</th>\n",
       "      <td>Arrived</td>\n",
       "      <td>GetArrived.com</td>\n",
       "      <td>2250.0</td>\n",
       "      <td>Disrupt NYC 2011</td>\n",
       "      <td>Contestant</td>\n",
       "      <td>Operating</td>\n",
       "    </tr>\n",
       "    <tr>\n",
       "      <th>39</th>\n",
       "      <td>Artomatix</td>\n",
       "      <td>artomatix.com</td>\n",
       "      <td>2250.0</td>\n",
       "      <td>Disrupt SF 2015</td>\n",
       "      <td>Contestant</td>\n",
       "      <td>Operating</td>\n",
       "    </tr>\n",
       "    <tr>\n",
       "      <th>40</th>\n",
       "      <td>Artsy</td>\n",
       "      <td>artsy.net</td>\n",
       "      <td>50900.0</td>\n",
       "      <td>Disrupt NYC 2010</td>\n",
       "      <td>Contestant</td>\n",
       "      <td>Operating</td>\n",
       "    </tr>\n",
       "    <tr>\n",
       "      <th>41</th>\n",
       "      <td>Artveoli, Inc.</td>\n",
       "      <td>artveoli.com</td>\n",
       "      <td>2250.0</td>\n",
       "      <td>Disrupt NY 2016</td>\n",
       "      <td>Contestant</td>\n",
       "      <td>Operating</td>\n",
       "    </tr>\n",
       "    <tr>\n",
       "      <th>42</th>\n",
       "      <td>asap54.com</td>\n",
       "      <td>asap54.com</td>\n",
       "      <td>8300.0</td>\n",
       "      <td>Disrupt EU 2013</td>\n",
       "      <td>Runner up</td>\n",
       "      <td>Operating</td>\n",
       "    </tr>\n",
       "    <tr>\n",
       "      <th>43</th>\n",
       "      <td>Athla</td>\n",
       "      <td>athla.com</td>\n",
       "      <td>2250.0</td>\n",
       "      <td>Disrupt SF 2014</td>\n",
       "      <td>Contestant</td>\n",
       "      <td>Operating</td>\n",
       "    </tr>\n",
       "    <tr>\n",
       "      <th>44</th>\n",
       "      <td>Atlas Wearables</td>\n",
       "      <td>atlaswearables.com</td>\n",
       "      <td>4000.0</td>\n",
       "      <td>Hardware Battlefield 2014</td>\n",
       "      <td>Finalist</td>\n",
       "      <td>Operating</td>\n",
       "    </tr>\n",
       "    <tr>\n",
       "      <th>45</th>\n",
       "      <td>Audioo</td>\n",
       "      <td>audioo.com</td>\n",
       "      <td>2250.0</td>\n",
       "      <td>Disrupt NYC 2010</td>\n",
       "      <td>Contestant</td>\n",
       "      <td>Acquired</td>\n",
       "    </tr>\n",
       "    <tr>\n",
       "      <th>46</th>\n",
       "      <td>Ava</td>\n",
       "      <td>avawomen.com</td>\n",
       "      <td>12300.0</td>\n",
       "      <td>Disrupt SF 2015</td>\n",
       "      <td>Contestant</td>\n",
       "      <td>Operating</td>\n",
       "    </tr>\n",
       "    <tr>\n",
       "      <th>47</th>\n",
       "      <td>Avado</td>\n",
       "      <td>avado.com</td>\n",
       "      <td>1000.0</td>\n",
       "      <td>Disrupt NYC 2011</td>\n",
       "      <td>Contestant</td>\n",
       "      <td>Acquired</td>\n",
       "    </tr>\n",
       "    <tr>\n",
       "      <th>48</th>\n",
       "      <td>Babelverse</td>\n",
       "      <td>babelverse.com</td>\n",
       "      <td>190.0</td>\n",
       "      <td>Disrupt NYC 2012</td>\n",
       "      <td>Audience choice</td>\n",
       "      <td>Closed</td>\n",
       "    </tr>\n",
       "    <tr>\n",
       "      <th>49</th>\n",
       "      <td>Badgeville</td>\n",
       "      <td>badgeville.com</td>\n",
       "      <td>40000.0</td>\n",
       "      <td>Disrupt SF 2010</td>\n",
       "      <td>Finalist</td>\n",
       "      <td>Acquired</td>\n",
       "    </tr>\n",
       "  </tbody>\n",
       "</table>\n",
       "</div>"
      ],
      "text/plain": [
       "                 Startup                  Product  Funding  \\\n",
       "0                 2600Hz               2600hz.com   2250.0   \n",
       "1                   3DLT                 3dlt.com    630.0   \n",
       "2            3DPrinterOS          3dprinteros.com   2250.0   \n",
       "3             3Dprintler           3dprintler.com   1000.0   \n",
       "4        42 Technologies       42technologies.com   2250.0   \n",
       "5                   5to1                 5to1.com  19300.0   \n",
       "6           8 Securities          8securities.com  29000.0   \n",
       "7             8020 Media            8020media.com   2250.0   \n",
       "8       About Last Night       aboutlastnight.net   2250.0   \n",
       "9      Adgregate Markets            adgregate.com   2250.0   \n",
       "10            AdhereTech           adheretech.com   1800.0   \n",
       "11              AdRocket             adrocket.com   1000.0   \n",
       "12  Affective Interfaces  affectiveinterfaces.com   2250.0   \n",
       "13              Agrilyst             agrilyst.com   1000.0   \n",
       "14                 Aiden                 aiden.ai    750.0   \n",
       "15             AirBoxLab                foobot.io     17.9   \n",
       "16               Aircall               aircall.io  11600.0   \n",
       "17             AirDroids            airdroids.com    929.2   \n",
       "18               AirHelp              airhelp.com  12200.0   \n",
       "19             AirWander            airwander.com   2250.0   \n",
       "20                 Akoha                akoha.com   1900.0   \n",
       "21             Alfabetic            alfabetic.com   2250.0   \n",
       "22              Alicanto             alicanto.com   4000.0   \n",
       "23                 Allre                allre.com   2250.0   \n",
       "24         Alpha Outlook         alphaoutlook.com   2250.0   \n",
       "25               Altwork              altwork.com   2250.0   \n",
       "26    Amaryllis Nucleics    amaryllisnucleics.com   2250.0   \n",
       "27                 Amen.              getamen.com   3000.0   \n",
       "28               Angstro                 angst.ro    225.0   \n",
       "29             Anquanbao            anquanbao.com   2250.0   \n",
       "30                  Ansa                 ansa.com   2250.0   \n",
       "31               Anyclip              anyclip.com  24000.0   \n",
       "32               App2you              app2you.com    746.0   \n",
       "33          AppArchitect         apparchitect.com   2250.0   \n",
       "34             Appbistro            appbistro.com    600.0   \n",
       "35              AppChina             appchina.com   7100.0   \n",
       "36            Arctuition           arcsiteapp.com   2250.0   \n",
       "37                   Ark                  ark.com   4500.0   \n",
       "38               Arrived           GetArrived.com   2250.0   \n",
       "39             Artomatix            artomatix.com   2250.0   \n",
       "40                 Artsy                artsy.net  50900.0   \n",
       "41        Artveoli, Inc.             artveoli.com   2250.0   \n",
       "42            asap54.com               asap54.com   8300.0   \n",
       "43                 Athla                athla.com   2250.0   \n",
       "44       Atlas Wearables       atlaswearables.com   4000.0   \n",
       "45                Audioo               audioo.com   2250.0   \n",
       "46                   Ava             avawomen.com  12300.0   \n",
       "47                 Avado                avado.com   1000.0   \n",
       "48            Babelverse           babelverse.com    190.0   \n",
       "49            Badgeville           badgeville.com  40000.0   \n",
       "\n",
       "                        Event           Result OperatingState  \n",
       "0             Disrupt SF 2013       Contestant      Operating  \n",
       "1            Disrupt NYC 2013       Contestant         Closed  \n",
       "2             Disrupt SF 2016       Contestant      Operating  \n",
       "3             Disrupt NY 2016  Audience choice      Operating  \n",
       "4            Disrupt NYC 2013       Contestant      Operating  \n",
       "5                   TC50 2009       Contestant       Acquired  \n",
       "6        Disrupt Beijing 2011         Finalist      Operating  \n",
       "7                   TC40 2007       Contestant      Operating  \n",
       "8            Disrupt NYC 2012       Contestant      Operating  \n",
       "9                   TC50 2008       Contestant      Operating  \n",
       "10  Hardware Battlefield 2014       Contestant      Operating  \n",
       "11                  TC50 2008       Contestant         Closed  \n",
       "12                  TC50 2009       Contestant      Operating  \n",
       "13            Disrupt SF 2015           Winner      Operating  \n",
       "14        Disrupt London 2016       Contestant      Operating  \n",
       "15  Hardware Battlefield 2014       Contestant      Operating  \n",
       "16            Disrupt SF 2015       Contestant      Operating  \n",
       "17  Hardware Battlefield 2014       Contestant         Closed  \n",
       "18           Disrupt NYC 2014       Contestant      Operating  \n",
       "19        Disrupt London 2016       Contestant      Operating  \n",
       "20                  TC50 2008       Contestant         Closed  \n",
       "21                  TC50 2008       Contestant       Acquired  \n",
       "22            Disrupt SF 2012       Contestant      Operating  \n",
       "23            Disrupt SF 2014       Contestant       Acquired  \n",
       "24       Disrupt Beijing 2011       Contestant      Operating  \n",
       "25            Disrupt SF 2016  Audience choice      Operating  \n",
       "26            Disrupt SF 2016       Contestant      Operating  \n",
       "27            Disrupt SF 2011       Contestant       Acquired  \n",
       "28                  TC50 2008       Contestant       Acquired  \n",
       "29       Disrupt Beijing 2011        Runner up       Acquired  \n",
       "30            Disrupt SF 2013       Contestant      Operating  \n",
       "31                  TC50 2009         Finalist      Operating  \n",
       "32                  TC40 2007       Contestant      Operating  \n",
       "33           Disrupt NYC 2013       Contestant       Acquired  \n",
       "34           Disrupt NYC 2010       Contestant         Closed  \n",
       "35       Disrupt Beijing 2011       Contestant      Operating  \n",
       "36            Disrupt NY 2015       Contestant      Operating  \n",
       "37           Disrupt NYC 2012         Finalist      Operating  \n",
       "38           Disrupt NYC 2011       Contestant      Operating  \n",
       "39            Disrupt SF 2015       Contestant      Operating  \n",
       "40           Disrupt NYC 2010       Contestant      Operating  \n",
       "41            Disrupt NY 2016       Contestant      Operating  \n",
       "42            Disrupt EU 2013        Runner up      Operating  \n",
       "43            Disrupt SF 2014       Contestant      Operating  \n",
       "44  Hardware Battlefield 2014         Finalist      Operating  \n",
       "45           Disrupt NYC 2010       Contestant       Acquired  \n",
       "46            Disrupt SF 2015       Contestant      Operating  \n",
       "47           Disrupt NYC 2011       Contestant       Acquired  \n",
       "48           Disrupt NYC 2012  Audience choice         Closed  \n",
       "49            Disrupt SF 2010         Finalist       Acquired  "
      ]
     },
     "execution_count": 14,
     "metadata": {},
     "output_type": "execute_result"
    }
   ],
   "source": [
    "data.head(50)"
   ]
  },
  {
   "cell_type": "code",
   "execution_count": 15,
   "id": "c968e5ec",
   "metadata": {},
   "outputs": [
    {
     "data": {
      "text/plain": [
       "Startup           0\n",
       "Product           6\n",
       "Funding           0\n",
       "Event             0\n",
       "Result            0\n",
       "OperatingState    0\n",
       "dtype: int64"
      ]
     },
     "execution_count": 15,
     "metadata": {},
     "output_type": "execute_result"
    }
   ],
   "source": [
    "data.isnull().sum()"
   ]
  },
  {
   "cell_type": "code",
   "execution_count": 16,
   "id": "f7675154",
   "metadata": {},
   "outputs": [
    {
     "name": "stdout",
     "output_type": "stream",
     "text": [
      "257\n",
      "imo.com\n",
      "286\n",
      "keenkong.com\n",
      "318\n",
      "localheroinc..com\n",
      "359\n",
      "motherknows.com\n",
      "445\n",
      "rainbow.com\n",
      "565\n",
      "telloapplications.com\n"
     ]
    }
   ],
   "source": [
    "for item in range(len(data['Product'])):\n",
    "    if type(data.Product[item]) == float:\n",
    "        data.loc[item,'Product'] = data.loc[item,'Startup'].lower().replace(\" \", \"\")+\".com\" "
   ]
  },
  {
   "cell_type": "code",
   "execution_count": 18,
   "id": "237dd7e6",
   "metadata": {},
   "outputs": [
    {
     "data": {
      "text/plain": [
       "Startup           0\n",
       "Product           0\n",
       "Funding           0\n",
       "Event             0\n",
       "Result            0\n",
       "OperatingState    0\n",
       "dtype: int64"
      ]
     },
     "execution_count": 18,
     "metadata": {},
     "output_type": "execute_result"
    }
   ],
   "source": [
    "data.isnull().sum()"
   ]
  },
  {
   "cell_type": "code",
   "execution_count": 193,
   "id": "52590ee4",
   "metadata": {},
   "outputs": [],
   "source": [
    "def Check_for_Missing_other(x):\n",
    "    \n",
    "    count_s = 0\n",
    "    count_e = 0\n",
    "    count_r = 0\n",
    "    count_0 = 0\n",
    "    count_p = 0\n",
    "\n",
    "    for i in range(data.shape[0]):\n",
    "        if type(x)!=str:\n",
    "            print(\"Enter String type\")\n",
    "            return\n",
    "        if x in data.loc[i,'Startup'] and (len(data.loc[i,'Startup'])<1) and (type(data.loc[i,'Startup']) != float):\n",
    "            count_s = count_s+1 \n",
    "        if x in data.loc[i,'Event'] and (len(data.loc[i,'Event'])<1) and (type(data.loc[i,'Event']) != float):\n",
    "            count_e = count_e+1\n",
    "        if x in data.loc[i,'Result'] and (len(data.loc[i,'Result'])<1) and (type(data.loc[i,'Result']) != float):\n",
    "            count_r = count_r+1\n",
    "        if x in data.loc[i,'OperatingState'] and (len(data.loc[i,'OperatingState'])<1) and (type(data.loc[i,'OperatingState']) != float):\n",
    "            count_o = count_o+1\n",
    "        if x in data.loc[i,'Product'] and (len(data.loc[i,'Product'])<1) and (type(data.loc[i,'Product']) != float):\n",
    "            count_p = count_p+1\n",
    "            \n",
    "    print(x,\"  value count in Startup =\", count_s)\n",
    "    print(x,\"  value count in Product =\", count_p)\n",
    "    print(x,\"  value count in Event =\", count_e)\n",
    "    print(x,\"  value count in Result =\", count_r)\n",
    "    print(x,\"  value count in OperatingState =\",count_0)\n"
   ]
  },
  {
   "cell_type": "code",
   "execution_count": 194,
   "id": "bd18a6ec",
   "metadata": {},
   "outputs": [
    {
     "name": "stdout",
     "output_type": "stream",
     "text": [
      "-   value count in Startup = 0\n",
      "-   value count in Product = 0\n",
      "-   value count in Event = 0\n",
      "-   value count in Result = 0\n",
      "-   value count in OperatingState = 0\n"
     ]
    }
   ],
   "source": [
    "Check_for_Missing_other('-')"
   ]
  },
  {
   "cell_type": "code",
   "execution_count": 195,
   "id": "6853855d",
   "metadata": {},
   "outputs": [],
   "source": [
    "#Replacing - with most repeated value in event\n",
    "\n",
    "for x in range(len(data['Event'])):\n",
    "    if '-' in data.loc[x,'Event']:\n",
    "        data.loc[x,'Event'] = data['Event'].mode()[0]"
   ]
  },
  {
   "cell_type": "code",
   "execution_count": 19,
   "id": "804280c2",
   "metadata": {},
   "outputs": [
    {
     "data": {
      "text/html": [
       "<div>\n",
       "<style scoped>\n",
       "    .dataframe tbody tr th:only-of-type {\n",
       "        vertical-align: middle;\n",
       "    }\n",
       "\n",
       "    .dataframe tbody tr th {\n",
       "        vertical-align: top;\n",
       "    }\n",
       "\n",
       "    .dataframe thead th {\n",
       "        text-align: right;\n",
       "    }\n",
       "</style>\n",
       "<table border=\"1\" class=\"dataframe\">\n",
       "  <thead>\n",
       "    <tr style=\"text-align: right;\">\n",
       "      <th></th>\n",
       "      <th>Funding</th>\n",
       "    </tr>\n",
       "  </thead>\n",
       "  <tbody>\n",
       "    <tr>\n",
       "      <th>count</th>\n",
       "      <td>662.00</td>\n",
       "    </tr>\n",
       "    <tr>\n",
       "      <th>mean</th>\n",
       "      <td>12355.29</td>\n",
       "    </tr>\n",
       "    <tr>\n",
       "      <th>std</th>\n",
       "      <td>74573.84</td>\n",
       "    </tr>\n",
       "    <tr>\n",
       "      <th>min</th>\n",
       "      <td>5.00</td>\n",
       "    </tr>\n",
       "    <tr>\n",
       "      <th>25%</th>\n",
       "      <td>1200.00</td>\n",
       "    </tr>\n",
       "    <tr>\n",
       "      <th>50%</th>\n",
       "      <td>2250.00</td>\n",
       "    </tr>\n",
       "    <tr>\n",
       "      <th>75%</th>\n",
       "      <td>4375.00</td>\n",
       "    </tr>\n",
       "    <tr>\n",
       "      <th>max</th>\n",
       "      <td>1700000.00</td>\n",
       "    </tr>\n",
       "  </tbody>\n",
       "</table>\n",
       "</div>"
      ],
      "text/plain": [
       "          Funding\n",
       "count      662.00\n",
       "mean     12355.29\n",
       "std      74573.84\n",
       "min          5.00\n",
       "25%       1200.00\n",
       "50%       2250.00\n",
       "75%       4375.00\n",
       "max    1700000.00"
      ]
     },
     "execution_count": 19,
     "metadata": {},
     "output_type": "execute_result"
    }
   ],
   "source": [
    "data.describe()"
   ]
  },
  {
   "cell_type": "code",
   "execution_count": 127,
   "id": "55e9a414",
   "metadata": {},
   "outputs": [
    {
     "data": {
      "text/plain": [
       "5.0"
      ]
     },
     "execution_count": 127,
     "metadata": {},
     "output_type": "execute_result"
    }
   ],
   "source": [
    "data['Funding'].min()"
   ]
  },
  {
   "cell_type": "code",
   "execution_count": 191,
   "id": "dd5df7a9",
   "metadata": {},
   "outputs": [
    {
     "data": {
      "image/png": "[encoded data removed]",
      "text/plain": [
       "<Figure size 1130.4x595.44 with 1 Axes>"
      ]
     },
     "metadata": {},
     "output_type": "display_data"
    },
    {
     "data": {
      "image/png": "[encoded data removed]",
      "text/plain": [
       "<Figure size 1130.4x595.44 with 1 Axes>"
      ]
     },
     "metadata": {},
     "output_type": "display_data"
    }
   ],
   "source": [
    "sns.set(rc={'figure.figsize':(15.7,8.27)})\n",
    "sns.boxplot( x = data['Funding'], showfliers=True)\n",
    "plt.title('Box Plot Till mean+median with outliers')\n",
    "plt.xlim(-1,19000)\n",
    "plt.show()\n",
    "sns.boxplot( x = data['Funding'], showfliers=False,color = 'r')\n",
    "plt.title('Box Plot Till without outliers',color ='r')\n",
    "plt.xlim(-1,12355.29)\n",
    "plt.show()"
   ]
  },
  {
   "cell_type": "code",
   "execution_count": 21,
   "id": "7eb56392",
   "metadata": {},
   "outputs": [
    {
     "data": {
      "text/plain": [
       "Funding    1700000.0\n",
       "dtype: float64"
      ]
     },
     "execution_count": 21,
     "metadata": {},
     "output_type": "execute_result"
    }
   ],
   "source": [
    "df = pd.DataFrame(data['Funding'])\n",
    "df.max()\n",
    "#df.index[df['Funding'] == df.max()]"
   ]
  },
  {
   "cell_type": "code",
   "execution_count": 22,
   "id": "cc57ad04",
   "metadata": {},
   "outputs": [
    {
     "data": {
      "text/plain": [
       "1700000.0"
      ]
     },
     "execution_count": 22,
     "metadata": {},
     "output_type": "execute_result"
    }
   ],
   "source": [
    "data.loc[154,'Funding']"
   ]
  },
  {
   "cell_type": "code",
   "execution_count": 165,
   "id": "89478e96",
   "metadata": {},
   "outputs": [
    {
     "name": "stdout",
     "output_type": "stream",
     "text": [
      " - value count in Startup = 0\n",
      " - value count in Product = 0\n",
      " - value count in Event = 0\n",
      " - value count in Result = 0\n",
      " - value count in OperatingState = 0\n"
     ]
    }
   ],
   "source": []
  },
  {
   "cell_type": "markdown",
   "id": "198ee87e",
   "metadata": {},
   "source": [
    "<b>NOTE :</b> Clearly we can see replacing nan with mean is not a good idea so replaced it with median"
   ]
  },
  {
   "cell_type": "code",
   "execution_count": 24,
   "id": "9fd8ea48",
   "metadata": {},
   "outputs": [
    {
     "data": {
      "image/png": "[encoded data removed]",
      "text/plain": [
       "<Figure size 1706.4x1315.44 with 1 Axes>"
      ]
     },
     "metadata": {},
     "output_type": "display_data"
    }
   ],
   "source": [
    "sns.set(rc={'figure.figsize':(23.7,18.27)})\n",
    "sns.kdeplot(x = data['Funding'])\n",
    "plt.xticks(rotation = 90)\n",
    "#plt.axis([0,0,0.00,1.00])\n",
    "plt.show()"
   ]
  },
  {
   "cell_type": "code",
   "execution_count": 25,
   "id": "2231e2e6",
   "metadata": {},
   "outputs": [
    {
     "data": {
      "text/plain": [
       "6"
      ]
     },
     "execution_count": 25,
     "metadata": {},
     "output_type": "execute_result"
    }
   ],
   "source": [
    "z = stats.zscore(data['Funding'])\n",
    "(z>2.5).sum()"
   ]
  },
  {
   "cell_type": "code",
   "execution_count": 156,
   "id": "58efc819",
   "metadata": {},
   "outputs": [
    {
     "data": {
      "image/png": "[encoded data removed]",
      "text/plain": [
       "<Figure size 842.4x595.44 with 1 Axes>"
      ]
     },
     "metadata": {},
     "output_type": "display_data"
    }
   ],
   "source": [
    "sns.set(rc={'figure.figsize':(11.7,8.27)})\n",
    "sns.boxplot( x = data[z>2.5]['Funding'])\n",
    "#plt.axis([data['Funding'].min()-1,data['Funding'].max()+1,0,-0])\n",
    "plt.grid()\n",
    "plt.show()"
   ]
  },
  {
   "cell_type": "code",
   "execution_count": 196,
   "id": "680f8859",
   "metadata": {},
   "outputs": [
    {
     "name": "stdout",
     "output_type": "stream",
     "text": [
      "-3562.5   9137.5\n"
     ]
    }
   ],
   "source": [
    "#After Removing outlier in funding\n",
    "Q1,Q3 = data['Funding'].quantile([0.25,0.75])\n",
    "IQR = Q3-Q1\n",
    "\n",
    "Min_threshold = (Q1-1.5*IQR)\n",
    "Max_threshold = (Q3+1.5*IQR)\n",
    "print(Min_threshold,\" \",Max_threshold )"
   ]
  },
  {
   "cell_type": "code",
   "execution_count": 197,
   "id": "d99beed5",
   "metadata": {},
   "outputs": [
    {
     "name": "stdout",
     "output_type": "stream",
     "text": [
      "number of outlier below lower IQR whisker =  0\n",
      "number of outlier below Upper IQR whisker =  114\n"
     ]
    }
   ],
   "source": [
    "#Check number of outliers greater than upper fence\n",
    "filt1 = data['Funding']<Min_threshold\n",
    "print(\"number of outlier below lower IQR whisker = \",data[filt1]['Funding'].shape[0])\n",
    "filt2 = data['Funding']>Max_threshold\n",
    "print(\"number of outlier below Upper IQR whisker = \",data[filt2]['Funding'].shape[0])"
   ]
  },
  {
   "cell_type": "code",
   "execution_count": 198,
   "id": "90b73f56",
   "metadata": {},
   "outputs": [
    {
     "data": {
      "text/plain": [
       "(548,)"
      ]
     },
     "execution_count": 198,
     "metadata": {},
     "output_type": "execute_result"
    }
   ],
   "source": [
    "filt3 = (data['Funding']>=Min_threshold) & (data['Funding']<=Max_threshold)\n",
    "x=data[filt3]['Funding']\n",
    "x.shape"
   ]
  },
  {
   "cell_type": "code",
   "execution_count": 31,
   "id": "a53c7b14",
   "metadata": {},
   "outputs": [
    {
     "data": {
      "image/png": "[encoded data removed]",
      "text/plain": [
       "<Figure size 842.4x595.44 with 1 Axes>"
      ]
     },
     "metadata": {},
     "output_type": "display_data"
    }
   ],
   "source": [
    "#• Plot a distribution plot for Funds in million.  After removing outliers simply dropping that row\n",
    "sns.set(rc={'figure.figsize':(11.7,8.27)})\n",
    "sns.kdeplot(x = x)\n",
    "plt.xticks(rotation = 90)\n",
    "#plt.axis([0,0,0.00,1.00])\n",
    "plt.show()"
   ]
  },
  {
   "cell_type": "code",
   "execution_count": 209,
   "id": "043d4f82",
   "metadata": {},
   "outputs": [],
   "source": [
    "# Select only the Event that has disrupt keyword from 2013 onwards\n",
    "\n",
    "def Events(x,n):\n",
    "    ps = pd.Series([],dtype = 'object')\n",
    "    for x in data['Event']:\n",
    "        if (type(x) == float) or (type(x) == int):\n",
    "            continue\n",
    "        \n",
    "        if(int(x[-4:]) >= 2013):\n",
    "            ps[n] = x\n",
    "            n = n+1\n",
    "    return ps\n",
    "    "
   ]
  },
  {
   "cell_type": "code",
   "execution_count": 212,
   "id": "e4b9e52c",
   "metadata": {},
   "outputs": [
    {
     "data": {
      "text/plain": [
       "0          Disrupt SF 2013\n",
       "1         Disrupt NYC 2013\n",
       "2          Disrupt SF 2016\n",
       "3          Disrupt NY 2016\n",
       "4         Disrupt NYC 2013\n",
       "              ...         \n",
       "313    Disrupt London 2015\n",
       "314    Disrupt London 2015\n",
       "315        Disrupt EU 2014\n",
       "316       Disrupt NYC 2013\n",
       "317        Disrupt SF 2013\n",
       "Length: 318, dtype: object"
      ]
     },
     "execution_count": 212,
     "metadata": {},
     "output_type": "execute_result"
    }
   ],
   "source": [
    "n = 0\n",
    "ps = Events(data['Event'],n)\n",
    "ps   "
   ]
  },
  {
   "cell_type": "code",
   "execution_count": 37,
   "id": "7a88b70e",
   "metadata": {},
   "outputs": [
    {
     "data": {
      "text/plain": [
       "Operating    465\n",
       "Closed       106\n",
       "Acquired      86\n",
       "Ipo            5\n",
       "Name: OperatingState, dtype: int64"
      ]
     },
     "execution_count": 37,
     "metadata": {},
     "output_type": "execute_result"
    }
   ],
   "source": [
    "data['OperatingState'].value_counts()"
   ]
  },
  {
   "cell_type": "markdown",
   "id": "0c5e5c7c",
   "metadata": {},
   "source": [
    "</h4><b>State of Startups Currently</b> </h4>\n",
    "<ol> \n",
    "    <li>There are total of <b>662</b> Startups</li> \n",
    "    <ul>\n",
    "        <li>In them <b>465</b> are currently operating </li>\n",
    "        <li>In them <b>106</b> has been closed </li>\n",
    "        <li>In them <b>86</b> has been Acquired by other Organisations</li>\n",
    "        <li>In them <b>5</b> has been in IPO</li>\n",
    "    </ul>\n",
    "<ol>\n",
    "        \n",
    "    "
   ]
  },
  {
   "cell_type": "markdown",
   "id": "94eeba64",
   "metadata": {},
   "source": [
    "<h2> Hypthesis Testing"
   ]
  },
  {
   "cell_type": "code",
   "execution_count": 38,
   "id": "54e05827",
   "metadata": {},
   "outputs": [
    {
     "name": "stdout",
     "output_type": "stream",
     "text": [
      "There is there no significant difference and we failed to reject null hypothesis\n"
     ]
    }
   ],
   "source": [
    "#hypothesis testing\n",
    "#• Is there any significant difference between Funds raised by companies that are still operating vs companies that closed down?\n",
    "#Write the null hypothesis and alternative hypothesis.\n",
    "#Test for significance and conclusion\n",
    "\n",
    "#null =  there is significant difference\n",
    "#alternate = there no significant difference\n",
    "\n",
    "from statsmodels.stats.weightstats import ztest\n",
    " \n",
    "sample1 = data.loc[data.OperatingState == 'Operating','Funding']\n",
    "sample2 = data.loc[data.OperatingState == 'Closed','Funding']\n",
    "\n",
    "stats,p_val = ztest(sample1,sample2)\n",
    "round_p=round(p_val,2)\n",
    "\n",
    "if round_p<0.05:\n",
    "    print(\"There is there is significant difference and we reject null hypothesis\")\n",
    "else:\n",
    "        print(\"There is there no significant difference and we failed to reject null hypothesis\")\n"
   ]
  },
  {
   "cell_type": "code",
   "execution_count": 39,
   "id": "e484049c",
   "metadata": {},
   "outputs": [
    {
     "name": "stdout",
     "output_type": "stream",
     "text": [
      "proportion of companies are not equal fail to reject null hypothesis\n"
     ]
    }
   ],
   "source": [
    "#Write your hypothesis comparing the proportion of companies that are operating between winners and contestants:\n",
    "# Write the null hypothesis and alternative hypothesis.\n",
    "# Test for significance and conclusion\n",
    "\n",
    "#h0 =  proportion of companies are equal\n",
    "#ha = proportion of companies are not equal\n",
    "\n",
    "from statsmodels.stats.proportion import proportions_ztest\n",
    "\n",
    "winners = data.loc[data.Result == 'Winner','OperatingState'].value_counts()[0]\n",
    "contestants = data.loc[data.Result == 'Contestant','OperatingState'].value_counts()[0]\n",
    "\n",
    "n_win = data.Result.value_counts()[3]\n",
    "n_con = data.Result.value_counts()[0]\n",
    "\n",
    "stats,p_val = proportions_ztest([winners,contestants],[n_win,n_con])\n",
    "r_pval = round(p_val,2)\n",
    "\n",
    "\n",
    "if r_pval<0.05:\n",
    "    print('proportion of companies are equal reject null hypothesis')\n",
    "else:\n",
    "    print('proportion of companies are not equal fail to reject null hypothesis')"
   ]
  },
  {
   "cell_type": "code",
   "execution_count": 40,
   "id": "e9cf05b3",
   "metadata": {},
   "outputs": [
    {
     "name": "stdout",
     "output_type": "stream",
     "text": [
      "Value_counts \n",
      " Operating    465\n",
      "Closed       106\n",
      "Name: OperatingState, dtype: int64\n"
     ]
    },
    {
     "data": {
      "image/png": "[encoded data removed]",
      "text/plain": [
       "<Figure size 842.4x739.44 with 1 Axes>"
      ]
     },
     "metadata": {},
     "output_type": "display_data"
    }
   ],
   "source": [
    "# Plot distribution plots for companies still operating and companies that closed.\n",
    "sns.set(rc={'figure.figsize':(11.7,10.27)})\n",
    "filt = (data['OperatingState'] == 'Operating') | (data['OperatingState'] == 'Closed')\n",
    "new_df = data[filt]\n",
    "print(\"Value_counts \\n\",new_df['OperatingState'].value_counts())\n",
    "sns.countplot(x = 'OperatingState', data = new_df)\n",
    "plt.grid()\n",
    "plt.show()"
   ]
  },
  {
   "cell_type": "code",
   "execution_count": 41,
   "id": "1ff120d1",
   "metadata": {},
   "outputs": [
    {
     "name": "stdout",
     "output_type": "stream",
     "text": [
      "Contestant         488\n",
      "Finalist            84\n",
      "Audience choice     41\n",
      "Winner              26\n",
      "Runner up           23\n",
      "Name: Result, dtype: int64\n"
     ]
    },
    {
     "data": {
      "image/png": "[encoded data removed]",
      "text/plain": [
       "<Figure size 842.4x739.44 with 1 Axes>"
      ]
     },
     "metadata": {},
     "output_type": "display_data"
    }
   ],
   "source": [
    "#• Check frequency distribution of Result variable\n",
    "print(data['Result'].value_counts())\n",
    "sns.countplot(x = 'Result', data = data)\n",
    "plt.grid()\n",
    "plt.show()"
   ]
  },
  {
   "cell_type": "code",
   "execution_count": 85,
   "id": "5a49cefd",
   "metadata": {},
   "outputs": [
    {
     "name": "stdout",
     "output_type": "stream",
     "text": [
      "TC50 2008                    65\n",
      "TC50 2009                    50\n",
      "TC40 2007                    40\n",
      "Disrupt NYC 2011             32\n",
      "Disrupt SF 2013              31\n",
      "Disrupt NYC 2013             31\n",
      "Disrupt SF 2011              31\n",
      "Disrupt NYC 2012             30\n",
      "Disrupt SF 2012              30\n",
      "Disrupt SF 2014              28\n",
      "Disrupt NYC 2014             27\n",
      "Disrupt SF 2015              27\n",
      "Disrupt NY 2015              26\n",
      "Disrupt SF 2016              26\n",
      "Disrupt SF 2010              26\n",
      "Disrupt NY 2016              22\n",
      "Disrupt NYC 2010             22\n",
      "Disrupt Beijing 2011         18\n",
      "Disrupt EU 2013              15\n",
      "Hardware Battlefield 2015    15\n",
      "Disrupt EU 2014              15\n",
      "Disrupt London 2015          15\n",
      "Hardware Battlefield 2014    14\n",
      "Disrupt London 2016          13\n",
      "Hardware Battlefield 2016    13\n",
      "Name: Event, dtype: int64\n"
     ]
    },
    {
     "data": {
      "image/png": "[encoded data removed]",
      "text/plain": [
       "<Figure size 842.4x739.44 with 1 Axes>"
      ]
     },
     "metadata": {},
     "output_type": "display_data"
    }
   ],
   "source": [
    "#• Check distribution of the Event variable.\n",
    "print(data['Event'].value_counts())\n",
    "sns.countplot(x = 'Event', data = data)\n",
    "plt.xticks(rotation = 90)\n",
    "plt.grid(axis = 'x')\n",
    "plt.show()"
   ]
  },
  {
   "cell_type": "code",
   "execution_count": 104,
   "id": "ac6c3a64",
   "metadata": {
    "scrolled": true
   },
   "outputs": [],
   "source": [
    "#• Write and perform your hypothesis along with significance test comparing the funds raised by companies across NY, SF and EU events from\n",
    "#2013 onwards\n",
    "sample = pd.DataFrame([])\n",
    "sample1,sample2,sample3=pd.DataFrame([]),pd.DataFrame([]),pd.DataFrame([])\n",
    "for x in ps:\n",
    "    if \"SF\" in x:\n",
    "        sample1 =pd.DataFrame({'Funding':data[data['Event'] == x]['Funding'],'EventType':'SF'}) \n",
    "       \n",
    "    if 'EU' in x:\n",
    "        sample2 = pd.DataFrame({'Funding':data[data['Event'] == x]['Funding'],'EventType':'EU'}) \n",
    "       \n",
    "    if 'NYC' in x:\n",
    "        sample3 =pd.DataFrame({'Funding':data[data['Event'] == x]['Funding'],'EventType':'NYC'}) \n",
    "        "
   ]
  },
  {
   "cell_type": "code",
   "execution_count": 108,
   "id": "d16895c7",
   "metadata": {},
   "outputs": [
    {
     "data": {
      "text/html": [
       "<div>\n",
       "<style scoped>\n",
       "    .dataframe tbody tr th:only-of-type {\n",
       "        vertical-align: middle;\n",
       "    }\n",
       "\n",
       "    .dataframe tbody tr th {\n",
       "        vertical-align: top;\n",
       "    }\n",
       "\n",
       "    .dataframe thead th {\n",
       "        text-align: right;\n",
       "    }\n",
       "</style>\n",
       "<table border=\"1\" class=\"dataframe\">\n",
       "  <thead>\n",
       "    <tr style=\"text-align: right;\">\n",
       "      <th></th>\n",
       "      <th>Funding</th>\n",
       "      <th>EventType</th>\n",
       "    </tr>\n",
       "  </thead>\n",
       "  <tbody>\n",
       "    <tr>\n",
       "      <th>0</th>\n",
       "      <td>2250.0</td>\n",
       "      <td>SF</td>\n",
       "    </tr>\n",
       "    <tr>\n",
       "      <th>1</th>\n",
       "      <td>2250.0</td>\n",
       "      <td>SF</td>\n",
       "    </tr>\n",
       "    <tr>\n",
       "      <th>2</th>\n",
       "      <td>320.0</td>\n",
       "      <td>SF</td>\n",
       "    </tr>\n",
       "    <tr>\n",
       "      <th>3</th>\n",
       "      <td>675.0</td>\n",
       "      <td>SF</td>\n",
       "    </tr>\n",
       "    <tr>\n",
       "      <th>4</th>\n",
       "      <td>2300.0</td>\n",
       "      <td>SF</td>\n",
       "    </tr>\n",
       "    <tr>\n",
       "      <th>...</th>\n",
       "      <td>...</td>\n",
       "      <td>...</td>\n",
       "    </tr>\n",
       "    <tr>\n",
       "      <th>72</th>\n",
       "      <td>2250.0</td>\n",
       "      <td>NYC</td>\n",
       "    </tr>\n",
       "    <tr>\n",
       "      <th>73</th>\n",
       "      <td>7800.0</td>\n",
       "      <td>NYC</td>\n",
       "    </tr>\n",
       "    <tr>\n",
       "      <th>74</th>\n",
       "      <td>2250.0</td>\n",
       "      <td>NYC</td>\n",
       "    </tr>\n",
       "    <tr>\n",
       "      <th>75</th>\n",
       "      <td>15800.0</td>\n",
       "      <td>NYC</td>\n",
       "    </tr>\n",
       "    <tr>\n",
       "      <th>76</th>\n",
       "      <td>583600.0</td>\n",
       "      <td>NYC</td>\n",
       "    </tr>\n",
       "  </tbody>\n",
       "</table>\n",
       "<p>77 rows × 2 columns</p>\n",
       "</div>"
      ],
      "text/plain": [
       "     Funding EventType\n",
       "0     2250.0        SF\n",
       "1     2250.0        SF\n",
       "2      320.0        SF\n",
       "3      675.0        SF\n",
       "4     2300.0        SF\n",
       "..       ...       ...\n",
       "72    2250.0       NYC\n",
       "73    7800.0       NYC\n",
       "74    2250.0       NYC\n",
       "75   15800.0       NYC\n",
       "76  583600.0       NYC\n",
       "\n",
       "[77 rows x 2 columns]"
      ]
     },
     "execution_count": 108,
     "metadata": {},
     "output_type": "execute_result"
    }
   ],
   "source": [
    "sample = pd.concat([sample1,sample2,sample3],axis = 0,ignore_index=True)\n",
    "sample"
   ]
  },
  {
   "cell_type": "code",
   "execution_count": 93,
   "id": "ae643cd0",
   "metadata": {},
   "outputs": [
    {
     "data": {
      "image/png": "[encoded data removed]",
      "text/plain": [
       "<Figure size 842.4x739.44 with 3 Axes>"
      ]
     },
     "metadata": {},
     "output_type": "display_data"
    }
   ],
   "source": [
    "plt.subplot(3,1,1 )\n",
    "sns.kdeplot(x = sample1['Funding'],label = 'SF',color ='r')\n",
    "#plt.xticks(rotation = 90)\n",
    "plt.legend()\n",
    "\n",
    "\n",
    "plt.subplot(3,1,2)\n",
    "sns.kdeplot(x = sample2['Funding'],label = 'EU',color ='g')\n",
    "#plt.xticks(rotation = 90)\n",
    "plt.legend()\n",
    "\n",
    "plt.subplot(3,1,3)\n",
    "sns.kdeplot(x = sample3['Funding'],label = 'NYC')\n",
    "plt.xticks(rotation = 90)\n",
    "plt.legend()\n",
    "\n",
    "\n",
    "plt.show()"
   ]
  },
  {
   "cell_type": "code",
   "execution_count": 94,
   "id": "f5665d35",
   "metadata": {},
   "outputs": [
    {
     "name": "stdout",
     "output_type": "stream",
     "text": [
      "Sample1 mean =  5862.9\n",
      "Sample2 mean =  2419.13\n",
      "Sample3 mean =  24531.98\n",
      "---------------\n",
      "Sample1 var =  107264032.56\n",
      "Sample2 var =  8919280.88\n",
      "Sample3 var =  10850046577.01\n"
     ]
    }
   ],
   "source": [
    "print(\"Sample1 mean = \",round(sample1['Funding'].mean(),2))\n",
    "print(\"Sample2 mean = \",round(sample2['Funding'].mean(),2))\n",
    "print(\"Sample3 mean = \",round(sample3['Funding'].mean(),2))\n",
    "\n",
    "print('-'*15)\n",
    "print(\"Sample1 var = \",round(sample1['Funding'].var(),2))\n",
    "print(\"Sample2 var = \",round(sample2['Funding'].var(),2))\n",
    "print(\"Sample3 var = \",round(sample3['Funding'].var(),2))"
   ]
  },
  {
   "cell_type": "code",
   "execution_count": 112,
   "id": "329b01a0",
   "metadata": {},
   "outputs": [
    {
     "name": "stdout",
     "output_type": "stream",
     "text": [
      "             df        sum_sq       mean_sq         F    PR(>F)\n",
      "EventType   2.0  7.374434e+09  3.687217e+09  0.829737  0.440181\n",
      "Residual   74.0  3.288442e+11  4.443840e+09       NaN       NaN\n"
     ]
    }
   ],
   "source": [
    "#H0 = All means are equal m1 = m2 = m3\n",
    "#Ha = atleast one mean differ\n",
    "\n",
    "import statsmodels.api as sm\n",
    "from statsmodels.formula.api import ols\n",
    "\n",
    "lm = ols('Funding~EventType',data =sample).fit()\n",
    "table = sm.stats.anova_lm(lm)  \n",
    "print(table)"
   ]
  },
  {
   "cell_type": "code",
   "execution_count": 117,
   "id": "20213a33",
   "metadata": {},
   "outputs": [
    {
     "data": {
      "text/plain": [
       "0.44"
      ]
     },
     "execution_count": 117,
     "metadata": {},
     "output_type": "execute_result"
    }
   ],
   "source": [
    "p_val = round(table.iloc[0,-1],2)\n",
    "p_val"
   ]
  },
  {
   "cell_type": "code",
   "execution_count": 119,
   "id": "b69e174a",
   "metadata": {},
   "outputs": [
    {
     "name": "stdout",
     "output_type": "stream",
     "text": [
      " fail  Reject Null Hypothesis\n"
     ]
    }
   ],
   "source": [
    "if p_val<0.05:\n",
    "    print(\" Reject Null Hypothesis\")\n",
    "else:\n",
    "     print(\" fail  Reject Null Hypothesis\")"
   ]
  },
  {
   "cell_type": "code",
   "execution_count": 215,
   "id": "56eefc77",
   "metadata": {},
   "outputs": [
    {
     "data": {
      "image/png": "[encoded data removed]",
      "text/plain": [
       "<Figure size 1130.4x595.44 with 1 Axes>"
      ]
     },
     "metadata": {},
     "output_type": "display_data"
    }
   ],
   "source": [
    "#• Plot the distribution plot comparing the 3 city events.\n",
    "sns.countplot(x = 'Event',data = data)\n",
    "plt.xticks(rotation =90)\n",
    "plt.show()"
   ]
  },
  {
   "cell_type": "code",
   "execution_count": null,
   "id": "a468e77a",
   "metadata": {},
   "outputs": [],
   "source": []
  }
 ],
 "metadata": {
  "kernelspec": {
   "display_name": "Python 3",
   "language": "python",
   "name": "python3"
  },
  "language_info": {
   "codemirror_mode": {
    "name": "ipython",
    "version": 3
   },
   "file_extension": ".py",
   "mimetype": "text/x-python",
   "name": "python",
   "nbconvert_exporter": "python",
   "pygments_lexer": "ipython3",
   "version": "3.8.10"
  }
 },
 "nbformat": 4,
 "nbformat_minor": 5
}
