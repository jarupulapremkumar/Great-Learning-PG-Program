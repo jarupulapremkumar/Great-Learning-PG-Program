{
 "cells": [
  {
   "cell_type": "code",
   "execution_count": 2,
   "id": "8e6559ab",
   "metadata": {},
   "outputs": [],
   "source": [
    "import numpy as np\n",
    "import scipy.stats as stats\n",
    "import matplotlib.pyplot as plt\n",
    "import seaborn as sns\n",
    "%matplotlib inline"
   ]
  },
  {
   "cell_type": "markdown",
   "id": "16dca4e0",
   "metadata": {},
   "source": [
    "# Question 1"
   ]
  },
  {
   "cell_type": "markdown",
   "id": "608661fe",
   "metadata": {},
   "source": [
    "Question: Please refer the table below to answer below questions:\n",
    "1. Refer to the above table and find the joint probability of the people who planned to purchase and actually\n",
    "placed an order.\n",
    "2. Refer to the above table and find the joint probability of the people who planned to purchase and actually\n",
    "placed an order, given that people planned to purchase.\n",
    "\n",
    "|Planned to purchase A|Actually placed and order for A - Yes|Actually placed and order for Product A - No|Total|\n",
    "|:---:                | :------:                            |  :----------:                              |:---:|\n",
    "|Yes| 400 | 100 | 500 |\n",
    "|No | 200 | 1300 | 1500 |\n",
    "|Total| 600 |1400| 2000|\n"
   ]
  },
  {
   "cell_type": "code",
   "execution_count": 3,
   "id": "4548373c",
   "metadata": {},
   "outputs": [
    {
     "name": "stdout",
     "output_type": "stream",
     "text": [
      "joint probability of the people who planned to purchase and actually placed an order  = 0.20\n",
      "conditional probability  = 0.80\n"
     ]
    }
   ],
   "source": [
    "# 1 . find the joint probability of the people who planned to purchase and actually placed an order.\n",
    "# find value of p(planned to purchase and actually placed an order.)\n",
    "\n",
    "prob_plan_and_place = 400/2000\n",
    "print(\"joint probability of the people who planned to purchase and actually placed an order  = %1.2f\"%prob_plan_and_place)\n",
    "\n",
    "#2. find the joint probability of the people who planned to purchase and actually placed an order,\n",
    "#given that people planned to purchase.\n",
    "#p(people who planned to purchase and actually placed an order / people planned to purchase)\n",
    "\n",
    "prob_planned = 500/2000\n",
    "con_prob = prob_plan_and_place/prob_planned\n",
    "print(\"conditional probability  = %1.2f\"%con_prob)\n"
   ]
  },
  {
   "cell_type": "markdown",
   "id": "51438d33",
   "metadata": {},
   "source": [
    "# ----------------------------------------------------------------------------------------------------------"
   ]
  },
  {
   "cell_type": "markdown",
   "id": "10c9c049",
   "metadata": {},
   "source": [
    "# Question 2"
   ]
  },
  {
   "cell_type": "markdown",
   "id": "e5f1c6e7",
   "metadata": {},
   "source": [
    "Question: An electrical manufacturing company conducts quality checks at specified periods on the\n",
    "products it manufactures. Historically, the failure rate for the manufactured item is 5%. Suppose a random\n",
    "sample of 10 manufactured items is selected. Answer the following questions.\n",
    "\n",
    "A. Probability that none of the items are defective?\n",
    "\n",
    "B. Probability that exactly one of the items is defective?\n",
    "\n",
    "C. Probability that two or fewer of the items are defective?\n",
    "\n",
    "D. Probability that three or more of the items are defective ?"
   ]
  },
  {
   "cell_type": "code",
   "execution_count": 28,
   "id": "3a72ae4f",
   "metadata": {},
   "outputs": [
    {
     "name": "stdout",
     "output_type": "stream",
     "text": [
      " Probability that none of the items are defective = 0.5987\n",
      " Probability that exactly one of the items is defective = 0.3151\n",
      "Probability that two or fewer of the items are defective = 0.9885\n",
      " Probability that three or more of the items are defective = 0.0115\n"
     ]
    }
   ],
   "source": [
    "p = 0.05\n",
    "q = 0.95\n",
    "n = 10\n",
    "k = np.arange(0,11)\n",
    "\n",
    "binom = stats.binom.pmf(k,n,p)\n",
    "\n",
    "# A. Probability that none of the items are defective?\n",
    "print(\" Probability that none of the items are defective = %1.4f\" %binom[0])\n",
    "\n",
    "# B. Probability that exactly one of the items is defective?\n",
    "print(\" Probability that exactly one of the items is defective = %1.4f\"%binom[1])\n",
    "\n",
    "# C. Probability that two or fewer of the items are defective?\n",
    "cumbinomial = stats.binom.cdf(k,n,p)\n",
    "print(\"Probability that two or fewer of the items are defective = %1.4f\" %cumbinomial[2])\n",
    "\n",
    "# D. Probability that three or more of the items are defective ?\n",
    "print(\" Probability that three or more of the items are defective = %1.4f\" %(1- cumbinomial[2]))"
   ]
  },
  {
   "cell_type": "code",
   "execution_count": 5,
   "id": "a271add4",
   "metadata": {},
   "outputs": [
    {
     "name": "stdout",
     "output_type": "stream",
     "text": [
      "[5.98736939e-01 3.15124705e-01 7.46347985e-02 1.04750594e-02\n",
      " 9.64808106e-04 6.09352488e-05 2.67259863e-06 8.03789063e-08\n",
      " 1.58642578e-09 1.85546875e-11 9.76562500e-14]\n"
     ]
    }
   ],
   "source": [
    "print(binom)"
   ]
  },
  {
   "cell_type": "code",
   "execution_count": 6,
   "id": "b5cb4d6d",
   "metadata": {},
   "outputs": [
    {
     "data": {
      "image/png": "[encoded data removed]",
      "text/plain": [
       "<Figure size 432x288 with 1 Axes>"
      ]
     },
     "metadata": {
      "needs_background": "light"
     },
     "output_type": "display_data"
    },
    {
     "data": {
      "image/png": "[encoded data removed]",
      "text/plain": [
       "<Figure size 432x288 with 1 Axes>"
      ]
     },
     "metadata": {
      "needs_background": "light"
     },
     "output_type": "display_data"
    }
   ],
   "source": [
    "sns.barplot(y = binom,x = k,label = \"bar plot\")\n",
    "plt.title('Binomial Distribution')\n",
    "plt.ylabel(\"Binomal probability values\")\n",
    "plt.xlabel(\"Values of x\")\n",
    "plt.grid(axis = 'y')\n",
    "plt.legend()\n",
    "\n",
    "plt.show()\n",
    "\n",
    "plt.plot(k,binom,'bo--',label = \"scatter plot\")\n",
    "\n",
    "plt.title('Binomial Distribution')\n",
    "plt.ylabel(\"Binomal probability values\")\n",
    "plt.xlabel(\"Values of x\")\n",
    "plt.grid(axis = 'y')\n",
    "plt.legend()\n",
    "\n",
    "plt.show()"
   ]
  },
  {
   "cell_type": "markdown",
   "id": "a4719930",
   "metadata": {},
   "source": [
    "# -----------------------------------------------------------------------------------------------"
   ]
  },
  {
   "cell_type": "markdown",
   "id": "f6f3b149",
   "metadata": {},
   "source": [
    "# 3"
   ]
  },
  {
   "cell_type": "markdown",
   "id": "56bb3a0a",
   "metadata": {},
   "source": [
    "Question: A car salesman sells on an average 3 cars per week.\n",
    "\n",
    "A. Probability that in a given week he will sell some cars.\n",
    "\n",
    "B. Probability that in a given week he will sell 2 or more but less than 5 cars.\n",
    "\n",
    "C. Plot the poisson distribution function for cumulative probability of cars sold per-week vs number of cars sold perweek.\n"
   ]
  },
  {
   "cell_type": "code",
   "execution_count": 27,
   "id": "26616f33",
   "metadata": {},
   "outputs": [
    {
     "name": "stdout",
     "output_type": "stream",
     "text": [
      "Probability that in a given week he will sell some cars. = 0.9502 \n",
      "\n",
      "Probability that the salesman sells some cars is =  0.9502 \n",
      "\n",
      "Probability that in a given week he will sell 2 or more but less than 5 cars =  0.6161 \n",
      "\n"
     ]
    }
   ],
   "source": [
    "rate =  3 # mean or lamda\n",
    "n    =  np.arange(0,8)\n",
    "cumpoisson = stats.poisson.cdf(n,rate)\n",
    "\n",
    "# A. Probability that in a given week he will sell some cars.\n",
    "print(\"Probability that in a given week he will sell some cars. = %1.4f \\n\" %(1- cumpoisson[0]) )\n",
    "\n",
    "# P = probability that the agent sells some policies\n",
    "P   = 1 - cumpoisson[0]\n",
    "print('Probability that the salesman sells some cars is =  %1.4f \\n' % P)\n",
    "\n",
    "# Probability that in a given week he will sell 2 or more but less than 5 cars.\n",
    "P1 = cumpoisson[4]\n",
    "P2 = cumpoisson[1]\n",
    "pr = cumpoisson[4] - cumpoisson[1]\n",
    "print('Probability that in a given week he will sell 2 or more but less than 5 cars =  %1.4f \\n' % pr)"
   ]
  },
  {
   "cell_type": "code",
   "execution_count": 12,
   "id": "e97877d8",
   "metadata": {},
   "outputs": [
    {
     "data": {
      "image/png": "[encoded data removed]",
      "text/plain": [
       "<Figure size 432x288 with 1 Axes>"
      ]
     },
     "metadata": {
      "needs_background": "light"
     },
     "output_type": "display_data"
    },
    {
     "data": {
      "image/png": "[encoded data removed]",
      "text/plain": [
       "<Figure size 432x288 with 1 Axes>"
      ]
     },
     "metadata": {
      "needs_background": "light"
     },
     "output_type": "display_data"
    }
   ],
   "source": [
    "poisson = stats.poisson.pmf(n,rate)\n",
    "sns.barplot(y = poisson,x = n,label = \"bar plot\")\n",
    "plt.title('poisson Distribution')\n",
    "plt.ylabel(\"cumulative probability of cars sold per-week\")\n",
    "plt.xlabel(\" number of cars sold perweek.\")\n",
    "plt.grid(axis = 'y')\n",
    "plt.legend()\n",
    "\n",
    "plt.show()\n",
    "\n",
    "plt.plot(n,poisson,'bo--',label = \"scatter plot\")\n",
    "\n",
    "plt.title('poisson Distribution')\n",
    "plt.ylabel(\"cumulative probability of cars sold per-week\")\n",
    "plt.xlabel(\" number of cars sold perweek.\")\n",
    "plt.grid(axis = 'y')\n",
    "plt.legend()\n",
    "\n",
    "plt.show()"
   ]
  },
  {
   "cell_type": "markdown",
   "id": "f56248e4",
   "metadata": {},
   "source": [
    "# ---------------------------------------------------------------------------------------------------------"
   ]
  },
  {
   "cell_type": "markdown",
   "id": "d468472e",
   "metadata": {},
   "source": [
    "# 4"
   ]
  },
  {
   "cell_type": "markdown",
   "id": "80c509ff",
   "metadata": {},
   "source": [
    "Question: Accuracy in understanding orders for a speech based bot at a restaurant is important for the\n",
    "Company X which has designed, marketed and launched the product for a contactless delivery due to the\n",
    "COVID-19 pandemic. Recognition accuracy that measures the percentage of orders that are taken correctly is\n",
    "86.8%. Suppose that you place order with the bot and two friends of yours independently place orders with\n",
    "the same bot. Answer the following questions.\n",
    "\n",
    "A. What is the probability that all three orders will be recognised correctly?\n",
    "\n",
    "B. What is the probability that none of the three orders will be recognised correctly?\n",
    "\n",
    "C. What is the probability that at least two of the three orders will be recognised correctly?"
   ]
  },
  {
   "cell_type": "code",
   "execution_count": 26,
   "id": "4148a4f1",
   "metadata": {},
   "outputs": [
    {
     "name": "stdout",
     "output_type": "stream",
     "text": [
      "probability that all three orders will be recognised correctly = 0.6540\n",
      "probability that none of the three orders will be recognised correctly = 0.0023\n",
      "probability that at least two of the three orders will be recognised correctly = 0.9523\n"
     ]
    }
   ],
   "source": [
    "from math import factorial as fact\n",
    "p= 0.868\n",
    "q = 1- p \n",
    "\n",
    "def binom(p,n,x):\n",
    "    return (fact(n)/(fact(x)*fact(n-x)))*(p**x)*(1-p)**(n-x)\n",
    "\n",
    "# A. What is the probability that all three orders will be recognised correctly?\n",
    "print(\"probability that all three orders will be recognised correctly = %1.4f\" %binom(p,3,3))\n",
    "\n",
    "# B. What is the probability that none of the three orders will be recognised correctly?\n",
    "print(\"probability that none of the three orders will be recognised correctly = %1.4f\" %binom(p,3,0))\n",
    "\n",
    "# C. What is the probability that at least two of the three orders will be recognised correctly?\n",
    "print(\"probability that at least two of the three orders will be recognised correctly = %1.4f\" %(binom(p,3,2)+binom(p,3,3)))"
   ]
  },
  {
   "cell_type": "markdown",
   "id": "0d94578f",
   "metadata": {},
   "source": [
    "# ---------------------------------------------------------------------------------------------------------"
   ]
  },
  {
   "cell_type": "markdown",
   "id": "2301d0c5",
   "metadata": {},
   "source": [
    "# 5"
   ]
  },
  {
   "cell_type": "markdown",
   "id": "6aa283a7",
   "metadata": {},
   "source": [
    "A group of 300 professionals sat for a competitive exam. The results show the information of\n",
    "marks obtained by them have a mean of 60 and a standard deviation of 12. The pattern of marks follows a\n",
    "normal distribution. Answer the following questions.\n",
    "\n",
    "A. What is the percentage of students who score more than 80.\n",
    "\n",
    "B. What is the percentage of students who score less than 50.\n",
    "\n",
    "C. What should be the distinction mark if the highest 10% of students are to be awarded distinction?\n"
   ]
  },
  {
   "cell_type": "code",
   "execution_count": 30,
   "id": "2b3d2fb6",
   "metadata": {},
   "outputs": [
    {
     "name": "stdout",
     "output_type": "stream",
     "text": [
      " the percentage of students who score more than 80 = 4.78 \n",
      " the percentage of students who score less than 20 = 79.77 \n",
      "the distinction mark that will be scored by 10% of the students =  75.36\n"
     ]
    }
   ],
   "source": [
    "m = 60\n",
    "sd = 12\n",
    "\n",
    "def get_z(x,m,sd):\n",
    "    return ((x-m)/sd)\n",
    "\n",
    "# What is the percentage of students who score more than 80.\n",
    "z = get_z(80,m,sd)\n",
    "print(\" the percentage of students who score more than 80 = %2.2f \" % ((1-stats.norm.cdf(z))*100))\n",
    "\n",
    "#Use the orginal values to calculate the probability\n",
    "1-stats.norm.cdf(80,loc=60,scale=12)\n",
    "\n",
    "#B. What is the percentage of students who score less than 50.\n",
    "z = get_z(50,m,sd)\n",
    "stats.norm.cdf(z)\n",
    "print(\" the percentage of students who score less than 20 = %2.2f \" % ((1-stats.norm.cdf(z))*100))\n",
    "\n",
    "'''#C. What should be the distinction mark if the highest 10% of students are to be awarded distinction?\n",
    "# Z = (x-60)/12. Here look at the normal tabel in inverse manner. \n",
    "#    That is the value of Z, the area between 0 and z = 0.40. this is to be seen from the table. \n",
    "#    The Z value that will make the area = 0.40 is = 1.28. But z= (x - 60)/12. \n",
    "#   Hence (x-60)/12 = 1.28 Simplifying, x= 75.36 This is the distinction mark that will be scored by 10% of the students.'''\n",
    "\n",
    "z = 0.40\n",
    "area = 1.28\n",
    "x = 75.36\n",
    "\n",
    "print(\"the distinction mark that will be scored by 10% of the students = \" ,x)"
   ]
  },
  {
   "cell_type": "markdown",
   "id": "1c8caa79",
   "metadata": {},
   "source": [
    "# ---------------------------------------------------------------------------------------------------------"
   ]
  },
  {
   "cell_type": "markdown",
   "id": "c3f76f21",
   "metadata": {},
   "source": [
    "#### Explain 1 real life industry scenario [other than the ones mentioned above] where you can use the concepts learnt in this module of Applied statistics to get a data driven business solution"
   ]
  },
  {
   "cell_type": "markdown",
   "id": "16fae45c",
   "metadata": {},
   "source": [
    "### Forecasting Orders and Menu at Swiggy\n",
    "For meal kit delivery service Swiggy, understanding customer behavior and preferences is very important for its success in food delivery . The company presents customers or users with a some menu of meals that are available to choose and with its employees perform predictive analytics to forecast demand with data that are collected fromm various users to avoid meal or product wastage and fulfill orders.\n",
    "\n",
    "To make these predictions,Swiggy uses algorithms use or that take several variables into account.\n",
    "\n",
    "Through various statistical method [pearson correlation ] used to examine the relationship between variables Swiggy’sdata scientist team has successfully measured the precision of its forecasting models. \n",
    "\n",
    "With the help of predictive analytics [inferential stats] Swiggy has able to better understand customers, Swiggy has improved its user experience, identified how users tastes change over time and recognized how shifting preferences are impacted by menu offerings."
   ]
  },
  {
   "cell_type": "markdown",
   "id": "ab228904",
   "metadata": {},
   "source": [
    "."
   ]
  },
  {
   "cell_type": "markdown",
   "id": "67cd98d6",
   "metadata": {},
   "source": [
    "# PART 2"
   ]
  },
  {
   "cell_type": "code",
   "execution_count": 31,
   "id": "17d97828",
   "metadata": {},
   "outputs": [
    {
     "ename": "SyntaxError",
     "evalue": "invalid syntax (<ipython-input-31-c24601161c77>, line 32)",
     "output_type": "error",
     "traceback": [
      "\u001b[1;36m  File \u001b[1;32m\"<ipython-input-31-c24601161c77>\"\u001b[1;36m, line \u001b[1;32m32\u001b[0m\n\u001b[1;33m    As we can see many of the columns are object type so let us see valuecounts of them to see any missing value\u001b[0m\n\u001b[1;37m       ^\u001b[0m\n\u001b[1;31mSyntaxError\u001b[0m\u001b[1;31m:\u001b[0m invalid syntax\n"
     ]
    }
   ],
   "source": [
    "import pandas as pd\n",
    "import numpy as np\n",
    "import matplotlib.pyplot as plt\n",
    "import seaborn as sns\n",
    "import scipy.stats as stats\n",
    "\n",
    "%matplotlib inline\n",
    "sns.set_style(\"darkgrid\")\n",
    "\n",
    "data = pd.read_csv(\"Data/Basketball.csv\")\n",
    "\n",
    "data.head()\n",
    "\n",
    "data.tail()\n",
    "\n",
    "data.set_index('Team',inplace = True)\n",
    "\n",
    "\n",
    "# as team 61 has no data we will drop it \n",
    "data.drop(data.index[-1],inplace = True)\n",
    "\n",
    "data.tail()\n",
    "\n",
    "data.shape\n",
    "\n",
    "data.columns\n",
    "\n",
    "data.isnull().sum()\n",
    "\n",
    "data.info()\n",
    "\n",
    "As we can see many of the columns are object type so let us see valuecounts of them to see any missing value \n",
    "\n",
    "obj_col = ['Score','PlayedGames','WonGames','DrawnGames','LostGames',\n",
    "           'BasketScored','BasketGiven','TeamLaunch'] \n",
    "\n",
    "data = data.drop(['TournamentChampion','Runner-up'],axis= 1)\n",
    "\n",
    "#before reformatting\n",
    "data['TeamLaunch'][:10]\n",
    "\n",
    "#reformatting teamLaunch col\n",
    "data['TeamLaunch'] = data['TeamLaunch'].str.slice(start = 0,stop = 4)\n",
    "\n",
    "#afterreformatting\n",
    "data['TeamLaunch'][:10]\n",
    "\n",
    "data.describe().T\n",
    "\n",
    "##### we can see that some of the dataypes are object type so we can convert them into int64 type and perform describe fuunction and plot them\n",
    "\n",
    "\n",
    "for col in obj_col:\n",
    "    data[col] = pd.to_numeric(data[col])\n",
    "\n",
    "data.info()\n",
    "\n",
    "data.head()\n",
    "\n",
    "data.describe().T\n",
    "\n",
    "data['WinPercent'] = round((data['WonGames']+data['DrawnGames'])/data['PlayedGames']*100,2)\n",
    "data.head()\n",
    "\n",
    "data['LossPercent'] = round(data['LostGames']/data['PlayedGames']*100,2)\n",
    "data.head()\n",
    "\n",
    "data['WinLossRatio'] = round(data['WonGames']/data['LostGames'],2)\n",
    "data.head(50)\n",
    "\n",
    "# Data Visualization\n",
    "\n",
    "### TOP 10 TEAMS\n",
    "\n",
    "top_winlossratio_df = data['WinLossRatio'].sort_values(ascending = False).head(10)\n",
    "sns.barplot(y = top_winlossratio_df,x =top_winlossratio_df.index.values)\n",
    "plt.xlabel(\"TEAMS\")\n",
    "plt.ylabel(\"Teams winloss ratio\")\n",
    "plt.xticks(rotation = 90)\n",
    "plt.grid(axis = 'x')\n",
    "#plt.figure(figsize = (20,20))\n",
    "plt.show() \n",
    "\n",
    "top_winpercent_df = data['WinPercent'].sort_values(ascending = False).head(10)\n",
    "top_winpercent_df.head()\n",
    "sns.barplot(y = top_winpercent_df,x = top_winpercent_df.index.values)\n",
    "plt.xlabel(\"TEAMS\")\n",
    "plt.ylabel(\"Teams WinPercent\")\n",
    "plt.xticks(rotation = 90)\n",
    "plt.grid(axis = 'x')\n",
    "#plt.figure(figsize = (20,20))\n",
    "plt.show() \n",
    "\n",
    "bottom_lossers_df = data['LossPercent'].sort_values(ascending = True).head(10)\n",
    "sns.barplot(y = bottom_lossers_df,x = bottom_lossers_df.index.values)\n",
    "plt.xlabel(\"TEAMS\")\n",
    "plt.ylabel(\"Teams losspercentage\")\n",
    "plt.xticks(rotation = 90)\n",
    "plt.grid(axis = 'x')\n",
    "#plt.figure(figsize = (20,20))\n",
    "plt.show() \n",
    "\n",
    "top_scorer_df = data['Score'].sort_values(ascending = False).head(10)\n",
    "sns.barplot(y = top_scorer_df,x =top_scorer_df.index.values)\n",
    "plt.xlabel(\"TEAMS\")\n",
    "plt.ylabel(\"Teams score\")\n",
    "plt.xticks(rotation = 90)\n",
    "plt.grid(axis = 'x')\n",
    "#plt.figure(figsize = (20,20))\n",
    "plt.show() \n",
    "\n",
    "top_basketscore_df = data['BasketScored'].sort_values(ascending = False).head(10)\n",
    "sns.barplot(y = top_basketscore_df,x = top_basketscore_df.index.values)\n",
    "plt.xlabel(\"TEAMS\")\n",
    "plt.ylabel(\"Teams Basketscore\")\n",
    "plt.xticks(rotation = 90)\n",
    "plt.grid(axis = 'x')\n",
    "#plt.figure(figsize = (20,20))\n",
    "plt.show() \n",
    "\n",
    "### Total\n",
    "\n",
    "sns.set(rc={'figure.figsize':(11.7,8.27)})\n",
    "\n",
    "sns.barplot(y = data['Score'],x = data.index.values)\n",
    "plt.xlabel(\"TEAMS\")\n",
    "plt.ylabel(\"Teams Score\")\n",
    "plt.xticks(rotation = 90)\n",
    "plt.grid(axis = 'x')\n",
    "#plt.figure(figsize = (20,20))\n",
    "plt.show()\n",
    "\n",
    "sns.barplot(y = data['WonGames'],x = data.index.values)\n",
    "plt.xlabel(\"TEAMS\")\n",
    "plt.ylabel(\"Teams WonGames\")\n",
    "plt.xticks(rotation = 90)\n",
    "plt.grid(axis = 'x')\n",
    "#plt.figure(figsize = (20,20))\n",
    "plt.show()\n",
    "\n",
    "sns.barplot(y = data['BasketScored'],x = data.index.values)\n",
    "plt.xlabel(\"TEAMS\")\n",
    "plt.ylabel(\"Teams BasketScored\")\n",
    "plt.xticks(rotation = 90)\n",
    "plt.grid(axis = 'x')\n",
    "plt.show()\n",
    "\n",
    "sns.barplot(y = data['WinPercent'],x = data.index.values)\n",
    "plt.xlabel(\"TEAMS\")\n",
    "plt.ylabel(\"Teams WinPercent\")\n",
    "plt.xticks(rotation = 90)\n",
    "plt.grid(axis = 'x')\n",
    "#plt.figure(figsize = (20,20))\n",
    "plt.show()\n",
    "\n",
    "''''Tournament', 'Score', 'PlayedGames', 'WonGames', 'DrawnGames',\n",
    "       'LostGames', 'BasketScored', 'BasketGiven', 'TournamentChampion',\n",
    "       'Runner-up', 'TeamLaunch', 'HighestPositionHeld' '''\n",
    "sns.boxplot(y = data['Score'])\n",
    "plt.show()\n",
    "sns.boxplot(y = data['WonGames'])\n",
    "plt.show()\n",
    "sns.boxplot(y = data['LostGames'])\n",
    "plt.show()\n",
    "sns.boxplot(y = data['BasketScored'])\n",
    "plt.show()\n",
    "\n",
    "sns.pairplot(data)\n",
    "\n",
    "print(\"team Which has won most games = \",data[data['WonGames'] == data['WonGames'].max()].index.values[0])\n",
    "\n",
    "print(\"team Which has highest Winning Percentage = \",data[data['WinPercent'] == data['WinPercent'].max()].index.values[0])\n",
    "\n",
    "print(\"team Which has lowest loss perecentage  = \",data[data['LossPercent'] == data['LossPercent'].min()].index.values[0])\n",
    "\n",
    "print(\"team Which has highest win to loss ratio  = \",data[data['WinLossRatio'] == data['WinLossRatio'].max()].index.values[0])\n",
    "\n",
    "print(\"team Which has more scored more baskets = \",data[data['BasketScored'] == data['BasketScored'].max()].index.values[0])\n",
    "\n",
    "print(\"team Which has more scored more score = \",data[data['Score'] == data['Score'].max()].index.values[0])\n",
    "\n",
    "# I would recommend to go with team 1\n",
    "\n",
    "### It has Secured 1 place in all above stats \n",
    "\n",
    "#### if 1 is booked then Go for team 2 \n",
    "#### if 2 is booked then go for team 3\n",
    "#### if all above are booked then i would recommend team 21\n",
    "\n",
    "\n",
    "oldest_teams = data[data['TeamLaunch'] == data['TeamLaunch'].min()].index.values\n",
    "\n",
    "print(\"Oldest Teams are : \")\n",
    "for team in oldest_teams:\n",
    "    print(\"\\t \\t\\t\",team,data.loc[team,'TeamLaunch'])\n",
    "\n",
    "####  I Suggest the Association to to include \n",
    "      1 . To add team size or count of players\n",
    "      2 . Reduce number of null values \n",
    "      3 . Enter data in correct format \n",
    "\n"
   ]
  },
  {
   "cell_type": "code",
   "execution_count": null,
   "id": "66041596",
   "metadata": {},
   "outputs": [],
   "source": []
  }
 ],
 "metadata": {
  "kernelspec": {
   "display_name": "Python 3",
   "language": "python",
   "name": "python3"
  },
  "language_info": {
   "codemirror_mode": {
    "name": "ipython",
    "version": 3
   },
   "file_extension": ".py",
   "mimetype": "text/x-python",
   "name": "python",
   "nbconvert_exporter": "python",
   "pygments_lexer": "ipython3",
   "version": "3.8.10"
  }
 },
 "nbformat": 4,
 "nbformat_minor": 5
}
