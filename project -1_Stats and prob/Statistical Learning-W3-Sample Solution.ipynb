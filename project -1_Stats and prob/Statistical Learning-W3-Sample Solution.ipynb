{
 "cells": [
  {
   "cell_type": "markdown",
   "metadata": {
    "id": "5A9-pq9Zu4oC"
   },
   "source": [
    "<img src=\"http://drive.google.com/uc?export=view&id=1tpOCamr9aWz817atPnyXus8w5gJ3mIts\" width=500px>"
   ]
  },
  {
   "cell_type": "markdown",
   "metadata": {
    "id": "GKLbJvnqfkXS"
   },
   "source": [
    "# Part-I (EDA)"
   ]
  },
  {
   "cell_type": "markdown",
   "metadata": {
    "id": "ODR8ZrHXu3di"
   },
   "source": [
    "<h2>Importing Necessary Libraries </h2>"
   ]
  },
  {
   "cell_type": "code",
   "execution_count": null,
   "metadata": {
    "id": "JvOhUyLlu3do"
   },
   "outputs": [],
   "source": [
    "import warnings\n",
    "warnings.filterwarnings(\"ignore\")"
   ]
  },
  {
   "cell_type": "code",
   "execution_count": null,
   "metadata": {
    "id": "wmXgLZTju3dp"
   },
   "outputs": [],
   "source": [
    "import numpy as np\n",
    "import re\n",
    "import pandas as pd\n",
    "import scipy.stats as stats\n",
    "import matplotlib.pyplot as plt\n",
    "import seaborn as sns\n",
    "from math import factorial as f\n",
    "from pylab import rcParams\n",
    "rcParams['figure.figsize'] = 10, 15\n",
    "from statsmodels.stats.weightstats import ztest\n",
    "from scipy.stats import ttest_ind\n",
    "from scipy.stats import f_oneway\n",
    "from scipy import stats\n",
    "from statsmodels.stats.weightstats import ztest\n",
    "from scipy.stats import ttest_ind"
   ]
  },
  {
   "cell_type": "code",
   "execution_count": null,
   "metadata": {
    "id": "k8OMcDYgu3dp"
   },
   "outputs": [],
   "source": [
    "df=pd.read_csv('marketing_data.csv')"
   ]
  },
  {
   "cell_type": "code",
   "execution_count": null,
   "metadata": {
    "id": "Hm2-MPE5u3dq",
    "outputId": "13375e23-e8ed-4c18-f8a1-0361ff62dcc5"
   },
   "outputs": [
    {
     "data": {
      "text/html": [
       "<div>\n",
       "<style scoped>\n",
       "    .dataframe tbody tr th:only-of-type {\n",
       "        vertical-align: middle;\n",
       "    }\n",
       "\n",
       "    .dataframe tbody tr th {\n",
       "        vertical-align: top;\n",
       "    }\n",
       "\n",
       "    .dataframe thead th {\n",
       "        text-align: right;\n",
       "    }\n",
       "</style>\n",
       "<table border=\"1\" class=\"dataframe\">\n",
       "  <thead>\n",
       "    <tr style=\"text-align: right;\">\n",
       "      <th></th>\n",
       "      <th>ID</th>\n",
       "      <th>Year_Birth</th>\n",
       "      <th>Education</th>\n",
       "      <th>Marital_Status</th>\n",
       "      <th>Income</th>\n",
       "      <th>Kidhome</th>\n",
       "      <th>Teenhome</th>\n",
       "      <th>Dt_Customer</th>\n",
       "      <th>Recency</th>\n",
       "      <th>MntWines</th>\n",
       "      <th>...</th>\n",
       "      <th>NumStorePurchases</th>\n",
       "      <th>NumWebVisitsMonth</th>\n",
       "      <th>AcceptedCmp3</th>\n",
       "      <th>AcceptedCmp4</th>\n",
       "      <th>AcceptedCmp5</th>\n",
       "      <th>AcceptedCmp1</th>\n",
       "      <th>AcceptedCmp2</th>\n",
       "      <th>Response</th>\n",
       "      <th>Complain</th>\n",
       "      <th>Country</th>\n",
       "    </tr>\n",
       "  </thead>\n",
       "  <tbody>\n",
       "    <tr>\n",
       "      <th>0</th>\n",
       "      <td>1826</td>\n",
       "      <td>1970</td>\n",
       "      <td>Graduation</td>\n",
       "      <td>Divorced</td>\n",
       "      <td>$84,835.00</td>\n",
       "      <td>0</td>\n",
       "      <td>0</td>\n",
       "      <td>6/16/14</td>\n",
       "      <td>0</td>\n",
       "      <td>189</td>\n",
       "      <td>...</td>\n",
       "      <td>6</td>\n",
       "      <td>1</td>\n",
       "      <td>0</td>\n",
       "      <td>0</td>\n",
       "      <td>0</td>\n",
       "      <td>0</td>\n",
       "      <td>0</td>\n",
       "      <td>1</td>\n",
       "      <td>0</td>\n",
       "      <td>SP</td>\n",
       "    </tr>\n",
       "    <tr>\n",
       "      <th>1</th>\n",
       "      <td>1</td>\n",
       "      <td>1961</td>\n",
       "      <td>Graduation</td>\n",
       "      <td>Single</td>\n",
       "      <td>$57,091.00</td>\n",
       "      <td>0</td>\n",
       "      <td>0</td>\n",
       "      <td>6/15/14</td>\n",
       "      <td>0</td>\n",
       "      <td>464</td>\n",
       "      <td>...</td>\n",
       "      <td>7</td>\n",
       "      <td>5</td>\n",
       "      <td>0</td>\n",
       "      <td>0</td>\n",
       "      <td>0</td>\n",
       "      <td>0</td>\n",
       "      <td>1</td>\n",
       "      <td>1</td>\n",
       "      <td>0</td>\n",
       "      <td>CA</td>\n",
       "    </tr>\n",
       "    <tr>\n",
       "      <th>2</th>\n",
       "      <td>10476</td>\n",
       "      <td>1958</td>\n",
       "      <td>Graduation</td>\n",
       "      <td>Married</td>\n",
       "      <td>$67,267.00</td>\n",
       "      <td>0</td>\n",
       "      <td>1</td>\n",
       "      <td>5/13/14</td>\n",
       "      <td>0</td>\n",
       "      <td>134</td>\n",
       "      <td>...</td>\n",
       "      <td>5</td>\n",
       "      <td>2</td>\n",
       "      <td>0</td>\n",
       "      <td>0</td>\n",
       "      <td>0</td>\n",
       "      <td>0</td>\n",
       "      <td>0</td>\n",
       "      <td>0</td>\n",
       "      <td>0</td>\n",
       "      <td>US</td>\n",
       "    </tr>\n",
       "    <tr>\n",
       "      <th>3</th>\n",
       "      <td>1386</td>\n",
       "      <td>1967</td>\n",
       "      <td>Graduation</td>\n",
       "      <td>Together</td>\n",
       "      <td>$32,474.00</td>\n",
       "      <td>1</td>\n",
       "      <td>1</td>\n",
       "      <td>5/11/14</td>\n",
       "      <td>0</td>\n",
       "      <td>10</td>\n",
       "      <td>...</td>\n",
       "      <td>2</td>\n",
       "      <td>7</td>\n",
       "      <td>0</td>\n",
       "      <td>0</td>\n",
       "      <td>0</td>\n",
       "      <td>0</td>\n",
       "      <td>0</td>\n",
       "      <td>0</td>\n",
       "      <td>0</td>\n",
       "      <td>AUS</td>\n",
       "    </tr>\n",
       "    <tr>\n",
       "      <th>4</th>\n",
       "      <td>5371</td>\n",
       "      <td>1989</td>\n",
       "      <td>Graduation</td>\n",
       "      <td>Single</td>\n",
       "      <td>$21,474.00</td>\n",
       "      <td>1</td>\n",
       "      <td>0</td>\n",
       "      <td>4/8/14</td>\n",
       "      <td>0</td>\n",
       "      <td>6</td>\n",
       "      <td>...</td>\n",
       "      <td>2</td>\n",
       "      <td>7</td>\n",
       "      <td>1</td>\n",
       "      <td>0</td>\n",
       "      <td>0</td>\n",
       "      <td>0</td>\n",
       "      <td>0</td>\n",
       "      <td>1</td>\n",
       "      <td>0</td>\n",
       "      <td>SP</td>\n",
       "    </tr>\n",
       "  </tbody>\n",
       "</table>\n",
       "<p>5 rows × 28 columns</p>\n",
       "</div>"
      ],
      "text/plain": [
       "      ID  Year_Birth   Education Marital_Status      Income   Kidhome  \\\n",
       "0   1826        1970  Graduation       Divorced  $84,835.00         0   \n",
       "1      1        1961  Graduation         Single  $57,091.00         0   \n",
       "2  10476        1958  Graduation        Married  $67,267.00         0   \n",
       "3   1386        1967  Graduation       Together  $32,474.00         1   \n",
       "4   5371        1989  Graduation         Single  $21,474.00         1   \n",
       "\n",
       "   Teenhome Dt_Customer  Recency  MntWines   ...     NumStorePurchases  \\\n",
       "0         0     6/16/14        0       189   ...                     6   \n",
       "1         0     6/15/14        0       464   ...                     7   \n",
       "2         1     5/13/14        0       134   ...                     5   \n",
       "3         1     5/11/14        0        10   ...                     2   \n",
       "4         0      4/8/14        0         6   ...                     2   \n",
       "\n",
       "   NumWebVisitsMonth  AcceptedCmp3  AcceptedCmp4  AcceptedCmp5  AcceptedCmp1  \\\n",
       "0                  1             0             0             0             0   \n",
       "1                  5             0             0             0             0   \n",
       "2                  2             0             0             0             0   \n",
       "3                  7             0             0             0             0   \n",
       "4                  7             1             0             0             0   \n",
       "\n",
       "   AcceptedCmp2  Response  Complain  Country  \n",
       "0             0         1         0       SP  \n",
       "1             1         1         0       CA  \n",
       "2             0         0         0       US  \n",
       "3             0         0         0      AUS  \n",
       "4             0         1         0       SP  \n",
       "\n",
       "[5 rows x 28 columns]"
      ]
     },
     "execution_count": 4,
     "metadata": {
      "tags": []
     },
     "output_type": "execute_result"
    }
   ],
   "source": [
    "df.head(n=5)"
   ]
  },
  {
   "cell_type": "code",
   "execution_count": null,
   "metadata": {
    "id": "O3U1wUGju3dr",
    "outputId": "f7e45297-f89e-4c76-9e99-0d01895425be"
   },
   "outputs": [
    {
     "data": {
      "text/html": [
       "<div>\n",
       "<style scoped>\n",
       "    .dataframe tbody tr th:only-of-type {\n",
       "        vertical-align: middle;\n",
       "    }\n",
       "\n",
       "    .dataframe tbody tr th {\n",
       "        vertical-align: top;\n",
       "    }\n",
       "\n",
       "    .dataframe thead th {\n",
       "        text-align: right;\n",
       "    }\n",
       "</style>\n",
       "<table border=\"1\" class=\"dataframe\">\n",
       "  <thead>\n",
       "    <tr style=\"text-align: right;\">\n",
       "      <th></th>\n",
       "      <th>ID</th>\n",
       "      <th>Year_Birth</th>\n",
       "      <th>Education</th>\n",
       "      <th>Marital_Status</th>\n",
       "      <th>Income</th>\n",
       "      <th>Kidhome</th>\n",
       "      <th>Teenhome</th>\n",
       "      <th>Dt_Customer</th>\n",
       "      <th>Recency</th>\n",
       "      <th>MntWines</th>\n",
       "      <th>...</th>\n",
       "      <th>NumStorePurchases</th>\n",
       "      <th>NumWebVisitsMonth</th>\n",
       "      <th>AcceptedCmp3</th>\n",
       "      <th>AcceptedCmp4</th>\n",
       "      <th>AcceptedCmp5</th>\n",
       "      <th>AcceptedCmp1</th>\n",
       "      <th>AcceptedCmp2</th>\n",
       "      <th>Response</th>\n",
       "      <th>Complain</th>\n",
       "      <th>Country</th>\n",
       "    </tr>\n",
       "  </thead>\n",
       "  <tbody>\n",
       "    <tr>\n",
       "      <th>2235</th>\n",
       "      <td>10142</td>\n",
       "      <td>1976</td>\n",
       "      <td>PhD</td>\n",
       "      <td>Divorced</td>\n",
       "      <td>$66,476.00</td>\n",
       "      <td>0</td>\n",
       "      <td>1</td>\n",
       "      <td>3/7/13</td>\n",
       "      <td>99</td>\n",
       "      <td>372</td>\n",
       "      <td>...</td>\n",
       "      <td>11</td>\n",
       "      <td>4</td>\n",
       "      <td>0</td>\n",
       "      <td>0</td>\n",
       "      <td>0</td>\n",
       "      <td>0</td>\n",
       "      <td>0</td>\n",
       "      <td>0</td>\n",
       "      <td>0</td>\n",
       "      <td>US</td>\n",
       "    </tr>\n",
       "    <tr>\n",
       "      <th>2236</th>\n",
       "      <td>5263</td>\n",
       "      <td>1977</td>\n",
       "      <td>2n Cycle</td>\n",
       "      <td>Married</td>\n",
       "      <td>$31,056.00</td>\n",
       "      <td>1</td>\n",
       "      <td>0</td>\n",
       "      <td>1/22/13</td>\n",
       "      <td>99</td>\n",
       "      <td>5</td>\n",
       "      <td>...</td>\n",
       "      <td>3</td>\n",
       "      <td>8</td>\n",
       "      <td>0</td>\n",
       "      <td>0</td>\n",
       "      <td>0</td>\n",
       "      <td>0</td>\n",
       "      <td>0</td>\n",
       "      <td>0</td>\n",
       "      <td>0</td>\n",
       "      <td>SP</td>\n",
       "    </tr>\n",
       "    <tr>\n",
       "      <th>2237</th>\n",
       "      <td>22</td>\n",
       "      <td>1976</td>\n",
       "      <td>Graduation</td>\n",
       "      <td>Divorced</td>\n",
       "      <td>$46,310.00</td>\n",
       "      <td>1</td>\n",
       "      <td>0</td>\n",
       "      <td>12/3/12</td>\n",
       "      <td>99</td>\n",
       "      <td>185</td>\n",
       "      <td>...</td>\n",
       "      <td>5</td>\n",
       "      <td>8</td>\n",
       "      <td>0</td>\n",
       "      <td>0</td>\n",
       "      <td>0</td>\n",
       "      <td>0</td>\n",
       "      <td>0</td>\n",
       "      <td>0</td>\n",
       "      <td>0</td>\n",
       "      <td>SP</td>\n",
       "    </tr>\n",
       "    <tr>\n",
       "      <th>2238</th>\n",
       "      <td>528</td>\n",
       "      <td>1978</td>\n",
       "      <td>Graduation</td>\n",
       "      <td>Married</td>\n",
       "      <td>$65,819.00</td>\n",
       "      <td>0</td>\n",
       "      <td>0</td>\n",
       "      <td>11/29/12</td>\n",
       "      <td>99</td>\n",
       "      <td>267</td>\n",
       "      <td>...</td>\n",
       "      <td>10</td>\n",
       "      <td>3</td>\n",
       "      <td>0</td>\n",
       "      <td>0</td>\n",
       "      <td>0</td>\n",
       "      <td>0</td>\n",
       "      <td>0</td>\n",
       "      <td>0</td>\n",
       "      <td>0</td>\n",
       "      <td>IND</td>\n",
       "    </tr>\n",
       "    <tr>\n",
       "      <th>2239</th>\n",
       "      <td>4070</td>\n",
       "      <td>1969</td>\n",
       "      <td>PhD</td>\n",
       "      <td>Married</td>\n",
       "      <td>$94,871.00</td>\n",
       "      <td>0</td>\n",
       "      <td>2</td>\n",
       "      <td>9/1/12</td>\n",
       "      <td>99</td>\n",
       "      <td>169</td>\n",
       "      <td>...</td>\n",
       "      <td>4</td>\n",
       "      <td>7</td>\n",
       "      <td>0</td>\n",
       "      <td>1</td>\n",
       "      <td>1</td>\n",
       "      <td>0</td>\n",
       "      <td>0</td>\n",
       "      <td>1</td>\n",
       "      <td>0</td>\n",
       "      <td>CA</td>\n",
       "    </tr>\n",
       "  </tbody>\n",
       "</table>\n",
       "<p>5 rows × 28 columns</p>\n",
       "</div>"
      ],
      "text/plain": [
       "         ID  Year_Birth   Education Marital_Status      Income   Kidhome  \\\n",
       "2235  10142        1976         PhD       Divorced  $66,476.00         0   \n",
       "2236   5263        1977    2n Cycle        Married  $31,056.00         1   \n",
       "2237     22        1976  Graduation       Divorced  $46,310.00         1   \n",
       "2238    528        1978  Graduation        Married  $65,819.00         0   \n",
       "2239   4070        1969         PhD        Married  $94,871.00         0   \n",
       "\n",
       "      Teenhome Dt_Customer  Recency  MntWines   ...     NumStorePurchases  \\\n",
       "2235         1      3/7/13       99       372   ...                    11   \n",
       "2236         0     1/22/13       99         5   ...                     3   \n",
       "2237         0     12/3/12       99       185   ...                     5   \n",
       "2238         0    11/29/12       99       267   ...                    10   \n",
       "2239         2      9/1/12       99       169   ...                     4   \n",
       "\n",
       "      NumWebVisitsMonth  AcceptedCmp3  AcceptedCmp4  AcceptedCmp5  \\\n",
       "2235                  4             0             0             0   \n",
       "2236                  8             0             0             0   \n",
       "2237                  8             0             0             0   \n",
       "2238                  3             0             0             0   \n",
       "2239                  7             0             1             1   \n",
       "\n",
       "      AcceptedCmp1  AcceptedCmp2  Response  Complain  Country  \n",
       "2235             0             0         0         0       US  \n",
       "2236             0             0         0         0       SP  \n",
       "2237             0             0         0         0       SP  \n",
       "2238             0             0         0         0      IND  \n",
       "2239             0             0         1         0       CA  \n",
       "\n",
       "[5 rows x 28 columns]"
      ]
     },
     "execution_count": 5,
     "metadata": {
      "tags": []
     },
     "output_type": "execute_result"
    }
   ],
   "source": [
    "df.tail(n=5)"
   ]
  },
  {
   "cell_type": "code",
   "execution_count": null,
   "metadata": {
    "id": "bhu7g0ieu3dr",
    "outputId": "ef5880a3-cf39-4c62-e954-4ebeb45014f6"
   },
   "outputs": [
    {
     "data": {
      "text/plain": [
       "(2240, 28)"
      ]
     },
     "execution_count": 6,
     "metadata": {
      "tags": []
     },
     "output_type": "execute_result"
    }
   ],
   "source": [
    "df.shape"
   ]
  },
  {
   "cell_type": "markdown",
   "metadata": {
    "id": "F4qUadBru3ds"
   },
   "source": [
    "- The dataset contains 2240 rows and 28 columns."
   ]
  },
  {
   "cell_type": "code",
   "execution_count": null,
   "metadata": {
    "id": "LS5LRu_Iu3ds",
    "outputId": "98692394-52e3-4014-9003-6db2bb5959ee"
   },
   "outputs": [
    {
     "name": "stdout",
     "output_type": "stream",
     "text": [
      "<class 'pandas.core.frame.DataFrame'>\n",
      "RangeIndex: 2240 entries, 0 to 2239\n",
      "Data columns (total 28 columns):\n",
      "ID                     2240 non-null int64\n",
      "Year_Birth             2240 non-null int64\n",
      "Education              2240 non-null object\n",
      "Marital_Status         2240 non-null object\n",
      " Income                2216 non-null object\n",
      "Kidhome                2240 non-null int64\n",
      "Teenhome               2240 non-null int64\n",
      "Dt_Customer            2240 non-null object\n",
      "Recency                2240 non-null int64\n",
      "MntWines               2240 non-null int64\n",
      "MntFruits              2240 non-null int64\n",
      "MntMeatProducts        2240 non-null int64\n",
      "MntFishProducts        2240 non-null int64\n",
      "MntSweetProducts       2240 non-null int64\n",
      "MntGoldProds           2240 non-null int64\n",
      "NumDealsPurchases      2240 non-null int64\n",
      "NumWebPurchases        2240 non-null int64\n",
      "NumCatalogPurchases    2240 non-null int64\n",
      "NumStorePurchases      2240 non-null int64\n",
      "NumWebVisitsMonth      2240 non-null int64\n",
      "AcceptedCmp3           2240 non-null int64\n",
      "AcceptedCmp4           2240 non-null int64\n",
      "AcceptedCmp5           2240 non-null int64\n",
      "AcceptedCmp1           2240 non-null int64\n",
      "AcceptedCmp2           2240 non-null int64\n",
      "Response               2240 non-null int64\n",
      "Complain               2240 non-null int64\n",
      "Country                2240 non-null object\n",
      "dtypes: int64(23), object(5)\n",
      "memory usage: 490.1+ KB\n"
     ]
    }
   ],
   "source": [
    "df.info()"
   ]
  },
  {
   "cell_type": "code",
   "execution_count": null,
   "metadata": {
    "id": "ilKuaOlQu3ds",
    "outputId": "1b069146-36c1-4286-8d23-24216c8cba9c"
   },
   "outputs": [
    {
     "name": "stdout",
     "output_type": "stream",
     "text": [
      "percentage of missing data of dataframe \n",
      " ID                     0.000000\n",
      "Year_Birth             0.000000\n",
      "Education              0.000000\n",
      "Marital_Status         0.000000\n",
      " Income                1.071429\n",
      "Kidhome                0.000000\n",
      "Teenhome               0.000000\n",
      "Dt_Customer            0.000000\n",
      "Recency                0.000000\n",
      "MntWines               0.000000\n",
      "MntFruits              0.000000\n",
      "MntMeatProducts        0.000000\n",
      "MntFishProducts        0.000000\n",
      "MntSweetProducts       0.000000\n",
      "MntGoldProds           0.000000\n",
      "NumDealsPurchases      0.000000\n",
      "NumWebPurchases        0.000000\n",
      "NumCatalogPurchases    0.000000\n",
      "NumStorePurchases      0.000000\n",
      "NumWebVisitsMonth      0.000000\n",
      "AcceptedCmp3           0.000000\n",
      "AcceptedCmp4           0.000000\n",
      "AcceptedCmp5           0.000000\n",
      "AcceptedCmp1           0.000000\n",
      "AcceptedCmp2           0.000000\n",
      "Response               0.000000\n",
      "Complain               0.000000\n",
      "Country                0.000000\n",
      "dtype: float64\n"
     ]
    }
   ],
   "source": [
    "print(\"percentage of missing data of dataframe \\n\",df.isnull().sum()/len(df)*100)"
   ]
  },
  {
   "cell_type": "markdown",
   "metadata": {
    "id": "fhRON1ABu3ds"
   },
   "source": [
    "- We can see none of the column has missing values except Income column.\n",
    "- As it is only 1% we will drop all the missing values column."
   ]
  },
  {
   "cell_type": "code",
   "execution_count": null,
   "metadata": {
    "id": "lMXrzpWou3dt"
   },
   "outputs": [],
   "source": [
    "df.dropna(inplace=True)"
   ]
  },
  {
   "cell_type": "code",
   "execution_count": null,
   "metadata": {
    "id": "u4udMQlku3dt",
    "outputId": "33d537df-22f4-4d6a-8823-5065ffd4a4ef"
   },
   "outputs": [
    {
     "name": "stdout",
     "output_type": "stream",
     "text": [
      "percentage of missing data of dataframe \n",
      " ID                     0.0\n",
      "Year_Birth             0.0\n",
      "Education              0.0\n",
      "Marital_Status         0.0\n",
      " Income                0.0\n",
      "Kidhome                0.0\n",
      "Teenhome               0.0\n",
      "Dt_Customer            0.0\n",
      "Recency                0.0\n",
      "MntWines               0.0\n",
      "MntFruits              0.0\n",
      "MntMeatProducts        0.0\n",
      "MntFishProducts        0.0\n",
      "MntSweetProducts       0.0\n",
      "MntGoldProds           0.0\n",
      "NumDealsPurchases      0.0\n",
      "NumWebPurchases        0.0\n",
      "NumCatalogPurchases    0.0\n",
      "NumStorePurchases      0.0\n",
      "NumWebVisitsMonth      0.0\n",
      "AcceptedCmp3           0.0\n",
      "AcceptedCmp4           0.0\n",
      "AcceptedCmp5           0.0\n",
      "AcceptedCmp1           0.0\n",
      "AcceptedCmp2           0.0\n",
      "Response               0.0\n",
      "Complain               0.0\n",
      "Country                0.0\n",
      "dtype: float64\n"
     ]
    }
   ],
   "source": [
    "print(\"percentage of missing data of dataframe \\n\",df.isnull().sum()/len(df)*100)"
   ]
  },
  {
   "cell_type": "markdown",
   "metadata": {
    "id": "mo6KCs7Wu3dt"
   },
   "source": [
    "<h3> Coverting Income column </h3>"
   ]
  },
  {
   "cell_type": "code",
   "execution_count": null,
   "metadata": {
    "id": "-ZfXXQbEu3dt"
   },
   "outputs": [],
   "source": [
    "df.columns = df.columns.str.replace(' ', '') "
   ]
  },
  {
   "cell_type": "code",
   "execution_count": null,
   "metadata": {
    "id": "LfH7ytw8u3du",
    "outputId": "d71ecbed-a2ca-498c-8357-7692637d7622"
   },
   "outputs": [
    {
     "data": {
      "text/plain": [
       "Index(['ID', 'Year_Birth', 'Education', 'Marital_Status', 'Income', 'Kidhome',\n",
       "       'Teenhome', 'Dt_Customer', 'Recency', 'MntWines', 'MntFruits',\n",
       "       'MntMeatProducts', 'MntFishProducts', 'MntSweetProducts',\n",
       "       'MntGoldProds', 'NumDealsPurchases', 'NumWebPurchases',\n",
       "       'NumCatalogPurchases', 'NumStorePurchases', 'NumWebVisitsMonth',\n",
       "       'AcceptedCmp3', 'AcceptedCmp4', 'AcceptedCmp5', 'AcceptedCmp1',\n",
       "       'AcceptedCmp2', 'Response', 'Complain', 'Country'],\n",
       "      dtype='object')"
      ]
     },
     "execution_count": 11,
     "metadata": {
      "tags": []
     },
     "output_type": "execute_result"
    }
   ],
   "source": [
    "df.columns"
   ]
  },
  {
   "cell_type": "code",
   "execution_count": null,
   "metadata": {
    "id": "XG3J4d9ju3du"
   },
   "outputs": [],
   "source": [
    "def map_income(x):\n",
    "    try:\n",
    "        x = x.strip('$')\n",
    "        x = re.sub(',','',x)\n",
    "        return float(x)\n",
    "    except:\n",
    "        return np.nan"
   ]
  },
  {
   "cell_type": "code",
   "execution_count": null,
   "metadata": {
    "id": "xRy5A2n5u3du"
   },
   "outputs": [],
   "source": [
    "df['Income'] = df['Income'].map(map_income)"
   ]
  },
  {
   "cell_type": "code",
   "execution_count": null,
   "metadata": {
    "id": "YtQQoRxbu3du",
    "outputId": "0b683a15-ac70-4103-9af7-843399ff0285"
   },
   "outputs": [
    {
     "data": {
      "text/html": [
       "<div>\n",
       "<style scoped>\n",
       "    .dataframe tbody tr th:only-of-type {\n",
       "        vertical-align: middle;\n",
       "    }\n",
       "\n",
       "    .dataframe tbody tr th {\n",
       "        vertical-align: top;\n",
       "    }\n",
       "\n",
       "    .dataframe thead th {\n",
       "        text-align: right;\n",
       "    }\n",
       "</style>\n",
       "<table border=\"1\" class=\"dataframe\">\n",
       "  <thead>\n",
       "    <tr style=\"text-align: right;\">\n",
       "      <th></th>\n",
       "      <th>ID</th>\n",
       "      <th>Year_Birth</th>\n",
       "      <th>Education</th>\n",
       "      <th>Marital_Status</th>\n",
       "      <th>Income</th>\n",
       "      <th>Kidhome</th>\n",
       "      <th>Teenhome</th>\n",
       "      <th>Dt_Customer</th>\n",
       "      <th>Recency</th>\n",
       "      <th>MntWines</th>\n",
       "      <th>...</th>\n",
       "      <th>NumStorePurchases</th>\n",
       "      <th>NumWebVisitsMonth</th>\n",
       "      <th>AcceptedCmp3</th>\n",
       "      <th>AcceptedCmp4</th>\n",
       "      <th>AcceptedCmp5</th>\n",
       "      <th>AcceptedCmp1</th>\n",
       "      <th>AcceptedCmp2</th>\n",
       "      <th>Response</th>\n",
       "      <th>Complain</th>\n",
       "      <th>Country</th>\n",
       "    </tr>\n",
       "  </thead>\n",
       "  <tbody>\n",
       "    <tr>\n",
       "      <th>0</th>\n",
       "      <td>1826</td>\n",
       "      <td>1970</td>\n",
       "      <td>Graduation</td>\n",
       "      <td>Divorced</td>\n",
       "      <td>84835.0</td>\n",
       "      <td>0</td>\n",
       "      <td>0</td>\n",
       "      <td>6/16/14</td>\n",
       "      <td>0</td>\n",
       "      <td>189</td>\n",
       "      <td>...</td>\n",
       "      <td>6</td>\n",
       "      <td>1</td>\n",
       "      <td>0</td>\n",
       "      <td>0</td>\n",
       "      <td>0</td>\n",
       "      <td>0</td>\n",
       "      <td>0</td>\n",
       "      <td>1</td>\n",
       "      <td>0</td>\n",
       "      <td>SP</td>\n",
       "    </tr>\n",
       "    <tr>\n",
       "      <th>1</th>\n",
       "      <td>1</td>\n",
       "      <td>1961</td>\n",
       "      <td>Graduation</td>\n",
       "      <td>Single</td>\n",
       "      <td>57091.0</td>\n",
       "      <td>0</td>\n",
       "      <td>0</td>\n",
       "      <td>6/15/14</td>\n",
       "      <td>0</td>\n",
       "      <td>464</td>\n",
       "      <td>...</td>\n",
       "      <td>7</td>\n",
       "      <td>5</td>\n",
       "      <td>0</td>\n",
       "      <td>0</td>\n",
       "      <td>0</td>\n",
       "      <td>0</td>\n",
       "      <td>1</td>\n",
       "      <td>1</td>\n",
       "      <td>0</td>\n",
       "      <td>CA</td>\n",
       "    </tr>\n",
       "    <tr>\n",
       "      <th>2</th>\n",
       "      <td>10476</td>\n",
       "      <td>1958</td>\n",
       "      <td>Graduation</td>\n",
       "      <td>Married</td>\n",
       "      <td>67267.0</td>\n",
       "      <td>0</td>\n",
       "      <td>1</td>\n",
       "      <td>5/13/14</td>\n",
       "      <td>0</td>\n",
       "      <td>134</td>\n",
       "      <td>...</td>\n",
       "      <td>5</td>\n",
       "      <td>2</td>\n",
       "      <td>0</td>\n",
       "      <td>0</td>\n",
       "      <td>0</td>\n",
       "      <td>0</td>\n",
       "      <td>0</td>\n",
       "      <td>0</td>\n",
       "      <td>0</td>\n",
       "      <td>US</td>\n",
       "    </tr>\n",
       "    <tr>\n",
       "      <th>3</th>\n",
       "      <td>1386</td>\n",
       "      <td>1967</td>\n",
       "      <td>Graduation</td>\n",
       "      <td>Together</td>\n",
       "      <td>32474.0</td>\n",
       "      <td>1</td>\n",
       "      <td>1</td>\n",
       "      <td>5/11/14</td>\n",
       "      <td>0</td>\n",
       "      <td>10</td>\n",
       "      <td>...</td>\n",
       "      <td>2</td>\n",
       "      <td>7</td>\n",
       "      <td>0</td>\n",
       "      <td>0</td>\n",
       "      <td>0</td>\n",
       "      <td>0</td>\n",
       "      <td>0</td>\n",
       "      <td>0</td>\n",
       "      <td>0</td>\n",
       "      <td>AUS</td>\n",
       "    </tr>\n",
       "    <tr>\n",
       "      <th>4</th>\n",
       "      <td>5371</td>\n",
       "      <td>1989</td>\n",
       "      <td>Graduation</td>\n",
       "      <td>Single</td>\n",
       "      <td>21474.0</td>\n",
       "      <td>1</td>\n",
       "      <td>0</td>\n",
       "      <td>4/8/14</td>\n",
       "      <td>0</td>\n",
       "      <td>6</td>\n",
       "      <td>...</td>\n",
       "      <td>2</td>\n",
       "      <td>7</td>\n",
       "      <td>1</td>\n",
       "      <td>0</td>\n",
       "      <td>0</td>\n",
       "      <td>0</td>\n",
       "      <td>0</td>\n",
       "      <td>1</td>\n",
       "      <td>0</td>\n",
       "      <td>SP</td>\n",
       "    </tr>\n",
       "  </tbody>\n",
       "</table>\n",
       "<p>5 rows × 28 columns</p>\n",
       "</div>"
      ],
      "text/plain": [
       "      ID  Year_Birth   Education Marital_Status   Income  Kidhome  Teenhome  \\\n",
       "0   1826        1970  Graduation       Divorced  84835.0        0         0   \n",
       "1      1        1961  Graduation         Single  57091.0        0         0   \n",
       "2  10476        1958  Graduation        Married  67267.0        0         1   \n",
       "3   1386        1967  Graduation       Together  32474.0        1         1   \n",
       "4   5371        1989  Graduation         Single  21474.0        1         0   \n",
       "\n",
       "  Dt_Customer  Recency  MntWines   ...     NumStorePurchases  \\\n",
       "0     6/16/14        0       189   ...                     6   \n",
       "1     6/15/14        0       464   ...                     7   \n",
       "2     5/13/14        0       134   ...                     5   \n",
       "3     5/11/14        0        10   ...                     2   \n",
       "4      4/8/14        0         6   ...                     2   \n",
       "\n",
       "   NumWebVisitsMonth  AcceptedCmp3  AcceptedCmp4  AcceptedCmp5  AcceptedCmp1  \\\n",
       "0                  1             0             0             0             0   \n",
       "1                  5             0             0             0             0   \n",
       "2                  2             0             0             0             0   \n",
       "3                  7             0             0             0             0   \n",
       "4                  7             1             0             0             0   \n",
       "\n",
       "   AcceptedCmp2  Response  Complain  Country  \n",
       "0             0         1         0       SP  \n",
       "1             1         1         0       CA  \n",
       "2             0         0         0       US  \n",
       "3             0         0         0      AUS  \n",
       "4             0         1         0       SP  \n",
       "\n",
       "[5 rows x 28 columns]"
      ]
     },
     "execution_count": 15,
     "metadata": {
      "tags": []
     },
     "output_type": "execute_result"
    }
   ],
   "source": [
    "df.head()"
   ]
  },
  {
   "cell_type": "code",
   "execution_count": null,
   "metadata": {
    "id": "EqaG-Rd1u3dv"
   },
   "outputs": [],
   "source": [
    "df['Dt_Customer']=pd.to_datetime(df['Dt_Customer'])"
   ]
  },
  {
   "cell_type": "markdown",
   "metadata": {
    "id": "gRkGvGdcf1Uj"
   },
   "source": [
    "# Part-II (Hypothesis Testing)"
   ]
  },
  {
   "cell_type": "markdown",
   "metadata": {
    "id": "ntcmQQ8tu3d3"
   },
   "source": [
    "<h2>Chi-Square Test </h2>"
   ]
  },
  {
   "cell_type": "markdown",
   "metadata": {
    "id": "IOV3tR1Yu3d3"
   },
   "source": [
    "\n",
    "Our Assumption for Hypothesis Testing\n",
    "\n",
    "**H0**= The Martial_Status and Education are independent\n",
    "\n",
    "**H1**= The Martial_Status and Education are dependent"
   ]
  },
  {
   "cell_type": "code",
   "execution_count": null,
   "metadata": {
    "id": "YlziFjXCu3d3",
    "outputId": "22eb4f79-8916-457d-cc3d-3b71140e8543"
   },
   "outputs": [
    {
     "name": "stdout",
     "output_type": "stream",
     "text": [
      "Chi square value :  26.776521697414516\n",
      "********************\n",
      "P value :  0.5304403824967148\n",
      "********************\n",
      "Degree of freedom :  28\n",
      "********************\n",
      "Expected Frequency Count matrix :  [[1.80505415e-01 4.87364621e-02 1.00722022e+00 3.29422383e-01\n",
      "  4.34115523e-01]\n",
      " [2.70758123e-01 7.31046931e-02 1.51083032e+00 4.94133574e-01\n",
      "  6.51173285e-01]\n",
      " [2.09386282e+01 5.65342960e+00 1.16837545e+02 3.82129964e+01\n",
      "  5.03574007e+01]\n",
      " [7.73465704e+01 2.08835740e+01 4.31593863e+02 1.41157491e+02\n",
      "  1.86018502e+02]\n",
      " [4.25090253e+01 1.14774368e+01 2.37200361e+02 7.75789711e+01\n",
      "  1.02234206e+02]\n",
      " [5.17148014e+01 1.39629964e+01 2.88568592e+02 9.43795126e+01\n",
      "  1.24374097e+02]\n",
      " [6.85920578e+00 1.85198556e+00 3.82743682e+01 1.25180505e+01\n",
      "  1.64963899e+01]\n",
      " [1.80505415e-01 4.87364621e-02 1.00722022e+00 3.29422383e-01\n",
      "  4.34115523e-01]]\n",
      "********************\n",
      "\t Since the p-value, 0.53 > 0.05 (alpha) the difference is not significant and,\n",
      "    \t we fail to reject the Null hypothesis\n"
     ]
    }
   ],
   "source": [
    "alpha=0.05\n",
    "martial_chi_2,martial_p_val,martial_deg_free,martial_freq_count=stats.chi2_contingency(pd.crosstab(df['Marital_Status'],df['Education']))\n",
    "print(\"Chi square value : \",martial_chi_2)\n",
    "print(\"*\"*20)\n",
    "print(\"P value : \",martial_p_val)\n",
    "print(\"*\"*20)\n",
    "print(\"Degree of freedom : \",martial_deg_free)\n",
    "print(\"*\"*20)\n",
    "print(\"Expected Frequency Count matrix : \",martial_freq_count)\n",
    "print(\"*\"*20)\n",
    "if martial_p_val <= alpha:\n",
    "    print(f'Since the p-value, {round(martial_p_val, 3)} < {alpha} (alpha) the difference is significant and we reject the Null hypothesis')\n",
    "else:\n",
    "    print(f'''\\t Since the p-value, {round(martial_p_val,3)} > {alpha} (alpha) the difference is not significant and,\n",
    "    \\t we fail to reject the Null hypothesis''')"
   ]
  },
  {
   "cell_type": "markdown",
   "metadata": {
    "id": "FF9u-BJgu3d3"
   },
   "source": [
    "<h2>Z-test </h2>"
   ]
  },
  {
   "cell_type": "markdown",
   "metadata": {
    "id": "ZR0HzulJu3d4"
   },
   "source": [
    "Is there any significant difference in the income of the customers who are graduates and the customers who PhD holders? \n",
    "    \n",
    "Null hypothesis (Ho) : There is no difference between the two means\n",
    "\n",
    "Alternate hypothesis (Ha) : There is significant difference between the two means"
   ]
  },
  {
   "cell_type": "code",
   "execution_count": null,
   "metadata": {
    "id": "M2xpM8chu3d4",
    "outputId": "0e09bb5d-c4b1-499b-c774-97a6fa1fce12"
   },
   "outputs": [
    {
     "name": "stdout",
     "output_type": "stream",
     "text": [
      "Since the p-value, 0.016 < 0.05 (alpha) the difference is significant and we reject the Null hypothesis\n"
     ]
    }
   ],
   "source": [
    "sample1 = df.loc[df.Education == 'Graduation', 'Income']\n",
    "sample2 = df.loc[df.Education =='PhD', 'Income']\n",
    "\n",
    "alpha = 0.05   # Let's consider a significance level of 5%\n",
    "\n",
    "test_statistic, p_value = ztest(sample1, sample2)\n",
    "\n",
    "if p_value <= alpha:\n",
    "    print(f'Since the p-value, {round(p_value, 3)} < {alpha} (alpha) the difference is significant and we reject the Null hypothesis')\n",
    "else:\n",
    "    print(f'''\\t Since the p-value, {round(p_value,3)} > {alpha} (alpha) the difference is not significant and,\n",
    "    \\t we fail to reject the Null hypothesis''')"
   ]
  },
  {
   "cell_type": "markdown",
   "metadata": {
    "id": "BhdZspLUu3d4"
   },
   "source": [
    "<h2>ANOVA </h2>"
   ]
  },
  {
   "cell_type": "markdown",
   "metadata": {
    "id": "T-wTam3fu3d4"
   },
   "source": [
    "Null Hypothesis(Ho): Average Income by All educations  are the same\n",
    "\n",
    "Alternative Hypothesis(Ha): Average Income  by all educations  are  different"
   ]
  },
  {
   "cell_type": "code",
   "execution_count": null,
   "metadata": {
    "id": "-cbzFL1lu3d4",
    "outputId": "366adbed-7050-4d37-ccdc-1cbfa3d3fd9b"
   },
   "outputs": [
    {
     "data": {
      "text/plain": [
       "Graduation    1116\n",
       "PhD            481\n",
       "Master         365\n",
       "2n Cycle       200\n",
       "Basic           54\n",
       "Name: Education, dtype: int64"
      ]
     },
     "execution_count": 32,
     "metadata": {
      "tags": []
     },
     "output_type": "execute_result"
    }
   ],
   "source": [
    "df['Education'].value_counts()"
   ]
  },
  {
   "cell_type": "code",
   "execution_count": null,
   "metadata": {
    "id": "asnEblQUu3d5"
   },
   "outputs": [],
   "source": [
    "graduates=df.loc[df.Education == 'Graduation', 'Income']\n",
    "phd=df.loc[df.Education == 'PhD', 'Income']\n",
    "master=df.loc[df.Education == 'Master', 'Income']\n",
    "cycle=df.loc[df.Education == '2n Cycle', 'Income']\n",
    "basic=df.loc[df.Education == 'Basic', 'Income']"
   ]
  },
  {
   "cell_type": "code",
   "execution_count": null,
   "metadata": {
    "id": "vR6StXmwu3d5",
    "outputId": "101ff00f-8979-4796-f307-ee830047141d"
   },
   "outputs": [
    {
     "data": {
      "image/png": "[encoded data removed]",
      "text/plain": [
       "<Figure size 1080x432 with 1 Axes>"
      ]
     },
     "metadata": {
      "tags": []
     },
     "output_type": "display_data"
    }
   ],
   "source": [
    "plt.figure(figsize=(15,6))\n",
    "sns.distplot(graduates, color = 'Red', label = 'Graduates')\n",
    "sns.distplot(phd, color = 'violet', label = 'Phd')\n",
    "sns.distplot(master, color = 'magenta', label = 'master')\n",
    "sns.distplot(cycle, color = 'silver', label = 'cycle')\n",
    "sns.distplot(basic, color = 'silver', label = 'basic')\n",
    "plt.legend()\n",
    "plt.show()"
   ]
  },
  {
   "cell_type": "code",
   "execution_count": null,
   "metadata": {
    "id": "1_5hRec4u3d5",
    "outputId": "948bc319-7a41-43c3-a5ba-cb3138650f8c"
   },
   "outputs": [
    {
     "name": "stdout",
     "output_type": "stream",
     "text": [
      "1.6677281316366318e-22\n",
      "********************\n",
      "Since the p-value, 0.0 < 0.05 (alpha) the difference is significant and we reject the Null hypothesis\n"
     ]
    }
   ],
   "source": [
    "stat, p_value = f_oneway(graduates,phd,master,cycle,basic)\n",
    "alpha = 0.05\n",
    "print(p_value)\n",
    "print(\"*\"*20)\n",
    "if p_value <= alpha:\n",
    "    print(f'Since the p-value, {round(p_value, 3)} < {alpha} (alpha) the difference is significant and we reject the Null hypothesis')\n",
    "else:\n",
    "    print(f'''\\t Since the p-value, {round(p_value,3)} > {alpha} (alpha) the difference is not significant and,\n",
    "    \\t we fail to reject the Null hypothesis''')"
   ]
  },
  {
   "cell_type": "markdown",
   "metadata": {
    "id": "zLfIN8D_u3d5"
   },
   "source": [
    "<h1>Marital Status Vs Income </h1>"
   ]
  },
  {
   "cell_type": "code",
   "execution_count": null,
   "metadata": {
    "id": "lGGEmF_ju3d5",
    "outputId": "2b384b1a-d5a4-4ebb-ec74-974519634d72"
   },
   "outputs": [
    {
     "data": {
      "text/plain": [
       "Married     857\n",
       "Together    573\n",
       "Single      471\n",
       "Divorced    232\n",
       "Widow        76\n",
       "Alone         3\n",
       "YOLO          2\n",
       "Absurd        2\n",
       "Name: Marital_Status, dtype: int64"
      ]
     },
     "execution_count": 36,
     "metadata": {
      "tags": []
     },
     "output_type": "execute_result"
    }
   ],
   "source": [
    "df['Marital_Status'].value_counts()"
   ]
  },
  {
   "cell_type": "code",
   "execution_count": null,
   "metadata": {
    "id": "Av_IEpIhu3d5",
    "outputId": "279a6aaa-3c26-47ca-85e4-5b2eddb8e345"
   },
   "outputs": [
    {
     "name": "stdout",
     "output_type": "stream",
     "text": [
      "\t Since the p-value, 0.558 > 0.05 (alpha) the difference is not significant and,\n",
      "    \t we fail to reject the Null hypothesis\n"
     ]
    }
   ],
   "source": [
    "sample1 = df.loc[df.Marital_Status == 'Married', 'Income']\n",
    "sample2 = df.loc[df.Marital_Status =='Single', 'Income']\n",
    "\n",
    "alpha = 0.05   # Let's consider a significance level of 5%\n",
    "\n",
    "test_statistic, p_value = ztest(sample1, sample2)\n",
    "\n",
    "if p_value <= alpha:\n",
    "    print(f'Since the p-value, {round(p_value, 3)} < {alpha} (alpha) the difference is significant and we reject the Null hypothesis')\n",
    "else:\n",
    "    print(f'''\\t Since the p-value, {round(p_value,3)} > {alpha} (alpha) the difference is not significant and,\n",
    "    \\t we fail to reject the Null hypothesis''')"
   ]
  },
  {
   "cell_type": "code",
   "execution_count": null,
   "metadata": {
    "id": "sMJ2hbpVu3d6"
   },
   "outputs": [],
   "source": [
    "married=df.loc[df.Marital_Status == 'Married', 'Income']\n",
    "single=df.loc[df.Marital_Status == 'Single', 'Income']\n",
    "together=df.loc[df.Marital_Status == 'Together', 'Income']\n",
    "divorced=df.loc[df.Marital_Status == 'Divorced', 'Income']\n",
    "widow=df.loc[df.Marital_Status == 'Widow', 'Income']"
   ]
  },
  {
   "cell_type": "code",
   "execution_count": null,
   "metadata": {
    "id": "Z5as4oiLu3d6",
    "outputId": "817ffbd5-cf3f-4bcc-f06e-ce34c6556c1a"
   },
   "outputs": [
    {
     "data": {
      "image/png": "[encoded data removed]",
      "text/plain": [
       "<Figure size 1080x432 with 1 Axes>"
      ]
     },
     "metadata": {
      "tags": []
     },
     "output_type": "display_data"
    }
   ],
   "source": [
    "plt.figure(figsize=(15,6))\n",
    "sns.distplot(married, color = 'Red', label = 'married')\n",
    "sns.distplot(single, color = 'violet', label = 'single')\n",
    "sns.distplot(together, color = 'magenta', label = 'together')\n",
    "sns.distplot(divorced, color = 'silver', label = 'divorced')\n",
    "sns.distplot(widow, color = 'silver', label = 'widow')\n",
    "plt.legend()\n",
    "plt.show()"
   ]
  },
  {
   "cell_type": "code",
   "execution_count": null,
   "metadata": {
    "id": "KD9P_XSuu3d6",
    "outputId": "c22d8396-e392-453b-c19a-7f0f4bf758ed"
   },
   "outputs": [
    {
     "name": "stdout",
     "output_type": "stream",
     "text": [
      "0.3194326333294853\n",
      "********************\n",
      "\t Since the p-value, 0.319 > 0.05 (alpha) the difference is not significant and,\n",
      "    \t we fail to reject the Null hypothesis\n"
     ]
    }
   ],
   "source": [
    "stat, p_value = f_oneway(married,single,together,divorced,widow)\n",
    "alpha = 0.05\n",
    "print(p_value)\n",
    "print(\"*\"*20)\n",
    "if p_value <= alpha:\n",
    "    print(f'Since the p-value, {round(p_value, 3)} < {alpha} (alpha) the difference is significant and we reject the Null hypothesis')\n",
    "else:\n",
    "    print(f'''\\t Since the p-value, {round(p_value,3)} > {alpha} (alpha) the difference is not significant and,\n",
    "    \\t we fail to reject the Null hypothesis''')"
   ]
  },
  {
   "cell_type": "markdown",
   "metadata": {
    "id": "_Rcyq6mKu3d6"
   },
   "source": [
    "<h3>END </h3>"
   ]
  },
  {
   "cell_type": "markdown",
   "metadata": {
    "id": "hNzhyAfmu3dv"
   },
   "source": [
    "# Additional Exhaustive EDA (Optional) "
   ]
  },
  {
   "cell_type": "code",
   "execution_count": null,
   "metadata": {
    "id": "slbVneT2u3dv",
    "outputId": "1ad88ed2-6842-4a18-8286-9bd2ddb10ae4"
   },
   "outputs": [
    {
     "data": {
      "text/html": [
       "<div>\n",
       "<style scoped>\n",
       "    .dataframe tbody tr th:only-of-type {\n",
       "        vertical-align: middle;\n",
       "    }\n",
       "\n",
       "    .dataframe tbody tr th {\n",
       "        vertical-align: top;\n",
       "    }\n",
       "\n",
       "    .dataframe thead th {\n",
       "        text-align: right;\n",
       "    }\n",
       "</style>\n",
       "<table border=\"1\" class=\"dataframe\">\n",
       "  <thead>\n",
       "    <tr style=\"text-align: right;\">\n",
       "      <th></th>\n",
       "      <th>count</th>\n",
       "      <th>mean</th>\n",
       "      <th>std</th>\n",
       "      <th>min</th>\n",
       "      <th>25%</th>\n",
       "      <th>50%</th>\n",
       "      <th>75%</th>\n",
       "      <th>max</th>\n",
       "    </tr>\n",
       "  </thead>\n",
       "  <tbody>\n",
       "    <tr>\n",
       "      <th>ID</th>\n",
       "      <td>2216.0</td>\n",
       "      <td>5588.353339</td>\n",
       "      <td>3249.376275</td>\n",
       "      <td>0.0</td>\n",
       "      <td>2814.75</td>\n",
       "      <td>5458.5</td>\n",
       "      <td>8421.75</td>\n",
       "      <td>11191.0</td>\n",
       "    </tr>\n",
       "    <tr>\n",
       "      <th>Year_Birth</th>\n",
       "      <td>2216.0</td>\n",
       "      <td>1968.820397</td>\n",
       "      <td>11.985554</td>\n",
       "      <td>1893.0</td>\n",
       "      <td>1959.00</td>\n",
       "      <td>1970.0</td>\n",
       "      <td>1977.00</td>\n",
       "      <td>1996.0</td>\n",
       "    </tr>\n",
       "    <tr>\n",
       "      <th>Income</th>\n",
       "      <td>2216.0</td>\n",
       "      <td>52247.251354</td>\n",
       "      <td>25173.076661</td>\n",
       "      <td>1730.0</td>\n",
       "      <td>35303.00</td>\n",
       "      <td>51381.5</td>\n",
       "      <td>68522.00</td>\n",
       "      <td>666666.0</td>\n",
       "    </tr>\n",
       "    <tr>\n",
       "      <th>Kidhome</th>\n",
       "      <td>2216.0</td>\n",
       "      <td>0.441787</td>\n",
       "      <td>0.536896</td>\n",
       "      <td>0.0</td>\n",
       "      <td>0.00</td>\n",
       "      <td>0.0</td>\n",
       "      <td>1.00</td>\n",
       "      <td>2.0</td>\n",
       "    </tr>\n",
       "    <tr>\n",
       "      <th>Teenhome</th>\n",
       "      <td>2216.0</td>\n",
       "      <td>0.505415</td>\n",
       "      <td>0.544181</td>\n",
       "      <td>0.0</td>\n",
       "      <td>0.00</td>\n",
       "      <td>0.0</td>\n",
       "      <td>1.00</td>\n",
       "      <td>2.0</td>\n",
       "    </tr>\n",
       "    <tr>\n",
       "      <th>Recency</th>\n",
       "      <td>2216.0</td>\n",
       "      <td>49.012635</td>\n",
       "      <td>28.948352</td>\n",
       "      <td>0.0</td>\n",
       "      <td>24.00</td>\n",
       "      <td>49.0</td>\n",
       "      <td>74.00</td>\n",
       "      <td>99.0</td>\n",
       "    </tr>\n",
       "    <tr>\n",
       "      <th>MntWines</th>\n",
       "      <td>2216.0</td>\n",
       "      <td>305.091606</td>\n",
       "      <td>337.327920</td>\n",
       "      <td>0.0</td>\n",
       "      <td>24.00</td>\n",
       "      <td>174.5</td>\n",
       "      <td>505.00</td>\n",
       "      <td>1493.0</td>\n",
       "    </tr>\n",
       "    <tr>\n",
       "      <th>MntFruits</th>\n",
       "      <td>2216.0</td>\n",
       "      <td>26.356047</td>\n",
       "      <td>39.793917</td>\n",
       "      <td>0.0</td>\n",
       "      <td>2.00</td>\n",
       "      <td>8.0</td>\n",
       "      <td>33.00</td>\n",
       "      <td>199.0</td>\n",
       "    </tr>\n",
       "    <tr>\n",
       "      <th>MntMeatProducts</th>\n",
       "      <td>2216.0</td>\n",
       "      <td>166.995939</td>\n",
       "      <td>224.283273</td>\n",
       "      <td>0.0</td>\n",
       "      <td>16.00</td>\n",
       "      <td>68.0</td>\n",
       "      <td>232.25</td>\n",
       "      <td>1725.0</td>\n",
       "    </tr>\n",
       "    <tr>\n",
       "      <th>MntFishProducts</th>\n",
       "      <td>2216.0</td>\n",
       "      <td>37.637635</td>\n",
       "      <td>54.752082</td>\n",
       "      <td>0.0</td>\n",
       "      <td>3.00</td>\n",
       "      <td>12.0</td>\n",
       "      <td>50.00</td>\n",
       "      <td>259.0</td>\n",
       "    </tr>\n",
       "    <tr>\n",
       "      <th>MntSweetProducts</th>\n",
       "      <td>2216.0</td>\n",
       "      <td>27.028881</td>\n",
       "      <td>41.072046</td>\n",
       "      <td>0.0</td>\n",
       "      <td>1.00</td>\n",
       "      <td>8.0</td>\n",
       "      <td>33.00</td>\n",
       "      <td>262.0</td>\n",
       "    </tr>\n",
       "    <tr>\n",
       "      <th>MntGoldProds</th>\n",
       "      <td>2216.0</td>\n",
       "      <td>43.965253</td>\n",
       "      <td>51.815414</td>\n",
       "      <td>0.0</td>\n",
       "      <td>9.00</td>\n",
       "      <td>24.5</td>\n",
       "      <td>56.00</td>\n",
       "      <td>321.0</td>\n",
       "    </tr>\n",
       "    <tr>\n",
       "      <th>NumDealsPurchases</th>\n",
       "      <td>2216.0</td>\n",
       "      <td>2.323556</td>\n",
       "      <td>1.923716</td>\n",
       "      <td>0.0</td>\n",
       "      <td>1.00</td>\n",
       "      <td>2.0</td>\n",
       "      <td>3.00</td>\n",
       "      <td>15.0</td>\n",
       "    </tr>\n",
       "    <tr>\n",
       "      <th>NumWebPurchases</th>\n",
       "      <td>2216.0</td>\n",
       "      <td>4.085289</td>\n",
       "      <td>2.740951</td>\n",
       "      <td>0.0</td>\n",
       "      <td>2.00</td>\n",
       "      <td>4.0</td>\n",
       "      <td>6.00</td>\n",
       "      <td>27.0</td>\n",
       "    </tr>\n",
       "    <tr>\n",
       "      <th>NumCatalogPurchases</th>\n",
       "      <td>2216.0</td>\n",
       "      <td>2.671029</td>\n",
       "      <td>2.926734</td>\n",
       "      <td>0.0</td>\n",
       "      <td>0.00</td>\n",
       "      <td>2.0</td>\n",
       "      <td>4.00</td>\n",
       "      <td>28.0</td>\n",
       "    </tr>\n",
       "    <tr>\n",
       "      <th>NumStorePurchases</th>\n",
       "      <td>2216.0</td>\n",
       "      <td>5.800993</td>\n",
       "      <td>3.250785</td>\n",
       "      <td>0.0</td>\n",
       "      <td>3.00</td>\n",
       "      <td>5.0</td>\n",
       "      <td>8.00</td>\n",
       "      <td>13.0</td>\n",
       "    </tr>\n",
       "    <tr>\n",
       "      <th>NumWebVisitsMonth</th>\n",
       "      <td>2216.0</td>\n",
       "      <td>5.319043</td>\n",
       "      <td>2.425359</td>\n",
       "      <td>0.0</td>\n",
       "      <td>3.00</td>\n",
       "      <td>6.0</td>\n",
       "      <td>7.00</td>\n",
       "      <td>20.0</td>\n",
       "    </tr>\n",
       "    <tr>\n",
       "      <th>AcceptedCmp3</th>\n",
       "      <td>2216.0</td>\n",
       "      <td>0.073556</td>\n",
       "      <td>0.261106</td>\n",
       "      <td>0.0</td>\n",
       "      <td>0.00</td>\n",
       "      <td>0.0</td>\n",
       "      <td>0.00</td>\n",
       "      <td>1.0</td>\n",
       "    </tr>\n",
       "    <tr>\n",
       "      <th>AcceptedCmp4</th>\n",
       "      <td>2216.0</td>\n",
       "      <td>0.074007</td>\n",
       "      <td>0.261842</td>\n",
       "      <td>0.0</td>\n",
       "      <td>0.00</td>\n",
       "      <td>0.0</td>\n",
       "      <td>0.00</td>\n",
       "      <td>1.0</td>\n",
       "    </tr>\n",
       "    <tr>\n",
       "      <th>AcceptedCmp5</th>\n",
       "      <td>2216.0</td>\n",
       "      <td>0.073105</td>\n",
       "      <td>0.260367</td>\n",
       "      <td>0.0</td>\n",
       "      <td>0.00</td>\n",
       "      <td>0.0</td>\n",
       "      <td>0.00</td>\n",
       "      <td>1.0</td>\n",
       "    </tr>\n",
       "    <tr>\n",
       "      <th>AcceptedCmp1</th>\n",
       "      <td>2216.0</td>\n",
       "      <td>0.064079</td>\n",
       "      <td>0.244950</td>\n",
       "      <td>0.0</td>\n",
       "      <td>0.00</td>\n",
       "      <td>0.0</td>\n",
       "      <td>0.00</td>\n",
       "      <td>1.0</td>\n",
       "    </tr>\n",
       "    <tr>\n",
       "      <th>AcceptedCmp2</th>\n",
       "      <td>2216.0</td>\n",
       "      <td>0.013538</td>\n",
       "      <td>0.115588</td>\n",
       "      <td>0.0</td>\n",
       "      <td>0.00</td>\n",
       "      <td>0.0</td>\n",
       "      <td>0.00</td>\n",
       "      <td>1.0</td>\n",
       "    </tr>\n",
       "    <tr>\n",
       "      <th>Response</th>\n",
       "      <td>2216.0</td>\n",
       "      <td>0.150271</td>\n",
       "      <td>0.357417</td>\n",
       "      <td>0.0</td>\n",
       "      <td>0.00</td>\n",
       "      <td>0.0</td>\n",
       "      <td>0.00</td>\n",
       "      <td>1.0</td>\n",
       "    </tr>\n",
       "    <tr>\n",
       "      <th>Complain</th>\n",
       "      <td>2216.0</td>\n",
       "      <td>0.009477</td>\n",
       "      <td>0.096907</td>\n",
       "      <td>0.0</td>\n",
       "      <td>0.00</td>\n",
       "      <td>0.0</td>\n",
       "      <td>0.00</td>\n",
       "      <td>1.0</td>\n",
       "    </tr>\n",
       "  </tbody>\n",
       "</table>\n",
       "</div>"
      ],
      "text/plain": [
       "                      count          mean           std     min       25%  \\\n",
       "ID                   2216.0   5588.353339   3249.376275     0.0   2814.75   \n",
       "Year_Birth           2216.0   1968.820397     11.985554  1893.0   1959.00   \n",
       "Income               2216.0  52247.251354  25173.076661  1730.0  35303.00   \n",
       "Kidhome              2216.0      0.441787      0.536896     0.0      0.00   \n",
       "Teenhome             2216.0      0.505415      0.544181     0.0      0.00   \n",
       "Recency              2216.0     49.012635     28.948352     0.0     24.00   \n",
       "MntWines             2216.0    305.091606    337.327920     0.0     24.00   \n",
       "MntFruits            2216.0     26.356047     39.793917     0.0      2.00   \n",
       "MntMeatProducts      2216.0    166.995939    224.283273     0.0     16.00   \n",
       "MntFishProducts      2216.0     37.637635     54.752082     0.0      3.00   \n",
       "MntSweetProducts     2216.0     27.028881     41.072046     0.0      1.00   \n",
       "MntGoldProds         2216.0     43.965253     51.815414     0.0      9.00   \n",
       "NumDealsPurchases    2216.0      2.323556      1.923716     0.0      1.00   \n",
       "NumWebPurchases      2216.0      4.085289      2.740951     0.0      2.00   \n",
       "NumCatalogPurchases  2216.0      2.671029      2.926734     0.0      0.00   \n",
       "NumStorePurchases    2216.0      5.800993      3.250785     0.0      3.00   \n",
       "NumWebVisitsMonth    2216.0      5.319043      2.425359     0.0      3.00   \n",
       "AcceptedCmp3         2216.0      0.073556      0.261106     0.0      0.00   \n",
       "AcceptedCmp4         2216.0      0.074007      0.261842     0.0      0.00   \n",
       "AcceptedCmp5         2216.0      0.073105      0.260367     0.0      0.00   \n",
       "AcceptedCmp1         2216.0      0.064079      0.244950     0.0      0.00   \n",
       "AcceptedCmp2         2216.0      0.013538      0.115588     0.0      0.00   \n",
       "Response             2216.0      0.150271      0.357417     0.0      0.00   \n",
       "Complain             2216.0      0.009477      0.096907     0.0      0.00   \n",
       "\n",
       "                         50%       75%       max  \n",
       "ID                    5458.5   8421.75   11191.0  \n",
       "Year_Birth            1970.0   1977.00    1996.0  \n",
       "Income               51381.5  68522.00  666666.0  \n",
       "Kidhome                  0.0      1.00       2.0  \n",
       "Teenhome                 0.0      1.00       2.0  \n",
       "Recency                 49.0     74.00      99.0  \n",
       "MntWines               174.5    505.00    1493.0  \n",
       "MntFruits                8.0     33.00     199.0  \n",
       "MntMeatProducts         68.0    232.25    1725.0  \n",
       "MntFishProducts         12.0     50.00     259.0  \n",
       "MntSweetProducts         8.0     33.00     262.0  \n",
       "MntGoldProds            24.5     56.00     321.0  \n",
       "NumDealsPurchases        2.0      3.00      15.0  \n",
       "NumWebPurchases          4.0      6.00      27.0  \n",
       "NumCatalogPurchases      2.0      4.00      28.0  \n",
       "NumStorePurchases        5.0      8.00      13.0  \n",
       "NumWebVisitsMonth        6.0      7.00      20.0  \n",
       "AcceptedCmp3             0.0      0.00       1.0  \n",
       "AcceptedCmp4             0.0      0.00       1.0  \n",
       "AcceptedCmp5             0.0      0.00       1.0  \n",
       "AcceptedCmp1             0.0      0.00       1.0  \n",
       "AcceptedCmp2             0.0      0.00       1.0  \n",
       "Response                 0.0      0.00       1.0  \n",
       "Complain                 0.0      0.00       1.0  "
      ]
     },
     "execution_count": 16,
     "metadata": {
      "tags": []
     },
     "output_type": "execute_result"
    }
   ],
   "source": [
    "df.describe().T"
   ]
  },
  {
   "cell_type": "code",
   "execution_count": null,
   "metadata": {
    "id": "rNcZsJKZu3dv",
    "outputId": "fc1ca7b3-706c-4937-aace-3d701a508819"
   },
   "outputs": [
    {
     "data": {
      "text/plain": [
       "<AxesSubplot:xlabel='Income', ylabel='Density'>"
      ]
     },
     "execution_count": 32,
     "metadata": {
      "tags": []
     },
     "output_type": "execute_result"
    },
    {
     "data": {
      "image/png": "[encoded data removed]",
      "text/plain": [
       "<Figure size 720x1080 with 1 Axes>"
      ]
     },
     "metadata": {
      "tags": []
     },
     "output_type": "display_data"
    }
   ],
   "source": [
    "sns.distplot(df['Income'])"
   ]
  },
  {
   "cell_type": "markdown",
   "metadata": {
    "id": "2oGWigZJu3dw"
   },
   "source": [
    "- Most of the Income is ranging from 0-100,000.\n",
    "- Seems like some extream values are present as we can see a small peaked curve around 700000,but outliers are very less."
   ]
  },
  {
   "cell_type": "code",
   "execution_count": null,
   "metadata": {
    "id": "e_B_UMQeu3dw",
    "outputId": "58cf92b3-6a57-4b5f-9410-8ee5aec9decc"
   },
   "outputs": [
    {
     "data": {
      "text/plain": [
       "<AxesSubplot:xlabel='Income'>"
      ]
     },
     "execution_count": 34,
     "metadata": {
      "tags": []
     },
     "output_type": "execute_result"
    },
    {
     "data": {
      "image/png": "[encoded data removed]",
      "text/plain": [
       "<Figure size 720x1080 with 1 Axes>"
      ]
     },
     "metadata": {
      "tags": []
     },
     "output_type": "display_data"
    }
   ],
   "source": [
    "sns.boxplot(df['Income'])"
   ]
  },
  {
   "cell_type": "markdown",
   "metadata": {
    "id": "QoVI6rdOu3dw"
   },
   "source": [
    "- Yes, We are correct from the distribution plot. Outliers are very less but extreme values are present."
   ]
  },
  {
   "cell_type": "markdown",
   "metadata": {
    "id": "xKBehl4pu3dw"
   },
   "source": [
    "<h3>Plotting of the Distribution of Education Data </h2> "
   ]
  },
  {
   "cell_type": "code",
   "execution_count": null,
   "metadata": {
    "id": "FFZN6tweu3dw",
    "outputId": "e4c5fcab-56bc-453a-8959-3b6ee9175022"
   },
   "outputs": [
    {
     "name": "stdout",
     "output_type": "stream",
     "text": [
      "            Education  Frequency_Percentage\n",
      "Graduation       1116                 93.00\n",
      "PhD               481                 40.08\n",
      "Master            365                 30.42\n",
      "2n Cycle          200                 16.67\n",
      "Basic              54                  4.50\n"
     ]
    },
    {
     "data": {
      "image/png": "[encoded data removed]",
      "text/plain": [
       "<Figure size 576x360 with 1 Axes>"
      ]
     },
     "metadata": {
      "tags": []
     },
     "output_type": "display_data"
    }
   ],
   "source": [
    "def percentage_education(df):\n",
    "    df=df.copy()\n",
    "    ed_data=pd.DataFrame(df['Education'].value_counts())\n",
    "    ed_data['Frequency_Percentage']=[round(i/12,2) for i in ed_data['Education']]\n",
    "    print(ed_data)\n",
    "    ax = df['Education'].value_counts().plot(kind='bar', figsize=(8, 5),color=['#58508d'],fontsize=14, width=0.6)\n",
    "    ax.set_title('Percentage of Education data distribution ',fontsize=14)\n",
    "    totals = []\n",
    "    for i in ax.patches:\n",
    "        totals.append(i.get_width())\n",
    "    for p in ax.patches:\n",
    "        ax.annotate(str(round(p.get_height()*100/1200,2))+' %', (p.get_x() * 1.0005, p.get_height() * 1.005),fontsize=12)\n",
    "    ax.set_ylabel('Count',fontsize=14)\n",
    "    \n",
    "\n",
    "percentage_education(df)\n",
    "    \n",
    "    "
   ]
  },
  {
   "cell_type": "markdown",
   "metadata": {
    "id": "cWr0YjHeu3dx"
   },
   "source": [
    "- Most of the customers are graduate."
   ]
  },
  {
   "cell_type": "code",
   "execution_count": null,
   "metadata": {
    "id": "5ddHcXYpu3dx",
    "outputId": "694f6214-eb0f-43ac-ed96-da4ebfb30dfe"
   },
   "outputs": [
    {
     "name": "stdout",
     "output_type": "stream",
     "text": [
      "     Country  Frequency_Percentage\n",
      "SP      1093                 91.08\n",
      "SA       337                 28.08\n",
      "CA       266                 22.17\n",
      "AUS      147                 12.25\n",
      "IND      147                 12.25\n",
      "GER      116                  9.67\n",
      "US       107                  8.92\n",
      "ME         3                  0.25\n"
     ]
    },
    {
     "data": {
      "image/png": "[encoded data removed]",
      "text/plain": [
       "<Figure size 576x360 with 1 Axes>"
      ]
     },
     "metadata": {
      "tags": []
     },
     "output_type": "display_data"
    }
   ],
   "source": [
    "def percentage_country(df):\n",
    "    df=df.copy()\n",
    "    cu_data=pd.DataFrame(df['Country'].value_counts())\n",
    "    cu_data['Frequency_Percentage']=[round(i/12,2) for i in cu_data['Country']]\n",
    "    print(cu_data)\n",
    "    ax = df['Country'].value_counts().plot(kind='bar', figsize=(8, 5),color=['#ff6361'],fontsize=14, width=0.6)\n",
    "\n",
    "    ax.set_title('Percentage of Country data distribution ',fontsize=14)\n",
    "    #ax.spines['right'].set_visible(False)\n",
    "    #ax.spines['top'].set_visible(False)\n",
    "    #ax.spines['left'].set_visible(False)\n",
    "    totals = []\n",
    "    for i in ax.patches:\n",
    "        totals.append(i.get_width())\n",
    "    for p in ax.patches:\n",
    "        ax.annotate(str(round(p.get_height()*100/1200,2))+' %', (p.get_x() * 1.0005, p.get_height() * 1.005),fontsize=12)\n",
    "    ax.set_ylabel('Count',fontsize=14)\n",
    "    \n",
    "    \n",
    "    \n",
    "percentage_country(df)"
   ]
  },
  {
   "cell_type": "markdown",
   "metadata": {
    "id": "hD-oRb6Pu3dx"
   },
   "source": [
    "- Most of the customers are from spain."
   ]
  },
  {
   "cell_type": "code",
   "execution_count": null,
   "metadata": {
    "id": "Dyw_FAs8u3dx",
    "outputId": "52996c3d-07ee-4821-d615-a13d49bca3b6"
   },
   "outputs": [
    {
     "name": "stdout",
     "output_type": "stream",
     "text": [
      "          Marital_Status  Frequency_Percentage\n",
      "Married              857                 71.42\n",
      "Together             573                 47.75\n",
      "Single               471                 39.25\n",
      "Divorced             232                 19.33\n",
      "Widow                 76                  6.33\n",
      "Alone                  3                  0.25\n",
      "YOLO                   2                  0.17\n",
      "Absurd                 2                  0.17\n"
     ]
    },
    {
     "data": {
      "image/png": "[encoded data removed]",
      "text/plain": [
       "<Figure size 576x360 with 1 Axes>"
      ]
     },
     "metadata": {
      "tags": []
     },
     "output_type": "display_data"
    }
   ],
   "source": [
    "def percentage_mrg(df):\n",
    "    df=df.copy()\n",
    "    mrg_data=pd.DataFrame(df['Marital_Status'].value_counts())\n",
    "    mrg_data['Frequency_Percentage']=[round(i/12,2) for i in mrg_data['Marital_Status']]\n",
    "    print(mrg_data)\n",
    "    ax = df['Marital_Status'].value_counts().plot(kind='bar', figsize=(8, 5),color=['#31854f'],fontsize=14, width=0.6)\n",
    "\n",
    "    ax.set_title('Percentage of Martial Statusdistribution ',fontsize=14)\n",
    "    #ax.spines['right'].set_visible(False)\n",
    "    #ax.spines['top'].set_visible(False)\n",
    "    #ax.spines['left'].set_visible(False)\n",
    "    totals = []\n",
    "    for i in ax.patches:\n",
    "        totals.append(i.get_width())\n",
    "    for p in ax.patches:\n",
    "        ax.annotate(str(round(p.get_height()*100/1200,2))+' %', (p.get_x() * 1.0005, p.get_height() * 1.005),fontsize=12)\n",
    "    ax.set_ylabel('Count',fontsize=14)\n",
    "    \n",
    "    \n",
    "\n",
    "percentage_mrg(df)"
   ]
  },
  {
   "cell_type": "markdown",
   "metadata": {
    "id": "LGa0FKp_u3dy"
   },
   "source": [
    "- Most of the people are married.\n",
    "- Together has the second highest."
   ]
  },
  {
   "cell_type": "markdown",
   "metadata": {
    "id": "MNem1iylu3dy"
   },
   "source": [
    "<h2>Country wise Education </h2>"
   ]
  },
  {
   "cell_type": "code",
   "execution_count": null,
   "metadata": {
    "id": "EVg6C6LGu3dy",
    "outputId": "f408d370-37a3-41f0-fec8-fd52a3ccd166"
   },
   "outputs": [
    {
     "data": {
      "text/html": [
       "<div>\n",
       "<style scoped>\n",
       "    .dataframe tbody tr th:only-of-type {\n",
       "        vertical-align: middle;\n",
       "    }\n",
       "\n",
       "    .dataframe tbody tr th {\n",
       "        vertical-align: top;\n",
       "    }\n",
       "\n",
       "    .dataframe thead th {\n",
       "        text-align: right;\n",
       "    }\n",
       "</style>\n",
       "<table border=\"1\" class=\"dataframe\">\n",
       "  <thead>\n",
       "    <tr style=\"text-align: right;\">\n",
       "      <th>Country</th>\n",
       "      <th>AUS</th>\n",
       "      <th>CA</th>\n",
       "      <th>GER</th>\n",
       "      <th>IND</th>\n",
       "      <th>ME</th>\n",
       "      <th>SA</th>\n",
       "      <th>SP</th>\n",
       "      <th>US</th>\n",
       "      <th>All</th>\n",
       "    </tr>\n",
       "    <tr>\n",
       "      <th>Education</th>\n",
       "      <th></th>\n",
       "      <th></th>\n",
       "      <th></th>\n",
       "      <th></th>\n",
       "      <th></th>\n",
       "      <th></th>\n",
       "      <th></th>\n",
       "      <th></th>\n",
       "      <th></th>\n",
       "    </tr>\n",
       "  </thead>\n",
       "  <tbody>\n",
       "    <tr>\n",
       "      <th>2n Cycle</th>\n",
       "      <td>8</td>\n",
       "      <td>24</td>\n",
       "      <td>19</td>\n",
       "      <td>20</td>\n",
       "      <td>0</td>\n",
       "      <td>25</td>\n",
       "      <td>97</td>\n",
       "      <td>7</td>\n",
       "      <td>200</td>\n",
       "    </tr>\n",
       "    <tr>\n",
       "      <th>Basic</th>\n",
       "      <td>4</td>\n",
       "      <td>7</td>\n",
       "      <td>2</td>\n",
       "      <td>4</td>\n",
       "      <td>0</td>\n",
       "      <td>6</td>\n",
       "      <td>28</td>\n",
       "      <td>3</td>\n",
       "      <td>54</td>\n",
       "    </tr>\n",
       "    <tr>\n",
       "      <th>Graduation</th>\n",
       "      <td>79</td>\n",
       "      <td>132</td>\n",
       "      <td>58</td>\n",
       "      <td>76</td>\n",
       "      <td>1</td>\n",
       "      <td>161</td>\n",
       "      <td>546</td>\n",
       "      <td>63</td>\n",
       "      <td>1116</td>\n",
       "    </tr>\n",
       "    <tr>\n",
       "      <th>Master</th>\n",
       "      <td>29</td>\n",
       "      <td>49</td>\n",
       "      <td>19</td>\n",
       "      <td>21</td>\n",
       "      <td>1</td>\n",
       "      <td>60</td>\n",
       "      <td>171</td>\n",
       "      <td>15</td>\n",
       "      <td>365</td>\n",
       "    </tr>\n",
       "    <tr>\n",
       "      <th>PhD</th>\n",
       "      <td>27</td>\n",
       "      <td>54</td>\n",
       "      <td>18</td>\n",
       "      <td>26</td>\n",
       "      <td>1</td>\n",
       "      <td>85</td>\n",
       "      <td>251</td>\n",
       "      <td>19</td>\n",
       "      <td>481</td>\n",
       "    </tr>\n",
       "    <tr>\n",
       "      <th>All</th>\n",
       "      <td>147</td>\n",
       "      <td>266</td>\n",
       "      <td>116</td>\n",
       "      <td>147</td>\n",
       "      <td>3</td>\n",
       "      <td>337</td>\n",
       "      <td>1093</td>\n",
       "      <td>107</td>\n",
       "      <td>2216</td>\n",
       "    </tr>\n",
       "  </tbody>\n",
       "</table>\n",
       "</div>"
      ],
      "text/plain": [
       "Country     AUS   CA  GER  IND  ME   SA    SP   US   All\n",
       "Education                                               \n",
       "2n Cycle      8   24   19   20   0   25    97    7   200\n",
       "Basic         4    7    2    4   0    6    28    3    54\n",
       "Graduation   79  132   58   76   1  161   546   63  1116\n",
       "Master       29   49   19   21   1   60   171   15   365\n",
       "PhD          27   54   18   26   1   85   251   19   481\n",
       "All         147  266  116  147   3  337  1093  107  2216"
      ]
     },
     "execution_count": 38,
     "metadata": {
      "tags": []
     },
     "output_type": "execute_result"
    }
   ],
   "source": [
    "country_crosstab=pd.crosstab(df['Education'],df['Country'], margins=True)\n",
    "country_crosstab"
   ]
  },
  {
   "cell_type": "code",
   "execution_count": null,
   "metadata": {
    "id": "HXBN9hbIu3dy",
    "outputId": "8f98556e-762d-4ce5-ef40-04b71f0d3d89"
   },
   "outputs": [
    {
     "data": {
      "image/png": "[encoded data removed]",
      "text/plain": [
       "<Figure size 720x1080 with 1 Axes>"
      ]
     },
     "metadata": {
      "tags": []
     },
     "output_type": "display_data"
    }
   ],
   "source": [
    "pd.crosstab(df['Education'],df['Country']).plot.bar(stacked=True)\n",
    "plt.legend(title='Country vs Education')\n",
    "plt.show()"
   ]
  },
  {
   "cell_type": "markdown",
   "metadata": {
    "id": "WZ3vT8Tcu3dz"
   },
   "source": [
    "- Spain has the highest graduate label customers."
   ]
  },
  {
   "cell_type": "code",
   "execution_count": null,
   "metadata": {
    "id": "Eg7URBkTu3dz",
    "outputId": "bf0682b7-38d8-4559-fd9e-d3b8c85e6820"
   },
   "outputs": [
    {
     "name": "stdout",
     "output_type": "stream",
     "text": [
      "Country      AUS     CA   GER    IND    ME     SA     SP    US\n",
      "Education                                                     \n",
      "2n Cycle    4.00  12.00  9.50  10.00  0.00  12.50  48.50  3.50\n",
      "Basic       7.41  12.96  3.70   7.41  0.00  11.11  51.85  5.56\n",
      "Graduation  7.08  11.83  5.20   6.81  0.09  14.43  48.92  5.65\n",
      "Master      7.95  13.42  5.21   5.75  0.27  16.44  46.85  4.11\n",
      "PhD         5.61  11.23  3.74   5.41  0.21  17.67  52.18  3.95\n",
      "**********************************************************************\n"
     ]
    },
    {
     "data": {
      "image/png": "[encoded data removed]",
      "text/plain": [
       "<Figure size 1440x576 with 1 Axes>"
      ]
     },
     "metadata": {
      "tags": []
     },
     "output_type": "display_data"
    }
   ],
   "source": [
    "def cross_country_edu_percentage(df):\n",
    "    df=df.copy()\n",
    "    country_crosstab_perc=pd.crosstab(df['Education'],df['Country']).apply(lambda r: round(r*100/r.sum(),2), axis=1)\n",
    "    print(country_crosstab_perc)\n",
    "    print(\"*\"*70)\n",
    "    ax = country_crosstab_perc.plot(kind='bar', figsize=(20, 8),color=['#5cb85c','#5bc0de','#d9534f','#FFD700','#006400','#808000','#5F9EA0'],fontsize=14, width=0.8)\n",
    "    ax.set_title('Percentage of frequency of graduates in different countries',fontsize=16)\n",
    "    #ax.spines['right'].set_visible(False)\n",
    "    #ax.spines['top'].set_visible(False)\n",
    "    #ax.spines['left'].set_visible(False)\n",
    "    totals = []\n",
    "    for i in ax.patches:\n",
    "        totals.append(i.get_width())\n",
    "    for p in ax.patches:\n",
    "        ax.annotate(str(p.get_height())+' %', (p.get_x() * 1.0005, p.get_height() * 1.005),fontsize=14)\n",
    "    ax.tick_params(bottom=\"True\", left=\"True\")\n",
    "    ax.set_yticklabels([])\n",
    "    \n",
    "    \n",
    "    \n",
    "cross_country_edu_percentage(df)"
   ]
  },
  {
   "cell_type": "markdown",
   "metadata": {
    "id": "QSTgnSFou3dz"
   },
   "source": [
    "<h2>percentage segment Graph between Education and Country."
   ]
  },
  {
   "cell_type": "code",
   "execution_count": null,
   "metadata": {
    "id": "a0TFa62Ru3d0",
    "outputId": "7525996a-808e-45ad-a2ad-c6d7491a487e"
   },
   "outputs": [
    {
     "data": {
      "text/plain": [
       "<AxesSubplot:xlabel='Education'>"
      ]
     },
     "execution_count": 44,
     "metadata": {
      "tags": []
     },
     "output_type": "execute_result"
    },
    {
     "data": {
      "image/png": "[encoded data removed]",
      "text/plain": [
       "<Figure size 720x1080 with 1 Axes>"
      ]
     },
     "metadata": {
      "tags": []
     },
     "output_type": "display_data"
    }
   ],
   "source": [
    "props = df.groupby(\"Education\")['Country'].value_counts(normalize=True).unstack()\n",
    "props.plot(kind='bar', stacked='True')"
   ]
  },
  {
   "cell_type": "markdown",
   "metadata": {
    "id": "ygQBm4ilu3d0"
   },
   "source": [
    "<h2>Maritial Status and Education </h2>"
   ]
  },
  {
   "cell_type": "code",
   "execution_count": null,
   "metadata": {
    "id": "BK7ytSU9u3d0",
    "outputId": "1235b6d4-f391-48e4-af77-97428f61db20"
   },
   "outputs": [
    {
     "data": {
      "text/html": [
       "<div>\n",
       "<style scoped>\n",
       "    .dataframe tbody tr th:only-of-type {\n",
       "        vertical-align: middle;\n",
       "    }\n",
       "\n",
       "    .dataframe tbody tr th {\n",
       "        vertical-align: top;\n",
       "    }\n",
       "\n",
       "    .dataframe thead th {\n",
       "        text-align: right;\n",
       "    }\n",
       "</style>\n",
       "<table border=\"1\" class=\"dataframe\">\n",
       "  <thead>\n",
       "    <tr style=\"text-align: right;\">\n",
       "      <th>Education</th>\n",
       "      <th>2n Cycle</th>\n",
       "      <th>Basic</th>\n",
       "      <th>Graduation</th>\n",
       "      <th>Master</th>\n",
       "      <th>PhD</th>\n",
       "      <th>All</th>\n",
       "    </tr>\n",
       "    <tr>\n",
       "      <th>Marital_Status</th>\n",
       "      <th></th>\n",
       "      <th></th>\n",
       "      <th></th>\n",
       "      <th></th>\n",
       "      <th></th>\n",
       "      <th></th>\n",
       "    </tr>\n",
       "  </thead>\n",
       "  <tbody>\n",
       "    <tr>\n",
       "      <th>Absurd</th>\n",
       "      <td>0</td>\n",
       "      <td>0</td>\n",
       "      <td>1</td>\n",
       "      <td>1</td>\n",
       "      <td>0</td>\n",
       "      <td>2</td>\n",
       "    </tr>\n",
       "    <tr>\n",
       "      <th>Alone</th>\n",
       "      <td>0</td>\n",
       "      <td>0</td>\n",
       "      <td>1</td>\n",
       "      <td>1</td>\n",
       "      <td>1</td>\n",
       "      <td>3</td>\n",
       "    </tr>\n",
       "    <tr>\n",
       "      <th>Divorced</th>\n",
       "      <td>23</td>\n",
       "      <td>1</td>\n",
       "      <td>119</td>\n",
       "      <td>37</td>\n",
       "      <td>52</td>\n",
       "      <td>232</td>\n",
       "    </tr>\n",
       "    <tr>\n",
       "      <th>Married</th>\n",
       "      <td>80</td>\n",
       "      <td>20</td>\n",
       "      <td>429</td>\n",
       "      <td>138</td>\n",
       "      <td>190</td>\n",
       "      <td>857</td>\n",
       "    </tr>\n",
       "    <tr>\n",
       "      <th>Single</th>\n",
       "      <td>36</td>\n",
       "      <td>18</td>\n",
       "      <td>246</td>\n",
       "      <td>75</td>\n",
       "      <td>96</td>\n",
       "      <td>471</td>\n",
       "    </tr>\n",
       "    <tr>\n",
       "      <th>Together</th>\n",
       "      <td>56</td>\n",
       "      <td>14</td>\n",
       "      <td>285</td>\n",
       "      <td>102</td>\n",
       "      <td>116</td>\n",
       "      <td>573</td>\n",
       "    </tr>\n",
       "    <tr>\n",
       "      <th>Widow</th>\n",
       "      <td>5</td>\n",
       "      <td>1</td>\n",
       "      <td>35</td>\n",
       "      <td>11</td>\n",
       "      <td>24</td>\n",
       "      <td>76</td>\n",
       "    </tr>\n",
       "    <tr>\n",
       "      <th>YOLO</th>\n",
       "      <td>0</td>\n",
       "      <td>0</td>\n",
       "      <td>0</td>\n",
       "      <td>0</td>\n",
       "      <td>2</td>\n",
       "      <td>2</td>\n",
       "    </tr>\n",
       "    <tr>\n",
       "      <th>All</th>\n",
       "      <td>200</td>\n",
       "      <td>54</td>\n",
       "      <td>1116</td>\n",
       "      <td>365</td>\n",
       "      <td>481</td>\n",
       "      <td>2216</td>\n",
       "    </tr>\n",
       "  </tbody>\n",
       "</table>\n",
       "</div>"
      ],
      "text/plain": [
       "Education       2n Cycle  Basic  Graduation  Master  PhD   All\n",
       "Marital_Status                                                \n",
       "Absurd                 0      0           1       1    0     2\n",
       "Alone                  0      0           1       1    1     3\n",
       "Divorced              23      1         119      37   52   232\n",
       "Married               80     20         429     138  190   857\n",
       "Single                36     18         246      75   96   471\n",
       "Together              56     14         285     102  116   573\n",
       "Widow                  5      1          35      11   24    76\n",
       "YOLO                   0      0           0       0    2     2\n",
       "All                  200     54        1116     365  481  2216"
      ]
     },
     "execution_count": 45,
     "metadata": {
      "tags": []
     },
     "output_type": "execute_result"
    }
   ],
   "source": [
    "mar_crosstab=pd.crosstab(df['Marital_Status'],df['Education'], margins=True)\n",
    "mar_crosstab"
   ]
  },
  {
   "cell_type": "code",
   "execution_count": null,
   "metadata": {
    "id": "I15CAdZiu3d0",
    "outputId": "a7f4ed04-a535-45fc-dc43-7c9c3b482695"
   },
   "outputs": [
    {
     "data": {
      "image/png": "[encoded data removed]",
      "text/plain": [
       "<Figure size 720x1080 with 1 Axes>"
      ]
     },
     "metadata": {
      "tags": []
     },
     "output_type": "display_data"
    }
   ],
   "source": [
    "pd.crosstab(df['Marital_Status'],df['Education']).plot.bar(stacked=True)\n",
    "plt.legend(title='Maritial_Status vs Education')\n",
    "plt.show()"
   ]
  },
  {
   "cell_type": "code",
   "execution_count": null,
   "metadata": {
    "id": "fnqiRR_Uu3d1",
    "outputId": "293af108-59cd-452a-8d11-9ee904f9d146"
   },
   "outputs": [
    {
     "name": "stdout",
     "output_type": "stream",
     "text": [
      "Education       2n Cycle  Basic  Graduation  Master     PhD\n",
      "Marital_Status                                             \n",
      "Absurd              0.00   0.00       50.00   50.00    0.00\n",
      "Alone               0.00   0.00       33.33   33.33   33.33\n",
      "Divorced            9.91   0.43       51.29   15.95   22.41\n",
      "Married             9.33   2.33       50.06   16.10   22.17\n",
      "Single              7.64   3.82       52.23   15.92   20.38\n",
      "Together            9.77   2.44       49.74   17.80   20.24\n",
      "Widow               6.58   1.32       46.05   14.47   31.58\n",
      "YOLO                0.00   0.00        0.00    0.00  100.00\n",
      "**********************************************************************\n"
     ]
    },
    {
     "data": {
      "image/png": "[encoded data removed]",
      "text/plain": [
       "<Figure size 1440x576 with 1 Axes>"
      ]
     },
     "metadata": {
      "tags": []
     },
     "output_type": "display_data"
    }
   ],
   "source": [
    "def cross_mrg_edu_percentage(df):\n",
    "    df=df.copy()\n",
    "    mar_crosstab_perc=pd.crosstab(df['Marital_Status'],df['Education']).apply(lambda r: round(r*100/r.sum(),2), axis=1)\n",
    "    print(mar_crosstab_perc)\n",
    "    print(\"*\"*70)\n",
    "    ax = mar_crosstab_perc.plot(kind='bar', figsize=(20, 8),color=['#5cb85c','#5bc0de','#d9534f','#FFD700','#006400','#808000','#5F9EA0'],fontsize=14, width=0.8)\n",
    "\n",
    "    ax.set_title('Percentage of frequency of graduates in different countries',fontsize=16)\n",
    "    #ax.spines['right'].set_visible(False)\n",
    "    #ax.spines['top'].set_visible(False)\n",
    "    #ax.spines['left'].set_visible(False)\n",
    "    totals = []\n",
    "    for i in ax.patches:\n",
    "        totals.append(i.get_width())\n",
    "    for p in ax.patches:\n",
    "        ax.annotate(str(p.get_height())+' %', (p.get_x() * 1.0005, p.get_height() * 1.005),fontsize=14)\n",
    "    ax.tick_params(bottom=\"True\", left=\"True\")\n",
    "    ax.set_yticklabels([])\n",
    "    \n",
    "\n",
    "cross_mrg_edu_percentage(df)"
   ]
  },
  {
   "cell_type": "markdown",
   "metadata": {
    "id": "7M0xGOxru3d1"
   },
   "source": [
    "- Singles have highest number of graduates (i.e.52.23 %)."
   ]
  },
  {
   "cell_type": "markdown",
   "metadata": {
    "id": "R3q6PVI6u3d1"
   },
   "source": [
    "<h2>Percentage Segmented Graph </h2>"
   ]
  },
  {
   "cell_type": "code",
   "execution_count": null,
   "metadata": {
    "id": "bmg7tB2Mu3d1",
    "outputId": "aeda595a-4964-4acf-a918-596d33ecb968"
   },
   "outputs": [
    {
     "data": {
      "text/plain": [
       "<AxesSubplot:xlabel='Marital_Status'>"
      ]
     },
     "execution_count": 24,
     "metadata": {
      "tags": []
     },
     "output_type": "execute_result"
    },
    {
     "data": {
      "image/png": "[encoded data removed]",
      "text/plain": [
       "<Figure size 432x288 with 1 Axes>"
      ]
     },
     "metadata": {
      "tags": []
     },
     "output_type": "display_data"
    }
   ],
   "source": [
    "props = df.groupby(\"Marital_Status\")['Education'].value_counts(normalize=True).unstack()\n",
    "props.plot(kind='bar', stacked='True')"
   ]
  },
  {
   "cell_type": "markdown",
   "metadata": {
    "id": "3ewQwZhyu3d1"
   },
   "source": [
    "<h1>Marital Status vs Country </h2>"
   ]
  },
  {
   "cell_type": "code",
   "execution_count": null,
   "metadata": {
    "id": "tI1lVNSQu3d2",
    "outputId": "1ef9e293-5994-4610-ee20-b71d4ef22fa6"
   },
   "outputs": [
    {
     "data": {
      "text/html": [
       "<div>\n",
       "<style scoped>\n",
       "    .dataframe tbody tr th:only-of-type {\n",
       "        vertical-align: middle;\n",
       "    }\n",
       "\n",
       "    .dataframe tbody tr th {\n",
       "        vertical-align: top;\n",
       "    }\n",
       "\n",
       "    .dataframe thead th {\n",
       "        text-align: right;\n",
       "    }\n",
       "</style>\n",
       "<table border=\"1\" class=\"dataframe\">\n",
       "  <thead>\n",
       "    <tr style=\"text-align: right;\">\n",
       "      <th>Country</th>\n",
       "      <th>AUS</th>\n",
       "      <th>CA</th>\n",
       "      <th>GER</th>\n",
       "      <th>IND</th>\n",
       "      <th>ME</th>\n",
       "      <th>SA</th>\n",
       "      <th>SP</th>\n",
       "      <th>US</th>\n",
       "      <th>All</th>\n",
       "    </tr>\n",
       "    <tr>\n",
       "      <th>Marital_Status</th>\n",
       "      <th></th>\n",
       "      <th></th>\n",
       "      <th></th>\n",
       "      <th></th>\n",
       "      <th></th>\n",
       "      <th></th>\n",
       "      <th></th>\n",
       "      <th></th>\n",
       "      <th></th>\n",
       "    </tr>\n",
       "  </thead>\n",
       "  <tbody>\n",
       "    <tr>\n",
       "      <th>Absurd</th>\n",
       "      <td>1</td>\n",
       "      <td>1</td>\n",
       "      <td>0</td>\n",
       "      <td>0</td>\n",
       "      <td>0</td>\n",
       "      <td>0</td>\n",
       "      <td>0</td>\n",
       "      <td>0</td>\n",
       "      <td>2</td>\n",
       "    </tr>\n",
       "    <tr>\n",
       "      <th>Alone</th>\n",
       "      <td>0</td>\n",
       "      <td>3</td>\n",
       "      <td>0</td>\n",
       "      <td>0</td>\n",
       "      <td>0</td>\n",
       "      <td>0</td>\n",
       "      <td>0</td>\n",
       "      <td>0</td>\n",
       "      <td>3</td>\n",
       "    </tr>\n",
       "    <tr>\n",
       "      <th>Divorced</th>\n",
       "      <td>20</td>\n",
       "      <td>27</td>\n",
       "      <td>6</td>\n",
       "      <td>10</td>\n",
       "      <td>0</td>\n",
       "      <td>47</td>\n",
       "      <td>106</td>\n",
       "      <td>16</td>\n",
       "      <td>232</td>\n",
       "    </tr>\n",
       "    <tr>\n",
       "      <th>Married</th>\n",
       "      <td>66</td>\n",
       "      <td>104</td>\n",
       "      <td>56</td>\n",
       "      <td>57</td>\n",
       "      <td>0</td>\n",
       "      <td>106</td>\n",
       "      <td>433</td>\n",
       "      <td>35</td>\n",
       "      <td>857</td>\n",
       "    </tr>\n",
       "    <tr>\n",
       "      <th>Single</th>\n",
       "      <td>18</td>\n",
       "      <td>58</td>\n",
       "      <td>18</td>\n",
       "      <td>37</td>\n",
       "      <td>2</td>\n",
       "      <td>70</td>\n",
       "      <td>237</td>\n",
       "      <td>31</td>\n",
       "      <td>471</td>\n",
       "    </tr>\n",
       "    <tr>\n",
       "      <th>Together</th>\n",
       "      <td>37</td>\n",
       "      <td>66</td>\n",
       "      <td>32</td>\n",
       "      <td>38</td>\n",
       "      <td>1</td>\n",
       "      <td>102</td>\n",
       "      <td>274</td>\n",
       "      <td>23</td>\n",
       "      <td>573</td>\n",
       "    </tr>\n",
       "    <tr>\n",
       "      <th>Widow</th>\n",
       "      <td>5</td>\n",
       "      <td>6</td>\n",
       "      <td>4</td>\n",
       "      <td>4</td>\n",
       "      <td>0</td>\n",
       "      <td>12</td>\n",
       "      <td>43</td>\n",
       "      <td>2</td>\n",
       "      <td>76</td>\n",
       "    </tr>\n",
       "    <tr>\n",
       "      <th>YOLO</th>\n",
       "      <td>0</td>\n",
       "      <td>1</td>\n",
       "      <td>0</td>\n",
       "      <td>1</td>\n",
       "      <td>0</td>\n",
       "      <td>0</td>\n",
       "      <td>0</td>\n",
       "      <td>0</td>\n",
       "      <td>2</td>\n",
       "    </tr>\n",
       "    <tr>\n",
       "      <th>All</th>\n",
       "      <td>147</td>\n",
       "      <td>266</td>\n",
       "      <td>116</td>\n",
       "      <td>147</td>\n",
       "      <td>3</td>\n",
       "      <td>337</td>\n",
       "      <td>1093</td>\n",
       "      <td>107</td>\n",
       "      <td>2216</td>\n",
       "    </tr>\n",
       "  </tbody>\n",
       "</table>\n",
       "</div>"
      ],
      "text/plain": [
       "Country         AUS   CA  GER  IND  ME   SA    SP   US   All\n",
       "Marital_Status                                              \n",
       "Absurd            1    1    0    0   0    0     0    0     2\n",
       "Alone             0    3    0    0   0    0     0    0     3\n",
       "Divorced         20   27    6   10   0   47   106   16   232\n",
       "Married          66  104   56   57   0  106   433   35   857\n",
       "Single           18   58   18   37   2   70   237   31   471\n",
       "Together         37   66   32   38   1  102   274   23   573\n",
       "Widow             5    6    4    4   0   12    43    2    76\n",
       "YOLO              0    1    0    1   0    0     0    0     2\n",
       "All             147  266  116  147   3  337  1093  107  2216"
      ]
     },
     "execution_count": 25,
     "metadata": {
      "tags": []
     },
     "output_type": "execute_result"
    }
   ],
   "source": [
    "coun_mar_crosstab=pd.crosstab(df['Marital_Status'],df['Country'], margins=True)\n",
    "coun_mar_crosstab"
   ]
  },
  {
   "cell_type": "code",
   "execution_count": null,
   "metadata": {
    "id": "7qLdwfhru3d2",
    "outputId": "ef183660-21a7-4039-b24c-07af59cb31e4"
   },
   "outputs": [
    {
     "data": {
      "image/png": "[encoded data removed]",
      "text/plain": [
       "<Figure size 432x288 with 1 Axes>"
      ]
     },
     "metadata": {
      "tags": []
     },
     "output_type": "display_data"
    }
   ],
   "source": [
    "pd.crosstab(df['Marital_Status'],df['Country']).plot.bar(stacked=True)\n",
    "plt.legend(title='Maritial_Status vs Country')\n",
    "plt.show()"
   ]
  },
  {
   "cell_type": "code",
   "execution_count": null,
   "metadata": {
    "id": "V0Gt-0Syu3d2",
    "outputId": "828552ee-2a80-4f5b-81ab-3e43ce77d9f6"
   },
   "outputs": [
    {
     "name": "stdout",
     "output_type": "stream",
     "text": [
      "Country           AUS      CA   GER    IND    ME     SA     SP    US\n",
      "Marital_Status                                                      \n",
      "Absurd          50.00   50.00  0.00   0.00  0.00   0.00   0.00  0.00\n",
      "Alone            0.00  100.00  0.00   0.00  0.00   0.00   0.00  0.00\n",
      "Divorced         8.62   11.64  2.59   4.31  0.00  20.26  45.69  6.90\n",
      "Married          7.70   12.14  6.53   6.65  0.00  12.37  50.53  4.08\n",
      "Single           3.82   12.31  3.82   7.86  0.42  14.86  50.32  6.58\n",
      "Together         6.46   11.52  5.58   6.63  0.17  17.80  47.82  4.01\n",
      "Widow            6.58    7.89  5.26   5.26  0.00  15.79  56.58  2.63\n",
      "YOLO             0.00   50.00  0.00  50.00  0.00   0.00   0.00  0.00\n",
      "**********************************************************************\n"
     ]
    },
    {
     "data": {
      "image/png": "[encoded data removed]",
      "text/plain": [
       "<Figure size 1440x576 with 1 Axes>"
      ]
     },
     "metadata": {
      "tags": []
     },
     "output_type": "display_data"
    }
   ],
   "source": [
    "def cross_mrg_country_percentage(df):\n",
    "    df=df.copy()\n",
    "    coun_mar_crosstab_perc=pd.crosstab(df['Marital_Status'],df['Country']).apply(lambda r: round(r*100/r.sum(),2), axis=1)\n",
    "    print(coun_mar_crosstab_perc)\n",
    "    print(\"*\"*70)\n",
    "    ax = coun_mar_crosstab_perc.plot(kind='bar', figsize=(20, 8),color=['#5cb85c','#5bc0de','#d9534f','#FFD700','#006400','#808000','#5F9EA0'],fontsize=14, width=0.8)\n",
    "\n",
    "    ax.set_title('Percentage of frequency of graduates in different countries',fontsize=16)\n",
    "    #ax.spines['right'].set_visible(False)\n",
    "    #ax.spines['top'].set_visible(False)\n",
    "    #ax.spines['left'].set_visible(False)\n",
    "    totals = []\n",
    "    for i in ax.patches:\n",
    "        totals.append(i.get_width())\n",
    "    for p in ax.patches:\n",
    "        ax.annotate(str(p.get_height())+' %', (p.get_x() * 1.0010, p.get_height() * 1.010),fontsize=14)\n",
    "    ax.tick_params(bottom=\"True\", left=\"True\")\n",
    "    ax.set_yticklabels([])\n",
    "    \n",
    "    \n",
    "cross_mrg_country_percentage(df)"
   ]
  },
  {
   "cell_type": "markdown",
   "metadata": {
    "id": "zGbd3UOFu3d2"
   },
   "source": [
    "<h2>Percentage Segmented Graph </h2>"
   ]
  },
  {
   "cell_type": "code",
   "execution_count": null,
   "metadata": {
    "id": "iuHI5baru3d2",
    "outputId": "8f4ed3f1-2fc9-4b0d-b4f0-6b0df4721be7"
   },
   "outputs": [
    {
     "data": {
      "text/plain": [
       "<AxesSubplot:xlabel='Marital_Status'>"
      ]
     },
     "execution_count": 60,
     "metadata": {
      "tags": []
     },
     "output_type": "execute_result"
    },
    {
     "data": {
      "image/png": "[encoded data removed]",
      "text/plain": [
       "<Figure size 720x1080 with 1 Axes>"
      ]
     },
     "metadata": {
      "tags": []
     },
     "output_type": "display_data"
    }
   ],
   "source": [
    "props = df.groupby(\"Marital_Status\")['Country'].value_counts(normalize=True).unstack()\n",
    "props.plot(kind='bar', stacked='True')"
   ]
  }
 ],
 "metadata": {
  "colab": {
   "collapsed_sections": [
    "GKLbJvnqfkXS"
   ],
   "name": "Statistical Learning-W3-Sample Solution.ipynb",
   "provenance": []
  },
  "kernelspec": {
   "display_name": "Python 3",
   "language": "python",
   "name": "python3"
  },
  "language_info": {
   "codemirror_mode": {
    "name": "ipython",
    "version": 3
   },
   "file_extension": ".py",
   "mimetype": "text/x-python",
   "name": "python",
   "nbconvert_exporter": "python",
   "pygments_lexer": "ipython3",
   "version": "3.8.10"
  }
 },
 "nbformat": 4,
 "nbformat_minor": 1
}
