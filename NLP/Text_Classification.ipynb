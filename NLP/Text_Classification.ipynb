{
 "cells": [
  {
   "cell_type": "markdown",
   "metadata": {
    "id": "ezYL7iSnIYWH"
   },
   "source": [
    "# <font color = 'red' > <center>TEXT CLASSIFICATION PROJECT </center></font >"
   ]
  },
  {
   "cell_type": "markdown",
   "metadata": {
    "id": "4xiE3O5aH-UL"
   },
   "source": [
    "<b><font color = 'green' >•DOMAIN:</font></b>  Digital content management\n",
    "\n",
    "<b><font color = 'green' >•CONTEXT: </font></b>Classification  is  probably  the  most  popular  task  that  you  would  deal  with  in  real  life.  Text  in  the  form  of  blogs,  posts,  articles, etc.  is  written  every  second.  It  is  a  challenge  to  predict  the  information  about  the  writer  without  knowing  about  him/her.  We  are  going  to create a classifier that predicts multiple features of the author of a given text. We have designed it as a Multi label classification problem.\n",
    "\n",
    "<b><font color = 'green' >•DATA  DESCRIPTION:</font></b> Over  600,000  posts  from  more  than  19  thousand  bloggers  The  Blog  Authorship  Corpus  consists  of  the  collected posts of 19,320 bloggers gathered from blogger.com in August 2004. The corpus incorporates a total of 681,288 posts and over 140 million words  -  or  approximately  35  posts  and  7250  words  per  person.  Each  blog  is  presented  as  a  separate file,  the  name  of  which  indicates  a blogger id# and the blogger’s self-provided gender, age, industry, and astrological sign. (All are labelled for gender and age but for many, industry and/or sign is marked as unknown.) All bloggers included in the corpus fall into one of three age groups:<br/>\n",
    "  • 8240 \"10s\" blogs (ages 13-17), <br/>\n",
    "  • 8086 \"20s\" blogs(ages 23-27) and <br/>\n",
    "  • 2994 \"30s\" blogs (ages 33-47)<br/>\n",
    "For each age group, there is an equal number of male and female bloggers.Each blog in the corpus includes at least 200 occurrences of common English words. All formatting has been stripped with two exceptions. Individual posts within a single blogger are separated by the date of the following post and links within a post are denoted by the label url link. Link to dataset: https://www.kaggle.com/rtatman/blog-authorship-corpus\n",
    "\n",
    "<b><font color = 'green' >•PROJECT OBJECTIVE: </font></b>The need is to build a NLP classifier which can use input text parameters to determine the label/s of the blog"
   ]
  },
  {
   "cell_type": "code",
   "execution_count": 2,
   "metadata": {
    "id": "OuGCikVuHbQ-"
   },
   "outputs": [],
   "source": [
    "# importing All important libraries\n",
    "import numpy as np\n",
    "import re\n",
    "import pandas as pd\n",
    "import matplotlib.pyplot as plt\n",
    "import tensorflow as tf\n",
    "import os\n",
    "import seaborn as sns\n",
    "#!pip install zipfile\n",
    "import zipfile"
   ]
  },
  {
   "cell_type": "code",
   "execution_count": 3,
   "metadata": {
    "id": "CIelYYXxKQVq"
   },
   "outputs": [],
   "source": [
    "# All required Sklearn libraries\n",
    "from sklearn.feature_extraction.text import CountVectorizer\n",
    "from sklearn.model_selection import train_test_split\n",
    "from sklearn.preprocessing import MinMaxScaler"
   ]
  },
  {
   "cell_type": "code",
   "execution_count": 4,
   "metadata": {
    "id": "Tv_FFw2UK3r4"
   },
   "outputs": [],
   "source": [
    "# importing tensorflow libraries\n"
   ]
  },
  {
   "cell_type": "code",
   "execution_count": 5,
   "metadata": {
    "id": "iUizdXmIfSI7"
   },
   "outputs": [],
   "source": [
    "# NLP libraries\n",
    "import nltk\n",
    "from nltk.corpus import stopwords\n",
    "from nltk.stem import PorterStemmer\n",
    "from nltk.tokenize import word_tokenize\n",
    "import string\n"
   ]
  },
  {
   "cell_type": "markdown",
   "metadata": {
    "id": "w2HHrJ4pLKz2"
   },
   "source": [
    "### Preparing the dataset for text classification\n",
    " Link to dataset: https://www.kaggle.com/rtatman/blog-authorship-corpus"
   ]
  },
  {
   "cell_type": "code",
   "execution_count": 6,
   "metadata": {
    "colab": {
     "base_uri": "https://localhost:8080/"
    },
    "id": "tyhy5K3QLFfk",
    "outputId": "46e73391-2aa1-41ae-bd25-155eb92304b8"
   },
   "outputs": [
    {
     "name": "stdout",
     "output_type": "stream",
     "text": [
      "blog-authorship-corpus.zip: Skipping, found more recently modified local copy (use --force to force download)\n"
     ]
    }
   ],
   "source": [
    "# dowmloading the dataset from Kaggle\n",
    "#%%bash\n",
    "#pip install Kaggle --quiet\n",
    "#mkdir ~/.kaggle\n",
    "#cp kaggle.json ~/.kaggle/\n",
    "#chmod 600 ~/.kaggle/kaggle.json\n",
    "#!pip install kaggle\n",
    "#! conda install opendatasets\n",
    "!kaggle datasets download -d rtatman/blog-authorship-corpus"
   ]
  },
  {
   "cell_type": "code",
   "execution_count": 7,
   "metadata": {
    "colab": {
     "base_uri": "https://localhost:8080/"
    },
    "id": "roIzIjtdP7G3",
    "outputId": "8495371e-cfc9-4d33-edff-20f96ecdb1d5"
   },
   "outputs": [],
   "source": [
    "#unzipping the downloadd zip\n",
    "zipfile.ZipFile('blog-authorship-corpus.zip').extractall() "
   ]
  },
  {
   "cell_type": "code",
   "execution_count": 8,
   "metadata": {
    "colab": {
     "base_uri": "https://localhost:8080/",
     "height": 206
    },
    "id": "RD1Hqw2wQPSh",
    "outputId": "eb5b3d88-aa7f-41f6-faa2-d53e21e20d7f"
   },
   "outputs": [
    {
     "data": {
      "text/html": [
       "<div>\n",
       "<style scoped>\n",
       "    .dataframe tbody tr th:only-of-type {\n",
       "        vertical-align: middle;\n",
       "    }\n",
       "\n",
       "    .dataframe tbody tr th {\n",
       "        vertical-align: top;\n",
       "    }\n",
       "\n",
       "    .dataframe thead th {\n",
       "        text-align: right;\n",
       "    }\n",
       "</style>\n",
       "<table border=\"1\" class=\"dataframe\">\n",
       "  <thead>\n",
       "    <tr style=\"text-align: right;\">\n",
       "      <th></th>\n",
       "      <th>id</th>\n",
       "      <th>gender</th>\n",
       "      <th>age</th>\n",
       "      <th>topic</th>\n",
       "      <th>sign</th>\n",
       "      <th>date</th>\n",
       "      <th>text</th>\n",
       "    </tr>\n",
       "  </thead>\n",
       "  <tbody>\n",
       "    <tr>\n",
       "      <th>0</th>\n",
       "      <td>2059027</td>\n",
       "      <td>male</td>\n",
       "      <td>15</td>\n",
       "      <td>Student</td>\n",
       "      <td>Leo</td>\n",
       "      <td>14,May,2004</td>\n",
       "      <td>Info has been found (+/- 100 pages,...</td>\n",
       "    </tr>\n",
       "    <tr>\n",
       "      <th>1</th>\n",
       "      <td>2059027</td>\n",
       "      <td>male</td>\n",
       "      <td>15</td>\n",
       "      <td>Student</td>\n",
       "      <td>Leo</td>\n",
       "      <td>13,May,2004</td>\n",
       "      <td>These are the team members:   Drewe...</td>\n",
       "    </tr>\n",
       "    <tr>\n",
       "      <th>2</th>\n",
       "      <td>2059027</td>\n",
       "      <td>male</td>\n",
       "      <td>15</td>\n",
       "      <td>Student</td>\n",
       "      <td>Leo</td>\n",
       "      <td>12,May,2004</td>\n",
       "      <td>In het kader van kernfusie op aarde...</td>\n",
       "    </tr>\n",
       "    <tr>\n",
       "      <th>3</th>\n",
       "      <td>2059027</td>\n",
       "      <td>male</td>\n",
       "      <td>15</td>\n",
       "      <td>Student</td>\n",
       "      <td>Leo</td>\n",
       "      <td>12,May,2004</td>\n",
       "      <td>testing!!!  testing!!!</td>\n",
       "    </tr>\n",
       "    <tr>\n",
       "      <th>4</th>\n",
       "      <td>3581210</td>\n",
       "      <td>male</td>\n",
       "      <td>33</td>\n",
       "      <td>InvestmentBanking</td>\n",
       "      <td>Aquarius</td>\n",
       "      <td>11,June,2004</td>\n",
       "      <td>Thanks to Yahoo!'s Toolbar I can ...</td>\n",
       "    </tr>\n",
       "  </tbody>\n",
       "</table>\n",
       "</div>"
      ],
      "text/plain": [
       "        id gender  age              topic      sign          date  \\\n",
       "0  2059027   male   15            Student       Leo   14,May,2004   \n",
       "1  2059027   male   15            Student       Leo   13,May,2004   \n",
       "2  2059027   male   15            Student       Leo   12,May,2004   \n",
       "3  2059027   male   15            Student       Leo   12,May,2004   \n",
       "4  3581210   male   33  InvestmentBanking  Aquarius  11,June,2004   \n",
       "\n",
       "                                                text  \n",
       "0             Info has been found (+/- 100 pages,...  \n",
       "1             These are the team members:   Drewe...  \n",
       "2             In het kader van kernfusie op aarde...  \n",
       "3                   testing!!!  testing!!!            \n",
       "4               Thanks to Yahoo!'s Toolbar I can ...  "
      ]
     },
     "execution_count": 8,
     "metadata": {},
     "output_type": "execute_result"
    }
   ],
   "source": [
    "#loading the dataset\n",
    "data = pd.read_csv('blogtext.csv')\n",
    "data.head()"
   ]
  },
  {
   "cell_type": "code",
   "execution_count": 9,
   "metadata": {
    "colab": {
     "base_uri": "https://localhost:8080/",
     "height": 53
    },
    "id": "yv3sR7bLQug3",
    "outputId": "d81cb68a-647e-40a8-eee2-696d41144274"
   },
   "outputs": [
    {
     "data": {
      "text/plain": [
       "'           Info has been found (+/- 100 pages, and 4.5 MB of .pdf files) Now i have to wait untill our team leader has processed it and learns html.         '"
      ]
     },
     "execution_count": 9,
     "metadata": {},
     "output_type": "execute_result"
    }
   ],
   "source": [
    "data['text'][0]"
   ]
  },
  {
   "cell_type": "code",
   "execution_count": 10,
   "metadata": {
    "id": "0Ccxd0GxxqFT"
   },
   "outputs": [
    {
     "data": {
      "text/plain": [
       "'           These are the team members:   Drewes van der Laag           urlLink mail  Ruiyu Xie                     urlLink mail  Bryan Aaldering (me)          urlLink mail          '"
      ]
     },
     "execution_count": 10,
     "metadata": {},
     "output_type": "execute_result"
    }
   ],
   "source": [
    "data['text'][1]"
   ]
  },
  {
   "cell_type": "code",
   "execution_count": 11,
   "metadata": {
    "id": "xMIYHAaFxqKc"
   },
   "outputs": [
    {
     "data": {
      "text/plain": [
       "\"           In het kader van kernfusie op aarde:  MAAK JE EIGEN WATERSTOFBOM   How to build an H-Bomb From: ascott@tartarus.uwa.edu.au (Andrew Scott) Newsgroups: rec.humor Subject: How To Build An H-Bomb (humorous!) Date: 7 Feb 1994 07:41:14 GMT Organization: The University of Western Australia  Original file dated 12th November 1990. Seemed to be a transcript of a 'Seven Days' article. Poorly formatted and corrupted. I have added the text between 'examine under a microscope' and 'malleable, like gold,' as it was missing. If anyone has the full text, please distribute. I am not responsible for the accuracy of this information. Converted to HTML by Dionisio@InfiNet.com 11/13/98. (Did a little spell-checking and some minor edits too.) Stolen from  urlLink http://my.ohio.voyager.net/~dionisio/fun/m...own-h-bomb.html  and reformatted the HTML. It now validates to XHTML 1.0 Strict. How to Build an H-Bomb Making and owning an H-bomb is the kind of challenge real Americans seek. Who wants to be a passive victim of nuclear war when, with a little effort, you can be an active participant? Bomb shelters are for losers. Who wants to huddle together underground eating canned Spam? Winners want to push the button themselves. Making your own H-bomb is a big step in nuclear assertiveness training -- it's called Taking Charge. We're sure you'll enjoy the risks and the heady thrill of playing nuclear chicken. Introduction When the Feds clamped down on The Progressive magazine for attempting to publish an article on the manufacture of the hydrogen bomb, it piqued our curiosity. Was it really true that atomic and hydrogen bomb technology was so simple you could build an H-bomb in your own kitchen? Seven Days decided to find out. Food editor Barbara Ehrenreich, investigative reporter Peter Biskind, Photographer Jane Melnick and nuclear scientist Michio Kaku were given three days to cook up a workable H-bomb. They did and we have decided to share their culinary secrets with you. Not that Seven Days supports nuclear terrorism. We don't. We would prefer to die slowly from familiar poisons like low-level radiation, microwaves, DDT, DBCP, aflatoxins, PBBs, PBCs, or food dyes, rather than unexpectedly, say as hostage to a Latvian nationalist brandishing a homemade bomb. In our view the real terrorists are the governments, American, Soviet, French, Chinese, and British, that are hoarding H-bombs for their own use, and worse still, those governments (U.S., French and German) that are eagerly peddling advanced nuclear technology to countries like South Africa, Brazil, and Argentina so that they can make their own bombs. When these bombs are used, and they will be, it will be the world's big-time nuclear peddlers, along with corporate suppliers like General Electric, Westinghouse, and Gulf Oil, that we can thank for it. Gagging The Progressive will do no more for national security than backyard bomb shelters because like it or not the news is out. The heart of the successful H-bomb is the successful A-bomb. Once you've got your A-bombs made the rest is frosting on the cake. All you have to do is set them up so that when they detonate they'll start off a hydrogen-fusion reaction.  Part 1: Making Your Bomb Step 1: Getting the Ingredients Uranium is the basic ingredient of the A-bomb. When a uranium atom's nucleus splits apart, it releases a tremendous amount of energy (for its size), and it emits neutrons which go on to split other nearby uranium nuclei, releasing more energy, in what is called a 'chain reaction'. (When atoms split, matter is converted into energy according to Einstein's equation E=MC2. What better way to mark his birthday than with your own atomic fireworks?) There are two kinds (isotopes) of uranium: the rare U-235, used in bombs, and the more common, heavier, but useless U-238. Natural uranium contains less than 1 percent U-235 and in order to be usable in bombs it has to be 'enriched' to 90 percent U-235 and only 10 percent U-238. Plutonium-239 can also be used in bombs as a substitute for U-235. Ten pounds of U-235 (or slightly less plutonium) is all that is necessary for a bomb. Less than ten pounds won't give you a critical mass. So purifying or enriching naturally occurring uranium is likely to be your first big hurdle. It is infinitely easy to steal ready-to-use enriched uranium or plutonium than to enrich some yourself. And stealing uranium is not as hard as it sounds. There are at least three sources of enriched uranium or plutonium... Enriched uranium is manufactured at a gaseous diffusion plant in Portsmouth, Ohio. From there it is shipped in 10 liter bottles by airplane and trucks to conversion plants that turn it into uranium oxide or uranium metal. Each 10 liter bottle contains 7 kilograms of U-235, and there are 20 bottles to a typical shipment. Conversion facilities exist at Hematite, Missouri; Apollo, Pennsylvania; and Erwin, Tennessee. The Kerr-McGee plant at Crescent Oklahoma -- where Karen Silkwood worked -- was a conversion plant that 'lost' 40 lbs of plutonium. Enriched uranium can be stolen from these plants or from fuel-fabricating plants like those in New Haven, San Diego; or Lynchburg, Virginia. (A former Kerr-McGee supervisor, James V. Smith, when asked at the Silkwood trial if there were any security precautions at the plant to prevent theft, testified that 'There were none of any kind, no guards, no fences, no nothing.') Plutonium can be obtained from places like United Nuclear in Pawling, New York; Nuclear Fuel Services in Erwin, Tennessee; General Electric in Pleasanton, California; Westinghouse in Cheswick, Pennsylvania; Nuclear Materials and Equipment Corporation (NUMEC) in Leechburg, Pennsylvania; and plants in Hanfford, Washington and Morris, Illinois. According to Rolling Stone magazine the Israelis were involved in the theft of plutonium from NUMEC. Finally you can steal enriched uranium or plutonium while it's en-route from conversion plants to fuel fabricating plants. It is usually transported (by air or truck) in the form of uranium oxide, a brownish powder resembling instant coffee, or as a metal, coming in small chunks called 'broken buttons.' Both forms are shipped in small cans stacked in 5-inch cylinders braced with welded struts in the center of ordinary 55 gallon steel drums. The drums weigh about 100 pounds and are clearly marked 'Fissible Material' or 'Danger, Plutonium.' A typical shipment might go from the enrichment plant at Portsmouth, Ohio to the conversion plant in Hematite Missouri then to Kansas City by truck where it would be flown to Los Angeles and then trucked down to the General Atomic plant in San Diego. The plans for the General Atomic plant are on file at the Nuclear Regulatory Commission's reading room at 1717 H Street NW Washington. A Xerox machine is provided for the convenience of the public. If you can't get hold of any enriched uranium you'll have to settle for commercial grade (20 percent U-235). This can be stolen from university reactors of a type called TRIGA Mark II, where security is even more casual than at commercial plants. If stealing uranium seems too tacky you can buy it. Unenriched uranium is available at any chemical supply house for $23 a pound. Commercial grade (3 to 20 percent enriched) is available for $40 a pound from Gulf Atomic. You'll have to enrich it further yourself. Quite frankly this can be something of a pain in the ass. You'll need to start with a little more than 50 pounds of commercial-grade uranium. (It's only 20 percent U-235 at best, and you need 10 pounds of U-235 so... ) But with a little kitchen-table chemistry you'll be able to convert the solid uranium oxide you've purchased into a liquid form. Once you've done that, you'll be able to separate the U-235 that you'll need from the U-238. First pour a few gallons of concentrated hydrofluoric acid into your uranium oxide, converting it to uranium tetrafluoride. (Safety note: Concentrated hydrofluoric acid is so corrosive that it will eat its way through glass, so store it only in plastic. Used 1-gallon plastic milk containers will do.) Now you have to convert your uranium tetrafluoride to uranium hexafluoride, the gaseous form of uranium, which is convenient for separating out the isotope U-235 from U-238. To get the hexafluoride form, bubble fluorine gas into your container of uranium tetrafluoride. Fluorine is available in pressurized tanks from chemical-supply firms. Be careful how you use it though because fluorine is several times more deadly than chlorine, the classic World War I poison gas. Chemists recommend that you carry out this step under a stove hood (the kind used to remove unpleasant cooking odors). If you've done your chemistry right you should now have a generous supply of uranium hexafluoride ready for enriching. In the old horse-and-buggy days of A-bomb manufacture the enrichment was carried out by passing the uranium hexafluoride through hundreds of miles of pipes, tubes, and membranes, until the U-235 was eventually separated from the U-238. This gaseous-diffusion process, as it was called is difficult, time-consuming, and expensive. Gaseous-diffusion plants cover hundreds of acres and cost in the neighborhood of $2-billion each. So forget it. There are easier, and cheaper, ways to enrich your uranium. First transform the gas into a liquid by subjecting it to pressure. You can use a bicycle pump for this. Then make a simple home centrifuge. Fill a standard-size bucket one-quarter full of liquid uranium hexafluoride. Attach a six-foot rope to the bucket handle. Now swing the rope (and attached bucket) around your head as fast as possible. Keep this up for about 45 minutes. Slow down gradually, and very gently put the bucket on the floor. The U-235, which is lighter, will have risen to the top, where it can be skimmed off like cream. Repeat this step until you have the required 10 pounds of uranium. (Safety note: Don't put all your enriched uranium hexafluoride in one bucket. Use at least two or three buckets and keep them in separate corners of the room. This will prevent the premature build-up of a critical mass.) Now it's time to convert your enriched uranium back to metal form. This is easily enough accomplished by spooning several ladlefuls of calcium (available in tablet form from your drugstore) into each bucket of uranium. The calcium will react with the uranium hexafluoride to produce calcium fluoride, a colorless salt which can be easily be separated from your pure enriched uranium metal. A few precautions: • While uranium is not dangerously radioactive in the amounts you'll be handling, if you plan to make more than one bomb it might be wise to wear gloves and a lead apron, the kind you can buy in dental supply stores. • Plutonium is one of the most toxic substances known. If inhaled, a thousandth of a gram can cause massive fibrosis of the lungs, a painful way to go. Even a millionth of a gram in the lungs will cause cancer. If eaten plutonium is metabolized like calcium. It goes straight to the bones where it gives out alpha particles preventing bone marrow from manufacturing red blood cells. The best way to avoid inhaling plutonium is to hold your breath while handling it. If this is too difficult wear a mask. To avoid ingesting plutonium orally follow this simple rule: never make an A-bomb on an empty stomach. • If you find yourself dozing off while you're working, or if you begin to glow in the dark, it might be wise to take a blood count. Prick your finger with a sterile pin, place a drop of blood on a microscope slide, cover it with a cover slip, and examine under a microscope. (Best results are obtained in the early morning.) When you get leukemia, immature cells are released into the bloodstream, and usually the number of white cells increases (though this increase might take almost 2 weeks). Red blood cells look kind of like donuts (without the hole), and are slightly smaller than the white cells, each of which has a nucleus. Immature red cells look similar to white cells (i.e.. slightly larger and have a nucleus). If you have more than about 1 white cell (including immature ones) to 400 red cells then start to worry. But, depending upon your plans for the eventual use of the bomb, a short life expectancy might not be a problem.  Step 2: Assembling the A-Bomb Now that you've acquired the enriched uranium, all that's left is to assemble your A-bomb. Go find a couple of stainless steel salad bowls. You also want to separate your 10 pounds of U-235 into two hunks. (Keep them apart!) The idea is to push each half your uranium into the inside of a bowl. Take one hunk of your uranium and beat it into the inside of the first bowl. Uranium is malleable, like gold, so you should have no trouble hammering it into the bowl to get a good fit. Take another five-pound hunk of uranium and fit it into a second stainless steel bowl. These two bowls of U-235 are the 'subcritical masses' which, when brought together forcefully, will provide the critical mass that makes your A-bomb go. Keep them a respectful distance apart while working because you don't want them to 'go critical' on you... At least not yet. Now hollow out the body of an old vacuum cleaner and place your two hemispherical bowls inside, open ends facing each other, no less than seven inches apart, using masking tape to set them up in position. The reason for the steel bowls and the vacuum cleaner, in case you're wondering, is that these help reflect the neutrons back into the uranium for a more efficient explosion. 'A loose neutron is a useless neutron' as the A-bomb pioneers used to say. As far as the A-bomb goes, you're almost done. The final problem is to figure out how to get the two U-235 hemispheres to smash into each other with sufficient force to set off a truly effective fission reaction. Almost any type of explosive can be used to drive them together. Gunpowder, for example, is easily made at home from potassium nitrate, sulfur, and carbon. Or, you can get some blasting caps or TNT. (Buy them or steal them from a construction site.) Best of all is C4 plastic explosive. You can mold it around your bowls, and it's fairly safe to work with. (But, it might be wise to shape it around an extra salad bowl in another room, and THEN fit it to your uranium-packed bowls. This is particularly true in winter, when a stray static electrical charge might induce ignition in the C4. A responsible bomb maker considers it impolite to accidentally destroy more of the neighborhood than absolutely necessary.) Once the explosives are in place all you need to do is hook up a simple detonation device with a few batteries, a switch, and some wire. Remember though that it is essential that the two charges -- one on each side of the casing -- go off simultaneously. Now put the whole thing in the casing of an old Hoover vacuum cleaner and you're finished with this part of the process. The rest is easy.  Step 3: Make More A-Bombs Following the Directions Above  A Word to the Wise About Wastes After your A-bomb is completed you'll have a pile of moderately fatal radioactive wastes like U-238. These are not dangerous, but you do have to get rid of them. You can flush leftovers down the toilet. (Don't worry about polluting the ocean, there is already so much radioactive waste there, a few more bucketfuls won't make any waves whatsoever.) If you're the fastidious type -- the kind who never leaves gum under their seat at the movies -- you can seal the nasty stuff in coffee cans and bury it in the backyard, just like Uncle Sam does. If the neighbor kids have a habit of trampling the lawn, tell them to play over by the waste. You'll soon find that they're spending most of their time in bed.  Going First Class If you're like us, you're feeling the economic pinch, and you'll want to make your bomb as inexpensively as possible, consonant of course with reasonable yield. The recipe we've given is for a budget-pleasing H-bomb, no frills, no flourishes; it's just a simple 5-megaton bomb, capable of wiping out the New York metropolitan area, the San Francisco Bay area, or Boston. But don't forget, your H-bomb will only be as good as the A-bombs in it. If you want to spend a little more money you can punch-up your A-bomb considerably. Instead of centrifuging your uranium by hand, you can buy a commercial centrifuge. (Fisher Scientific sells one for about $1000.) You also might want to be fussier about your design. The Hiroshima bomb, a relatively crude one, only fissioned 1 percent of it's uranium and yielded only 13 kilotons. In order to fission more of the uranium, the force of your explosive 'trigger' needs to be evenly diffused around the sphere; the same pressure has to be exerted on every point of the sphere simultaneously. (It was a technique for producing this sort of simultaneous detonation by fashioning the explosives into lenses that the government accused Julius and Ethel Rosenberg of trying to steal).  Part 2: Putting Your H-Bomb Together The heart of the H-bomb is the fusion process. Several A-bombs are detonated in such a way as to create the extremely high temperature (100 million degrees C) necessary to fuse lithium deuteride (LiD) into helium. When the lithium nucleus slams into the deuterium nucleus, two helium nuclei are created, and if this happens to enough deuterium nuclei rapidly enough, the result is an enormous amount of energy: the energy of the H-bomb. You don't have to worry about stealing lithium deuteride, it can be purchased from any chemical-supply house. It costs $1000 a pound. If your budget won't allow it you can substitute lithium hydride at $40 a pound. You will need at least 100 pounds. It's a corrosive and toxic powder so be careful. Place the lithium deuteride or hydride in glass jars and surround it with four A-bombs in their casings. Attach them to the same detonator so that they will go off simultaneously. The container for the whole thing is no problem. They can be placed anywhere: Inside an old stereo console, a discarded refrigerator, etc... When the detonator sets off the four A-bombs all eight hemispheres of fissionable material will slam into each other at the same time creating four critical masses and four detonations. This will raise the temperature of the lithium deuteride to 100 million degrees C fast enough (a few billionths of a second) so that the lithium will not be blown all over the neighborhood before the nuclei have time to fuse. The result, at least 1000 times the punch of the puny A-bomb that leveled Hiroshima (20 million tons of TNT vs. 20 thousand tons.)  Part 3: What to do With Your Bomb Now that you have a fully assembled H-bomb housed in an attractive console of your choice you may be wondering, 'What should I do with it?' Every family will have to answer this question according to its own tastes and preferences, but you may want to explore some possibilities which have been successfully pioneered by the American government. 1. Sell Your Bomb and Make a Pile of Money In these days of rising inflation, increasing unemployment, and an uncertain economic outlook, few businesses make as much sense as weapons production. If your career forecast is cloudy, bomb sales may be the only sure way to avoid the humiliation of receiving welfare, or unemployment. Regardless of your present income level, a home H-bomb business can be an invaluable income supplement, and certainly a profitable alternative to selling Tupperware or pirated Girl Scout cookies. Unfortunately for the family bomb business, big government has already cornered a large part of the world market. But this does not mean that there is a shortage of potential customers. The raid on Entebee was the Waterloo of hijacking, and many nationalist groups are now on the alert for new means to get their message across. They'd jump at the chance to get hold of an H-bomb. Emerging nations which can't ante up enough rice or sugar to buy themselves a reactor from G.E. or Westinghouse are also shopping around. You may wonder about the ethics of selling to nations, or groups, whose goals you may disapprove of. But here again, take a tip from our government: forget ideology -- it's cash that counts. And remember, H-bomb sales have a way of escalating, almost like a chain reaction. Suppose you make a sale to South Yemen which you believe to be a Soviet puppet. Well within a few days some discrete inquiries from North Yemen and possibly the Saudis, the Egyptians and the Ethiopians as well can be expected. Similarly, a sale to the IRA will generate a sale to the Ulster government; and a sale to the Tanzanians will bring the Ugandans running, and so forth. It doesn't matter WHICH side you're on, only how many sides there are. Don't forget about the possibility of repeat sales to the same customer. As the experience of both the U.S. and the U.S.S.R. has shown, each individual nation has a potentially infinite need for H-bombs. No customer -- no matter how small -- can ever have too many. 2. Use Your Bomb at Home Many families are attracted to the H-bomb simply as a 'deterrent.' A discrete sticker on the door or on the living room window saying 'This Home Protected by H-bomb' will discourage IRS investigators, census takers, and Jehovah's Witnesses. You'll be surprised how fast the crime rate will go down and property values will go up. And once the news gets out that you are a home H-bomb owner you'll find that you have unexpected leverage in neighborhood disputes over everything from parking places and stereo noise levels to school tax rates. So relax and enjoy the pride and excitement of home H-bomb ownership!  Is It For You? Let's be honest. The H-bomb isn't for everyone. Frankly there are people who can't handle it. They break out in hives at the very mention of mega-death, fallout, or radiation sickness. The following quiz will help you find out whether you have what it takes for home H-bomb ownership. If you can answer 'yes' to six or more of these questions, then you're emotionally eligible to join the nuclear club. If not, a more conventional weapon may be more your cup of tea, try botulism-toxin, laser rays, or nerve gas. 1. I ignore the demands of others. 2. I subscribe to one or more of the following: Soldier of Fortune, Hustler, Popular Mechanics, Self. 3. Though I have many interesting acquaintances, I am my own best friend. 4. I know what to say after you say 'Hello,' but I am seldom interested in pursuing the conversation. 5. I have seen the movie 'The Deer Hunter' more than once. 6. I know that everyone can be a winner if they want to, and I resent whiners. 7. I own one or more of the following: handgun, video game, trash compactor, snowmobile. 8. I am convinced that leukemia is psychosomatic. 9. I am aware that most vegetarians are sexually impotent. 10. I have read evidence that solar energy is a Communist conspiracy.  Myths About Nuclear War Ever since the first mushroom cloud over Hiroshima ushered in the atomic age, a small group of nay-sayers and doom-mongers has lobbied, campaigned and demonstrated to convince Americans that H-bomb ownership, along with nuclear power, is dangerous and unhealthy. Using their virtual stranglehold over the media, these people have tried to discredit everything nuclear from energy to war. They have vastly overrated the risks of nuclear bombs and left many Americans feeling demoralized and indecisive; not sure where the truth lies. Well, here are the myths, and here are the facts. Myth: After a nuclear exchange the earth will no longer be suitable for human habitation. Fact: This is completely false. According to one scientist (quoted in John McPee's The Curve of Binding Energy) 'The largest bomb that has ever been exploded anywhere was 60 megatons, and that is one-thousandth the force of an earthquake, one-thousandth the force of a hurricane. We have lived with earthquakes and hurricanes for a long time.' Another scientist adds, 'It is often assumed that a full blown nuclear war would be the end of life on earth. That is far from the truth. To end life on earth would take at least a thousand times the total yield of all the nuclear explosives existing in the world, and probably a lot more.' Even if humans succumbed, many forms of life would survive a nuclear free-for-all, cockroaches, certain forms of bacteria, and lichens, for instance. Myth: Radiation is bad for you. Fact: Everything is bad for you if you have too much of it. If you eat too many bananas you'll get a stomach-ache. If you get too much sun you can get sunburned (or even skin cancer). Same thing with radiation. Too much may make you feel under the weather, but nuclear industry officials insist that there is no evidence that low-level radiation has any really serious adverse effects. And, high-level radiation may bring unexpected benefits. It speeds up evolution by weeding out unwanted genetic types and creating new ones. (Remember the old saying, 'Two heads are better than one.') Nearer to home, it's plain that radiation will get rid of pesky crab grass and weeds, and teenagers will find that brief exposure to a nuclear burst vaporizes acne and other skin blemishes. (Many survivors of the Hiroshima bomb found that they were free from skin and it's attendant problems forever.) We hope this clears up any misconceptions you may have had. Enjoy your H-Bomb!           \""
      ]
     },
     "execution_count": 11,
     "metadata": {},
     "output_type": "execute_result"
    }
   ],
   "source": [
    "data['text'][2]"
   ]
  },
  {
   "cell_type": "code",
   "execution_count": 12,
   "metadata": {
    "colab": {
     "base_uri": "https://localhost:8080/"
    },
    "id": "1LYZtadvfqah",
    "outputId": "5790c16a-814e-4d64-e962-8ed4a22badde"
   },
   "outputs": [
    {
     "data": {
      "text/plain": [
       "(681284, 7)"
      ]
     },
     "execution_count": 12,
     "metadata": {},
     "output_type": "execute_result"
    }
   ],
   "source": [
    "data.shape"
   ]
  },
  {
   "cell_type": "markdown",
   "metadata": {
    "id": "KKrj3fEBRJEN"
   },
   "source": [
    "## DATA CLEANING"
   ]
  },
  {
   "cell_type": "code",
   "execution_count": 13,
   "metadata": {
    "id": "oidxhYQpQ-Dr"
   },
   "outputs": [],
   "source": [
    "# we remove columns id and date\n",
    "data = data.drop(columns = ['id','date'])"
   ]
  },
  {
   "cell_type": "code",
   "execution_count": 14,
   "metadata": {
    "colab": {
     "base_uri": "https://localhost:8080/",
     "height": 206
    },
    "id": "YyvgNzWif_Wj",
    "outputId": "6f2cba28-763a-4641-e119-56356670cef5"
   },
   "outputs": [
    {
     "data": {
      "text/html": [
       "<div>\n",
       "<style scoped>\n",
       "    .dataframe tbody tr th:only-of-type {\n",
       "        vertical-align: middle;\n",
       "    }\n",
       "\n",
       "    .dataframe tbody tr th {\n",
       "        vertical-align: top;\n",
       "    }\n",
       "\n",
       "    .dataframe thead th {\n",
       "        text-align: right;\n",
       "    }\n",
       "</style>\n",
       "<table border=\"1\" class=\"dataframe\">\n",
       "  <thead>\n",
       "    <tr style=\"text-align: right;\">\n",
       "      <th></th>\n",
       "      <th>gender</th>\n",
       "      <th>age</th>\n",
       "      <th>topic</th>\n",
       "      <th>sign</th>\n",
       "      <th>text</th>\n",
       "    </tr>\n",
       "  </thead>\n",
       "  <tbody>\n",
       "    <tr>\n",
       "      <th>0</th>\n",
       "      <td>male</td>\n",
       "      <td>15</td>\n",
       "      <td>Student</td>\n",
       "      <td>Leo</td>\n",
       "      <td>Info has been found (+/- 100 pages,...</td>\n",
       "    </tr>\n",
       "    <tr>\n",
       "      <th>1</th>\n",
       "      <td>male</td>\n",
       "      <td>15</td>\n",
       "      <td>Student</td>\n",
       "      <td>Leo</td>\n",
       "      <td>These are the team members:   Drewe...</td>\n",
       "    </tr>\n",
       "    <tr>\n",
       "      <th>2</th>\n",
       "      <td>male</td>\n",
       "      <td>15</td>\n",
       "      <td>Student</td>\n",
       "      <td>Leo</td>\n",
       "      <td>In het kader van kernfusie op aarde...</td>\n",
       "    </tr>\n",
       "    <tr>\n",
       "      <th>3</th>\n",
       "      <td>male</td>\n",
       "      <td>15</td>\n",
       "      <td>Student</td>\n",
       "      <td>Leo</td>\n",
       "      <td>testing!!!  testing!!!</td>\n",
       "    </tr>\n",
       "    <tr>\n",
       "      <th>4</th>\n",
       "      <td>male</td>\n",
       "      <td>33</td>\n",
       "      <td>InvestmentBanking</td>\n",
       "      <td>Aquarius</td>\n",
       "      <td>Thanks to Yahoo!'s Toolbar I can ...</td>\n",
       "    </tr>\n",
       "  </tbody>\n",
       "</table>\n",
       "</div>"
      ],
      "text/plain": [
       "  gender  age              topic      sign  \\\n",
       "0   male   15            Student       Leo   \n",
       "1   male   15            Student       Leo   \n",
       "2   male   15            Student       Leo   \n",
       "3   male   15            Student       Leo   \n",
       "4   male   33  InvestmentBanking  Aquarius   \n",
       "\n",
       "                                                text  \n",
       "0             Info has been found (+/- 100 pages,...  \n",
       "1             These are the team members:   Drewe...  \n",
       "2             In het kader van kernfusie op aarde...  \n",
       "3                   testing!!!  testing!!!            \n",
       "4               Thanks to Yahoo!'s Toolbar I can ...  "
      ]
     },
     "execution_count": 14,
     "metadata": {},
     "output_type": "execute_result"
    }
   ],
   "source": [
    "data.head()"
   ]
  },
  {
   "cell_type": "code",
   "execution_count": 15,
   "metadata": {
    "colab": {
     "base_uri": "https://localhost:8080/"
    },
    "id": "8Bx11DNPgn_s",
    "outputId": "cfa2ec48-1f39-4b47-bc62-1f35256ee7e7"
   },
   "outputs": [
    {
     "data": {
      "text/plain": [
       "gender    object\n",
       "age        int64\n",
       "topic     object\n",
       "sign      object\n",
       "text      object\n",
       "dtype: object"
      ]
     },
     "execution_count": 15,
     "metadata": {},
     "output_type": "execute_result"
    }
   ],
   "source": [
    "data.dtypes"
   ]
  },
  {
   "cell_type": "code",
   "execution_count": 16,
   "metadata": {
    "colab": {
     "base_uri": "https://localhost:8080/"
    },
    "id": "9Mx6Atzbgy6_",
    "outputId": "0f8324e5-a51a-4d09-c3b4-ba60c47af66e"
   },
   "outputs": [
    {
     "data": {
      "text/plain": [
       "male      345193\n",
       "female    336091\n",
       "Name: gender, dtype: int64"
      ]
     },
     "execution_count": 16,
     "metadata": {},
     "output_type": "execute_result"
    }
   ],
   "source": [
    "data.gender.value_counts()"
   ]
  },
  {
   "cell_type": "code",
   "execution_count": 17,
   "metadata": {
    "colab": {
     "base_uri": "https://localhost:8080/"
    },
    "id": "ttt_bliEwZn4",
    "outputId": "c4316d1e-cd2c-44b3-f4b7-05d010910e19"
   },
   "outputs": [
    {
     "data": {
      "text/plain": [
       "array(['male', 'female'], dtype=object)"
      ]
     },
     "execution_count": 17,
     "metadata": {},
     "output_type": "execute_result"
    }
   ],
   "source": [
    "data.gender.unique()"
   ]
  },
  {
   "cell_type": "code",
   "execution_count": 18,
   "metadata": {
    "colab": {
     "base_uri": "https://localhost:8080/"
    },
    "id": "p3LkWqGWwGRp",
    "outputId": "e3f1ed47-a9d3-47db-8620-37cfac2bd6ef"
   },
   "outputs": [
    {
     "data": {
      "text/plain": [
       "indUnk                     251015\n",
       "Student                    153903\n",
       "Technology                  42055\n",
       "Arts                        32449\n",
       "Education                   29633\n",
       "Communications-Media        20140\n",
       "Internet                    16006\n",
       "Non-Profit                  14700\n",
       "Engineering                 11653\n",
       "Law                          9040\n",
       "Publishing                   7753\n",
       "Science                      7269\n",
       "Government                   6907\n",
       "Consulting                   5862\n",
       "Religion                     5235\n",
       "Fashion                      4851\n",
       "Marketing                    4769\n",
       "Advertising                  4676\n",
       "BusinessServices             4500\n",
       "Banking                      4049\n",
       "Chemicals                    3928\n",
       "Telecommunications           3891\n",
       "Accounting                   3832\n",
       "Military                     3128\n",
       "Museums-Libraries            3096\n",
       "Sports-Recreation            3038\n",
       "HumanResources               3010\n",
       "RealEstate                   2870\n",
       "Transportation               2326\n",
       "Manufacturing                2272\n",
       "Biotech                      2234\n",
       "Tourism                      1942\n",
       "LawEnforcement-Security      1878\n",
       "Architecture                 1638\n",
       "InvestmentBanking            1292\n",
       "Automotive                   1244\n",
       "Agriculture                  1235\n",
       "Construction                 1093\n",
       "Environment                   592\n",
       "Maritime                      280\n",
       "Name: topic, dtype: int64"
      ]
     },
     "execution_count": 18,
     "metadata": {},
     "output_type": "execute_result"
    }
   ],
   "source": [
    "data.topic.value_counts()"
   ]
  },
  {
   "cell_type": "code",
   "execution_count": 19,
   "metadata": {
    "colab": {
     "base_uri": "https://localhost:8080/"
    },
    "id": "EFfPOJwhwPUN",
    "outputId": "5781ceca-8ca2-409e-f8a0-fc50026f43b4"
   },
   "outputs": [
    {
     "data": {
      "text/plain": [
       "Cancer         65048\n",
       "Aries          64979\n",
       "Taurus         62561\n",
       "Libra          62363\n",
       "Virgo          60399\n",
       "Scorpio        57161\n",
       "Pisces         54053\n",
       "Leo            53811\n",
       "Gemini         51985\n",
       "Sagittarius    50036\n",
       "Aquarius       49687\n",
       "Capricorn      49201\n",
       "Name: sign, dtype: int64"
      ]
     },
     "execution_count": 19,
     "metadata": {},
     "output_type": "execute_result"
    }
   ],
   "source": [
    "data.sign.value_counts()"
   ]
  },
  {
   "cell_type": "markdown",
   "metadata": {
    "id": "SLR15Gulh5sz"
   },
   "source": [
    "### EDA"
   ]
  },
  {
   "cell_type": "code",
   "execution_count": 20,
   "metadata": {
    "colab": {
     "base_uri": "https://localhost:8080/",
     "height": 295
    },
    "id": "v_NUZ8JkiBSG",
    "outputId": "1ba02bd9-1a8e-46b9-ff9a-cb0edf809929"
   },
   "outputs": [
    {
     "data": {
      "image/png": "[encoded data removed]",
      "text/plain": [
       "<Figure size 432x288 with 1 Axes>"
      ]
     },
     "metadata": {
      "needs_background": "light"
     },
     "output_type": "display_data"
    }
   ],
   "source": [
    "ax = sns.countplot(x='gender',data=data)\n",
    "plt.title('Gender Count Bar Plot')\n",
    "#ax.bar_label(ax.container[0])\n",
    "plt.show()"
   ]
  },
  {
   "cell_type": "code",
   "execution_count": 21,
   "metadata": {
    "colab": {
     "base_uri": "https://localhost:8080/",
     "height": 413
    },
    "id": "AVst2MKMr9E_",
    "outputId": "ebdb3ac1-3e95-453d-cb58-cd52acbd07e6"
   },
   "outputs": [
    {
     "data": {
      "image/png": "[encoded data removed]",
      "text/plain": [
       "<Figure size 432x288 with 1 Axes>"
      ]
     },
     "metadata": {
      "needs_background": "light"
     },
     "output_type": "display_data"
    }
   ],
   "source": [
    "ax = sns.countplot(x='topic',data=data)\n",
    "plt.title('Gendetopic Count Bar Plot')\n",
    "#ax.bar_label(ax.container[0])\n",
    "plt.xticks(rotation=90)\n",
    "plt.show()"
   ]
  },
  {
   "cell_type": "code",
   "execution_count": 22,
   "metadata": {
    "colab": {
     "base_uri": "https://localhost:8080/",
     "height": 339
    },
    "id": "M8cVt0vstw9P",
    "outputId": "57f21b04-d11e-4e18-906d-eef40846813e"
   },
   "outputs": [
    {
     "data": {
      "image/png": "[encoded data removed]",
      "text/plain": [
       "<Figure size 432x288 with 1 Axes>"
      ]
     },
     "metadata": {
      "needs_background": "light"
     },
     "output_type": "display_data"
    }
   ],
   "source": [
    "ax = sns.countplot(x='sign',data=data)\n",
    "plt.title('Sign Count Bar Plot')\n",
    "#ax.bar_label(ax.container[0])\n",
    "plt.xticks(rotation=90)\n",
    "plt.show()"
   ]
  },
  {
   "cell_type": "markdown",
   "metadata": {
    "id": "VlA-Hb4wxyiG"
   },
   "source": [
    "## Steps to clean the data :"
   ]
  },
  {
   "cell_type": "markdown",
   "metadata": {
    "id": "Q77g13Yax4e8"
   },
   "source": [
    "**1.Punctuation Removal:**\n",
    "\n",
    "In this step, all the punctuations from the text are removed. string library of Python contains some pre-defined list of punctuations such as ‘!”#$%&'()*+,-./:;?@[\\]^_`{|}~’"
   ]
  },
  {
   "cell_type": "code",
   "execution_count": 23,
   "metadata": {
    "colab": {
     "base_uri": "https://localhost:8080/",
     "height": 35
    },
    "id": "mLfQu1u3uGJc",
    "outputId": "109f5484-a23e-43d7-8bff-cfcc6025f0b8"
   },
   "outputs": [
    {
     "data": {
      "text/plain": [
       "'!\"#$%&\\'()*+,-./:;<=>?@[\\\\]^_`{|}~'"
      ]
     },
     "execution_count": 23,
     "metadata": {},
     "output_type": "execute_result"
    }
   ],
   "source": [
    "string.punctuation"
   ]
  },
  {
   "cell_type": "code",
   "execution_count": 24,
   "metadata": {
    "colab": {
     "base_uri": "https://localhost:8080/",
     "height": 53
    },
    "id": "IE9XA5YSyX6u",
    "outputId": "3e49b5b8-d95b-4ad1-fbec-7e68aad518cf"
   },
   "outputs": [
    {
     "data": {
      "text/plain": [
       "'           Info has been found  100 pages and 45 MB of pdf files Now i have to wait untill our team leader has processed it and learns html         '"
      ]
     },
     "execution_count": 24,
     "metadata": {},
     "output_type": "execute_result"
    }
   ],
   "source": [
    "# creating a method to remove Punctuation\n",
    "def remove_punctuation(text):\n",
    "    new_text = \"\".join([word for word in text if word not in list(string.punctuation)])\n",
    "    return new_text\n",
    "\n",
    "#lets test it\n",
    "remove_punctuation(data['text'][0])"
   ]
  },
  {
   "cell_type": "code",
   "execution_count": 25,
   "metadata": {
    "id": "00s6ZZCsziTr"
   },
   "outputs": [],
   "source": [
    "data['clean_text'] = data['text'].apply(lambda text : remove_punctuation(text))"
   ]
  },
  {
   "cell_type": "code",
   "execution_count": 26,
   "metadata": {
    "colab": {
     "base_uri": "https://localhost:8080/"
    },
    "id": "9rU2Y2Fa0JAX",
    "outputId": "14105398-7a0e-471d-da30-e63b26e7e39b"
   },
   "outputs": [
    {
     "data": {
      "text/plain": [
       "0               Info has been found  100 pages and ...\n",
       "1               These are the team members   Drewes...\n",
       "2               In het kader van kernfusie op aarde...\n",
       "3                           testing  testing          \n",
       "4                 Thanks to Yahoos Toolbar I can no...\n",
       "Name: clean_text, dtype: object"
      ]
     },
     "execution_count": 26,
     "metadata": {},
     "output_type": "execute_result"
    }
   ],
   "source": [
    "data['clean_text'].head()"
   ]
  },
  {
   "cell_type": "markdown",
   "metadata": {
    "id": "G-G5zWnM4sbR"
   },
   "source": [
    "**2. Lowering the text:**\n",
    "\n",
    "It is one of the most common preprocessing steps where the text is converted into the same case preferably lower case. But it is not necessary to do this step every time you are working on an NLP problem as for some problems lower casing can lead to loss of information."
   ]
  },
  {
   "cell_type": "code",
   "execution_count": 27,
   "metadata": {
    "id": "kRWDmv2W4OjS"
   },
   "outputs": [],
   "source": [
    "data['clean_text']= data['clean_text'].apply(lambda text: text.lower())"
   ]
  },
  {
   "cell_type": "code",
   "execution_count": 28,
   "metadata": {
    "colab": {
     "base_uri": "https://localhost:8080/",
     "height": 53
    },
    "id": "o8xUL21k5COo",
    "outputId": "9c881b6d-caa1-492a-d7c1-9e57a8464218"
   },
   "outputs": [
    {
     "data": {
      "text/plain": [
       "'           info has been found  100 pages and 45 mb of pdf files now i have to wait untill our team leader has processed it and learns html         '"
      ]
     },
     "execution_count": 28,
     "metadata": {},
     "output_type": "execute_result"
    }
   ],
   "source": [
    "data.clean_text[0]"
   ]
  },
  {
   "cell_type": "markdown",
   "metadata": {},
   "source": [
    "**3. Remove numbers**"
   ]
  },
  {
   "cell_type": "code",
   "execution_count": 29,
   "metadata": {},
   "outputs": [
    {
     "data": {
      "text/plain": [
       "'abcd efg '"
      ]
     },
     "execution_count": 29,
     "metadata": {},
     "output_type": "execute_result"
    }
   ],
   "source": [
    "def remove_number(text):\n",
    "    new_text = \"\".join(word for word in text if not word.isdigit())\n",
    "    return new_text\n",
    "\n",
    "s = 'abcd12345 efg 567'\n",
    "remove_number(s)"
   ]
  },
  {
   "cell_type": "code",
   "execution_count": 30,
   "metadata": {},
   "outputs": [],
   "source": [
    "data['clean_text']= data['clean_text'].apply(lambda text: remove_number(text))"
   ]
  },
  {
   "cell_type": "code",
   "execution_count": 31,
   "metadata": {},
   "outputs": [
    {
     "data": {
      "text/plain": [
       "'           info has been found   pages and  mb of pdf files now i have to wait untill our team leader has processed it and learns html         '"
      ]
     },
     "execution_count": 31,
     "metadata": {},
     "output_type": "execute_result"
    }
   ],
   "source": [
    "data.clean_text[0]"
   ]
  },
  {
   "cell_type": "markdown",
   "metadata": {},
   "source": [
    "**4. Remove Links**"
   ]
  },
  {
   "cell_type": "code",
   "execution_count": 32,
   "metadata": {},
   "outputs": [
    {
     "data": {
      "text/plain": [
       "'Amazing Save  ok '"
      ]
     },
     "execution_count": 32,
     "metadata": {},
     "output_type": "execute_result"
    }
   ],
   "source": [
    "def remove_URLS(text):\n",
    "    return re.sub(r\"http\\S+\",\"\",text)\n",
    "\n",
    "url_text = \"Amazing Save https://stackoverflow.com ok \"\n",
    "remove_URLS(url_text)"
   ]
  },
  {
   "cell_type": "code",
   "execution_count": 33,
   "metadata": {},
   "outputs": [],
   "source": [
    "data['clean_text'] = data['clean_text'].apply(lambda text: remove_URLS(text))"
   ]
  },
  {
   "cell_type": "code",
   "execution_count": null,
   "metadata": {},
   "outputs": [],
   "source": []
  },
  {
   "cell_type": "markdown",
   "metadata": {},
   "source": [
    "**5. Remove Html tags**"
   ]
  },
  {
   "cell_type": "code",
   "execution_count": 34,
   "metadata": {},
   "outputs": [],
   "source": [
    "from bs4 import BeautifulSoup\n",
    "\n",
    "def remove_HTML(text):\n",
    "    return BeautifulSoup(text,\"lxml\").text"
   ]
  },
  {
   "cell_type": "code",
   "execution_count": 35,
   "metadata": {},
   "outputs": [],
   "source": [
    "data['clean_text'] = data['clean_text'].apply(lambda text: remove_HTML(text))"
   ]
  },
  {
   "cell_type": "markdown",
   "metadata": {},
   "source": [
    "**Remove mail ids**"
   ]
  },
  {
   "cell_type": "code",
   "execution_count": 36,
   "metadata": {},
   "outputs": [
    {
     "data": {
      "text/plain": [
       "'abc 123 foo bar'"
      ]
     },
     "execution_count": 36,
     "metadata": {},
     "output_type": "execute_result"
    }
   ],
   "source": [
    "t= 'abc user@xxx.com 123 any@www foo @ bar 78@ppp @5555 aa@111'\n",
    "\n",
    "def remove_mail(text):\n",
    "    required_output=re.sub(r'[A-Za-z0-9]*@[A-Za-z]*\\.?[A-Za-z0-9]*', \"\", text)\n",
    "    required_output=\" \".join(required_output.split())\n",
    "    return required_output\n",
    "    \n",
    "remove_mail(t)"
   ]
  },
  {
   "cell_type": "code",
   "execution_count": 37,
   "metadata": {},
   "outputs": [],
   "source": [
    "data['clean_text'] = data['clean_text'].apply(lambda text: remove_mail(text))"
   ]
  },
  {
   "cell_type": "code",
   "execution_count": 38,
   "metadata": {},
   "outputs": [
    {
     "data": {
      "text/plain": [
       "'in het kader van kernfusie op aarde maak je eigen waterstofbom how to build an hbomb from ascotttartarusuwaeduau andrew scott newsgroups rechumor subject how to build an hbomb humorous date feb gmt organization the university of western australia original file dated th november seemed to be a transcript of a seven days article poorly formatted and corrupted i have added the text between examine under a microscope and malleable like gold as it was missing if anyone has the full text please distribute i am not responsible for the accuracy of this information converted to html by dionisioinfinetcom did a little spellchecking and some minor edits too stolen from urllink and reformatted the html it now validates to xhtml strict how to build an hbomb making and owning an hbomb is the kind of challenge real americans seek who wants to be a passive victim of nuclear war when with a little effort you can be an active participant bomb shelters are for losers who wants to huddle together underground eating canned spam winners want to push the button themselves making your own hbomb is a big step in nuclear assertiveness training its called taking charge were sure youll enjoy the risks and the heady thrill of playing nuclear chicken introduction when the feds clamped down on the progressive magazine for attempting to publish an article on the manufacture of the hydrogen bomb it piqued our curiosity was it really true that atomic and hydrogen bomb technology was so simple you could build an hbomb in your own kitchen seven days decided to find out food editor barbara ehrenreich investigative reporter peter biskind photographer jane melnick and nuclear scientist michio kaku were given three days to cook up a workable hbomb they did and we have decided to share their culinary secrets with you not that seven days supports nuclear terrorism we dont we would prefer to die slowly from familiar poisons like lowlevel radiation microwaves ddt dbcp aflatoxins pbbs pbcs or food dyes rather than unexpectedly say as hostage to a latvian nationalist brandishing a homemade bomb in our view the real terrorists are the governments american soviet french chinese and british that are hoarding hbombs for their own use and worse still those governments us french and german that are eagerly peddling advanced nuclear technology to countries like south africa brazil and argentina so that they can make their own bombs when these bombs are used and they will be it will be the worlds bigtime nuclear peddlers along with corporate suppliers like general electric westinghouse and gulf oil that we can thank for it gagging the progressive will do no more for national security than backyard bomb shelters because like it or not the news is out the heart of the successful hbomb is the successful abomb once youve got your abombs made the rest is frosting on the cake all you have to do is set them up so that when they detonate theyll start off a hydrogenfusion reaction part making your bomb step getting the ingredients uranium is the basic ingredient of the abomb when a uranium atoms nucleus splits apart it releases a tremendous amount of energy for its size and it emits neutrons which go on to split other nearby uranium nuclei releasing more energy in what is called a chain reaction when atoms split matter is converted into energy according to einsteins equation emc what better way to mark his birthday than with your own atomic fireworks there are two kinds isotopes of uranium the rare u used in bombs and the more common heavier but useless u natural uranium contains less than percent u and in order to be usable in bombs it has to be enriched to percent u and only percent u plutonium can also be used in bombs as a substitute for u ten pounds of u or slightly less plutonium is all that is necessary for a bomb less than ten pounds wont give you a critical mass so purifying or enriching naturally occurring uranium is likely to be your first big hurdle it is infinitely easy to steal readytouse enriched uranium or plutonium than to enrich some yourself and stealing uranium is not as hard as it sounds there are at least three sources of enriched uranium or plutonium enriched uranium is manufactured at a gaseous diffusion plant in portsmouth ohio from there it is shipped in liter bottles by airplane and trucks to conversion plants that turn it into uranium oxide or uranium metal each liter bottle contains kilograms of u and there are bottles to a typical shipment conversion facilities exist at hematite missouri apollo pennsylvania and erwin tennessee the kerrmcgee plant at crescent oklahoma where karen silkwood worked was a conversion plant that lost lbs of plutonium enriched uranium can be stolen from these plants or from fuelfabricating plants like those in new haven san diego or lynchburg virginia a former kerrmcgee supervisor james v smith when asked at the silkwood trial if there were any security precautions at the plant to prevent theft testified that there were none of any kind no guards no fences no nothing plutonium can be obtained from places like united nuclear in pawling new york nuclear fuel services in erwin tennessee general electric in pleasanton california westinghouse in cheswick pennsylvania nuclear materials and equipment corporation numec in leechburg pennsylvania and plants in hanfford washington and morris illinois according to rolling stone magazine the israelis were involved in the theft of plutonium from numec finally you can steal enriched uranium or plutonium while its enroute from conversion plants to fuel fabricating plants it is usually transported by air or truck in the form of uranium oxide a brownish powder resembling instant coffee or as a metal coming in small chunks called broken buttons both forms are shipped in small cans stacked in inch cylinders braced with welded struts in the center of ordinary gallon steel drums the drums weigh about pounds and are clearly marked fissible material or danger plutonium a typical shipment might go from the enrichment plant at portsmouth ohio to the conversion plant in hematite missouri then to kansas city by truck where it would be flown to los angeles and then trucked down to the general atomic plant in san diego the plans for the general atomic plant are on file at the nuclear regulatory commissions reading room at h street nw washington a xerox machine is provided for the convenience of the public if you cant get hold of any enriched uranium youll have to settle for commercial grade percent u this can be stolen from university reactors of a type called triga mark ii where security is even more casual than at commercial plants if stealing uranium seems too tacky you can buy it unenriched uranium is available at any chemical supply house for a pound commercial grade to percent enriched is available for a pound from gulf atomic youll have to enrich it further yourself quite frankly this can be something of a pain in the ass youll need to start with a little more than pounds of commercialgrade uranium its only percent u at best and you need pounds of u so but with a little kitchentable chemistry youll be able to convert the solid uranium oxide youve purchased into a liquid form once youve done that youll be able to separate the u that youll need from the u first pour a few gallons of concentrated hydrofluoric acid into your uranium oxide converting it to uranium tetrafluoride safety note concentrated hydrofluoric acid is so corrosive that it will eat its way through glass so store it only in plastic used gallon plastic milk containers will do now you have to convert your uranium tetrafluoride to uranium hexafluoride the gaseous form of uranium which is convenient for separating out the isotope u from u to get the hexafluoride form bubble fluorine gas into your container of uranium tetrafluoride fluorine is available in pressurized tanks from chemicalsupply firms be careful how you use it though because fluorine is several times more deadly than chlorine the classic world war i poison gas chemists recommend that you carry out this step under a stove hood the kind used to remove unpleasant cooking odors if youve done your chemistry right you should now have a generous supply of uranium hexafluoride ready for enriching in the old horseandbuggy days of abomb manufacture the enrichment was carried out by passing the uranium hexafluoride through hundreds of miles of pipes tubes and membranes until the u was eventually separated from the u this gaseousdiffusion process as it was called is difficult timeconsuming and expensive gaseousdiffusion plants cover hundreds of acres and cost in the neighborhood of billion each so forget it there are easier and cheaper ways to enrich your uranium first transform the gas into a liquid by subjecting it to pressure you can use a bicycle pump for this then make a simple home centrifuge fill a standardsize bucket onequarter full of liquid uranium hexafluoride attach a sixfoot rope to the bucket handle now swing the rope and attached bucket around your head as fast as possible keep this up for about minutes slow down gradually and very gently put the bucket on the floor the u which is lighter will have risen to the top where it can be skimmed off like cream repeat this step until you have the required pounds of uranium safety note dont put all your enriched uranium hexafluoride in one bucket use at least two or three buckets and keep them in separate corners of the room this will prevent the premature buildup of a critical mass now its time to convert your enriched uranium back to metal form this is easily enough accomplished by spooning several ladlefuls of calcium available in tablet form from your drugstore into each bucket of uranium the calcium will react with the uranium hexafluoride to produce calcium fluoride a colorless salt which can be easily be separated from your pure enriched uranium metal a few precautions • while uranium is not dangerously radioactive in the amounts youll be handling if you plan to make more than one bomb it might be wise to wear gloves and a lead apron the kind you can buy in dental supply stores • plutonium is one of the most toxic substances known if inhaled a thousandth of a gram can cause massive fibrosis of the lungs a painful way to go even a millionth of a gram in the lungs will cause cancer if eaten plutonium is metabolized like calcium it goes straight to the bones where it gives out alpha particles preventing bone marrow from manufacturing red blood cells the best way to avoid inhaling plutonium is to hold your breath while handling it if this is too difficult wear a mask to avoid ingesting plutonium orally follow this simple rule never make an abomb on an empty stomach • if you find yourself dozing off while youre working or if you begin to glow in the dark it might be wise to take a blood count prick your finger with a sterile pin place a drop of blood on a microscope slide cover it with a cover slip and examine under a microscope best results are obtained in the early morning when you get leukemia immature cells are released into the bloodstream and usually the number of white cells increases though this increase might take almost weeks red blood cells look kind of like donuts without the hole and are slightly smaller than the white cells each of which has a nucleus immature red cells look similar to white cells ie slightly larger and have a nucleus if you have more than about white cell including immature ones to red cells then start to worry but depending upon your plans for the eventual use of the bomb a short life expectancy might not be a problem step assembling the abomb now that youve acquired the enriched uranium all thats left is to assemble your abomb go find a couple of stainless steel salad bowls you also want to separate your pounds of u into two hunks keep them apart the idea is to push each half your uranium into the inside of a bowl take one hunk of your uranium and beat it into the inside of the first bowl uranium is malleable like gold so you should have no trouble hammering it into the bowl to get a good fit take another fivepound hunk of uranium and fit it into a second stainless steel bowl these two bowls of u are the subcritical masses which when brought together forcefully will provide the critical mass that makes your abomb go keep them a respectful distance apart while working because you dont want them to go critical on you at least not yet now hollow out the body of an old vacuum cleaner and place your two hemispherical bowls inside open ends facing each other no less than seven inches apart using masking tape to set them up in position the reason for the steel bowls and the vacuum cleaner in case youre wondering is that these help reflect the neutrons back into the uranium for a more efficient explosion a loose neutron is a useless neutron as the abomb pioneers used to say as far as the abomb goes youre almost done the final problem is to figure out how to get the two u hemispheres to smash into each other with sufficient force to set off a truly effective fission reaction almost any type of explosive can be used to drive them together gunpowder for example is easily made at home from potassium nitrate sulfur and carbon or you can get some blasting caps or tnt buy them or steal them from a construction site best of all is c plastic explosive you can mold it around your bowls and its fairly safe to work with but it might be wise to shape it around an extra salad bowl in another room and then fit it to your uraniumpacked bowls this is particularly true in winter when a stray static electrical charge might induce ignition in the c a responsible bomb maker considers it impolite to accidentally destroy more of the neighborhood than absolutely necessary once the explosives are in place all you need to do is hook up a simple detonation device with a few batteries a switch and some wire remember though that it is essential that the two charges one on each side of the casing go off simultaneously now put the whole thing in the casing of an old hoover vacuum cleaner and youre finished with this part of the process the rest is easy step make more abombs following the directions above a word to the wise about wastes after your abomb is completed youll have a pile of moderately fatal radioactive wastes like u these are not dangerous but you do have to get rid of them you can flush leftovers down the toilet dont worry about polluting the ocean there is already so much radioactive waste there a few more bucketfuls wont make any waves whatsoever if youre the fastidious type the kind who never leaves gum under their seat at the movies you can seal the nasty stuff in coffee cans and bury it in the backyard just like uncle sam does if the neighbor kids have a habit of trampling the lawn tell them to play over by the waste youll soon find that theyre spending most of their time in bed going first class if youre like us youre feeling the economic pinch and youll want to make your bomb as inexpensively as possible consonant of course with reasonable yield the recipe weve given is for a budgetpleasing hbomb no frills no flourishes its just a simple megaton bomb capable of wiping out the new york metropolitan area the san francisco bay area or boston but dont forget your hbomb will only be as good as the abombs in it if you want to spend a little more money you can punchup your abomb considerably instead of centrifuging your uranium by hand you can buy a commercial centrifuge fisher scientific sells one for about you also might want to be fussier about your design the hiroshima bomb a relatively crude one only fissioned percent of its uranium and yielded only kilotons in order to fission more of the uranium the force of your explosive trigger needs to be evenly diffused around the sphere the same pressure has to be exerted on every point of the sphere simultaneously it was a technique for producing this sort of simultaneous detonation by fashioning the explosives into lenses that the government accused julius and ethel rosenberg of trying to steal part putting your hbomb together the heart of the hbomb is the fusion process several abombs are detonated in such a way as to create the extremely high temperature million degrees c necessary to fuse lithium deuteride lid into helium when the lithium nucleus slams into the deuterium nucleus two helium nuclei are created and if this happens to enough deuterium nuclei rapidly enough the result is an enormous amount of energy the energy of the hbomb you dont have to worry about stealing lithium deuteride it can be purchased from any chemicalsupply house it costs a pound if your budget wont allow it you can substitute lithium hydride at a pound you will need at least pounds its a corrosive and toxic powder so be careful place the lithium deuteride or hydride in glass jars and surround it with four abombs in their casings attach them to the same detonator so that they will go off simultaneously the container for the whole thing is no problem they can be placed anywhere inside an old stereo console a discarded refrigerator etc when the detonator sets off the four abombs all eight hemispheres of fissionable material will slam into each other at the same time creating four critical masses and four detonations this will raise the temperature of the lithium deuteride to million degrees c fast enough a few billionths of a second so that the lithium will not be blown all over the neighborhood before the nuclei have time to fuse the result at least times the punch of the puny abomb that leveled hiroshima million tons of tnt vs thousand tons part what to do with your bomb now that you have a fully assembled hbomb housed in an attractive console of your choice you may be wondering what should i do with it every family will have to answer this question according to its own tastes and preferences but you may want to explore some possibilities which have been successfully pioneered by the american government sell your bomb and make a pile of money in these days of rising inflation increasing unemployment and an uncertain economic outlook few businesses make as much sense as weapons production if your career forecast is cloudy bomb sales may be the only sure way to avoid the humiliation of receiving welfare or unemployment regardless of your present income level a home hbomb business can be an invaluable income supplement and certainly a profitable alternative to selling tupperware or pirated girl scout cookies unfortunately for the family bomb business big government has already cornered a large part of the world market but this does not mean that there is a shortage of potential customers the raid on entebee was the waterloo of hijacking and many nationalist groups are now on the alert for new means to get their message across theyd jump at the chance to get hold of an hbomb emerging nations which cant ante up enough rice or sugar to buy themselves a reactor from ge or westinghouse are also shopping around you may wonder about the ethics of selling to nations or groups whose goals you may disapprove of but here again take a tip from our government forget ideology its cash that counts and remember hbomb sales have a way of escalating almost like a chain reaction suppose you make a sale to south yemen which you believe to be a soviet puppet well within a few days some discrete inquiries from north yemen and possibly the saudis the egyptians and the ethiopians as well can be expected similarly a sale to the ira will generate a sale to the ulster government and a sale to the tanzanians will bring the ugandans running and so forth it doesnt matter which side youre on only how many sides there are dont forget about the possibility of repeat sales to the same customer as the experience of both the us and the ussr has shown each individual nation has a potentially infinite need for hbombs no customer no matter how small can ever have too many use your bomb at home many families are attracted to the hbomb simply as a deterrent a discrete sticker on the door or on the living room window saying this home protected by hbomb will discourage irs investigators census takers and jehovahs witnesses youll be surprised how fast the crime rate will go down and property values will go up and once the news gets out that you are a home hbomb owner youll find that you have unexpected leverage in neighborhood disputes over everything from parking places and stereo noise levels to school tax rates so relax and enjoy the pride and excitement of home hbomb ownership is it for you lets be honest the hbomb isnt for everyone frankly there are people who cant handle it they break out in hives at the very mention of megadeath fallout or radiation sickness the following quiz will help you find out whether you have what it takes for home hbomb ownership if you can answer yes to six or more of these questions then youre emotionally eligible to join the nuclear club if not a more conventional weapon may be more your cup of tea try botulismtoxin laser rays or nerve gas i ignore the demands of others i subscribe to one or more of the following soldier of fortune hustler popular mechanics self though i have many interesting acquaintances i am my own best friend i know what to say after you say hello but i am seldom interested in pursuing the conversation i have seen the movie the deer hunter more than once i know that everyone can be a winner if they want to and i resent whiners i own one or more of the following handgun video game trash compactor snowmobile i am convinced that leukemia is psychosomatic i am aware that most vegetarians are sexually impotent i have read evidence that solar energy is a communist conspiracy myths about nuclear war ever since the first mushroom cloud over hiroshima ushered in the atomic age a small group of naysayers and doommongers has lobbied campaigned and demonstrated to convince americans that hbomb ownership along with nuclear power is dangerous and unhealthy using their virtual stranglehold over the media these people have tried to discredit everything nuclear from energy to war they have vastly overrated the risks of nuclear bombs and left many americans feeling demoralized and indecisive not sure where the truth lies well here are the myths and here are the facts myth after a nuclear exchange the earth will no longer be suitable for human habitation fact this is completely false according to one scientist quoted in john mcpees the curve of binding energy the largest bomb that has ever been exploded anywhere was megatons and that is onethousandth the force of an earthquake onethousandth the force of a hurricane we have lived with earthquakes and hurricanes for a long time another scientist adds it is often assumed that a full blown nuclear war would be the end of life on earth that is far from the truth to end life on earth would take at least a thousand times the total yield of all the nuclear explosives existing in the world and probably a lot more even if humans succumbed many forms of life would survive a nuclear freeforall cockroaches certain forms of bacteria and lichens for instance myth radiation is bad for you fact everything is bad for you if you have too much of it if you eat too many bananas youll get a stomachache if you get too much sun you can get sunburned or even skin cancer same thing with radiation too much may make you feel under the weather but nuclear industry officials insist that there is no evidence that lowlevel radiation has any really serious adverse effects and highlevel radiation may bring unexpected benefits it speeds up evolution by weeding out unwanted genetic types and creating new ones remember the old saying two heads are better than one nearer to home its plain that radiation will get rid of pesky crab grass and weeds and teenagers will find that brief exposure to a nuclear burst vaporizes acne and other skin blemishes many survivors of the hiroshima bomb found that they were free from skin and its attendant problems forever we hope this clears up any misconceptions you may have had enjoy your hbomb'"
      ]
     },
     "execution_count": 38,
     "metadata": {},
     "output_type": "execute_result"
    }
   ],
   "source": [
    "data['clean_text'][2]"
   ]
  },
  {
   "cell_type": "markdown",
   "metadata": {},
   "source": [
    "**Removing non english words**"
   ]
  },
  {
   "cell_type": "code",
   "execution_count": 39,
   "metadata": {},
   "outputs": [
    {
     "data": {
      "text/plain": [
       "'in het van how to build an from subject how to build an humorous date organization the university of western original file th to be a transcript of a seven days article poorly and corrupted i have added the text between examine under a microscope and malleable like gold as it was missing if anyone the full text please distribute i am not responsible for the accuracy of this information converted to by did a little and some minor too stolen from and the it now to strict how to build an making and an is the kind of challenge real seek who to be a passive victim of nuclear war when with a little effort you can be an active participant bomb are for who to huddle together underground eating canned want to push the button themselves making your own is a big step in nuclear assertiveness training its taking charge were sure enjoy the and the heady thrill of nuclear chicken introduction when the down on the progressive magazine for to publish an article on the manufacture of the hydrogen bomb it our curiosity was it really true that atomic and hydrogen bomb technology was so simple you could build an in your own kitchen seven days decided to find out food editor investigative reporter peter photographer jane and nuclear scientist were given three days to cook up a workable they did and we have decided to share their culinary with you not that seven days nuclear terrorism we dont we would prefer to die slowly from familiar like radiation or food rather than unexpectedly say as hostage to a nationalist a homemade bomb in our view the real are the soviet and that are hoarding for their own use and worse still those us and german that are eagerly peddling advanced nuclear technology to like south brazil and so that they can make their own when these are used and they will be it will be the nuclear along with corporate like general electric and gulf oil that we can thank for it the progressive will do no more for national security than bomb because like it or not the news is out the heart of the successful is the successful once youve got your made the rest is frosting on the cake all you have to do is set them up so that when they detonate theyll start off a reaction part making your bomb step getting the uranium is the basic ingredient of the when a uranium nucleus apart it a tremendous amount of energy for its size and it which go on to split other nearby uranium nuclei more energy in what is a chain reaction when split matter is converted into energy according to equation what better way to mark his birthday than with your own atomic there are two of uranium the rare u used in and the more common but useless u natural uranium less than percent u and in order to be usable in it to be to percent u and only percent u plutonium can also be used in as a substitute for u ten of u or slightly less plutonium is all that is necessary for a bomb less than ten wont give you a critical mass so or enriching naturally uranium is likely to be your first big hurdle it is infinitely easy to steal uranium or plutonium than to enrich some yourself and stealing uranium is not as hard as it there are at least three of uranium or plutonium uranium is at a gaseous diffusion plant in from there it is shipped in liter by airplane and trucks to conversion that turn it into uranium oxide or uranium metal each liter bottle of u and there are to a typical shipment conversion exist at hematite and the plant at crescent where silkwood worked was a conversion plant that lost of plutonium uranium can be stolen from these or from like those in new haven san or a former supervisor v smith when at the silkwood trial if there were any security at the plant to prevent theft that there were none of any kind no no no nothing plutonium can be from like united nuclear in new york nuclear fuel in general electric in in nuclear and equipment corporation in and in and morris according to rolling stone magazine the were involved in the theft of plutonium from finally you can steal uranium or plutonium while its from conversion to fuel it is usually transported by air or truck in the form of uranium oxide a brownish powder instant coffee or as a metal coming in small broken buttons both are shipped in small in inch braced with in the center of ordinary gallon steel the weigh about and are clearly marked material or danger plutonium a typical shipment might go from the enrichment plant at to the conversion plant in hematite then to city by truck where it would be flown to and then down to the general atomic plant in san the for the general atomic plant are on file at the nuclear regulatory reading room at h street a machine is provided for the convenience of the public if you cant get hold of any uranium have to settle for commercial grade percent u this can be stolen from university of a type mark where security is even more casual than at commercial if stealing uranium too tacky you can buy it unenriched uranium is available at any chemical supply house for a pound commercial grade to percent is available for a pound from gulf atomic have to enrich it further yourself quite frankly this can be something of a pain in the ass need to start with a little more than of uranium its only percent u at best and you need of u so but with a little chemistry be able to convert the solid uranium oxide youve into a liquid form once youve done that be able to separate the u that need from the u first pour a few of concentrated hydrofluoric acid into your uranium oxide converting it to uranium tetrafluoride safety note concentrated hydrofluoric acid is so corrosive that it will eat its way through glass so store it only in plastic used gallon plastic milk will do now you have to convert your uranium tetrafluoride to uranium the gaseous form of uranium which is convenient for separating out the isotope u from u to get the form bubble fluorine gas into your container of uranium tetrafluoride fluorine is available in from be careful how you use it though because fluorine is several times more deadly than chlorine the classic world war i poison gas recommend that you carry out this step under a stove hood the kind used to remove unpleasant cooking if youve done your chemistry right you should now have a generous supply of uranium ready for enriching in the old days of manufacture the enrichment was carried out by passing the uranium through of of and until the u was eventually from the u this process as it was is difficult and expensive cover of and cost in the neighborhood of billion each so forget it there are easier and ways to enrich your uranium first transform the gas into a liquid by it to pressure you can use a bicycle pump for this then make a simple home centrifuge fill a bucket full of liquid uranium attach a rope to the bucket handle now swing the rope and attached bucket around your head as fast as possible keep this up for about slow down gradually and very gently put the bucket on the floor the u which is lighter will have risen to the top where it can be skimmed off like cream repeat this step until you have the of uranium safety note dont put all your uranium in one bucket use at least two or three and keep them in separate of the room this will prevent the premature buildup of a critical mass now its time to convert your uranium back to metal form this is easily enough accomplished by spooning several of calcium available in tablet form from your drugstore into each bucket of uranium the calcium will react with the uranium to produce calcium fluoride a colorless salt which can be easily be from your pure uranium metal a few • while uranium is not dangerously radioactive in the be handling if you plan to make more than one bomb it might be wise to wear and a lead apron the kind you can buy in dental supply • plutonium is one of the most toxic known if a thousandth of a gram can cause massive fibrosis of the a painful way to go even a millionth of a gram in the will cause cancer if eaten plutonium is like calcium it goes straight to the where it out alpha bone marrow from red blood the best way to avoid plutonium is to hold your breath while handling it if this is too difficult wear a mask to avoid plutonium orally follow this simple rule never make an on an empty stomach • if you find yourself off while working or if you begin to glow in the dark it might be wise to take a blood count prick your finger with a sterile pin place a drop of blood on a microscope slide cover it with a cover slip and examine under a microscope best are in the early morning when you get leukemia immature are into the and usually the number of white though this increase might take almost red blood look kind of like without the hole and are slightly smaller than the white each of which a nucleus immature red look similar to white ie slightly and have a nucleus if you have more than about white cell immature to red then start to worry but depending upon your for the eventual use of the bomb a short life expectancy might not be a problem step the now that youve acquired the uranium all thats left is to assemble your go find a couple of stainless steel salad bowls you also want to separate your of u into two hunks keep them apart the idea is to push each half your uranium into the inside of a bowl take one hunk of your uranium and beat it into the inside of the first bowl uranium is malleable like gold so you should have no trouble hammering it into the bowl to get a good fit take another hunk of uranium and fit it into a second stainless steel bowl these two bowls of u are the which when brought together forcefully will provide the critical mass that your go keep them a respectful distance apart while working because you dont want them to go critical on you at least not yet now hollow out the body of an old vacuum cleaner and place your two hemispherical bowls inside open facing each other no less than seven apart tape to set them up in position the reason for the steel bowls and the vacuum cleaner in case wondering is that these help reflect the back into the uranium for a more efficient explosion a loose neutron is a useless neutron as the used to say as far as the goes almost done the final problem is to figure out how to get the two u to smash into each other with sufficient force to set off a truly effective fission reaction almost any type of explosive can be used to drive them together gunpowder for example is easily made at home from potassium nitrate and carbon or you can get some blasting or buy them or steal them from a construction site best of all is c plastic explosive you can mold it around your bowls and its fairly safe to work with but it might be wise to shape it around an extra salad bowl in another room and then fit it to your bowls this is particularly true in winter when a stray static electrical charge might induce ignition in the c a responsible bomb maker it impolite to accidentally destroy more of the neighborhood than absolutely necessary once the are in place all you need to do is hook up a simple detonation device with a few a switch and some wire remember though that it is essential that the two one on each side of the casing go off simultaneously now put the whole thing in the casing of an old vacuum cleaner and finished with this part of the process the rest is easy step make more following the above a word to the wise about after your is have a pile of moderately fatal radioactive like u these are not dangerous but you do have to get rid of them you can flush down the toilet dont worry about polluting the ocean there is already so much radioactive waste there a few more wont make any whatsoever if the fastidious type the kind who never leaves gum under their seat at the you can seal the nasty stuff in coffee and bury it in the just like uncle sam does if the neighbor have a habit of the lawn tell them to play over by the waste soon find that theyre spending most of their time in bed going first class if like us feeling the economic pinch and want to make your bomb as inexpensively as possible consonant of course with reasonable yield the recipe weve given is for a no no its just a simple megaton bomb capable of out the new york metropolitan area the san bay area or boston but dont forget your will only be as good as the in it if you want to spend a little more money you can your considerably instead of your uranium by hand you can buy a commercial centrifuge fisher scientific one for about you also might want to be about your design the bomb a relatively crude one only percent of its uranium and only in order to fission more of the uranium the force of your explosive trigger needs to be evenly diffused around the sphere the same pressure to be on every point of the sphere simultaneously it was a technique for this sort of simultaneous detonation by the into that the government accused and ethel of trying to steal part your together the heart of the is the fusion process several are in such a way as to create the extremely high temperature million c necessary to fuse lithium deuteride lid into helium when the lithium nucleus into the deuterium nucleus two helium nuclei are and if this to enough deuterium nuclei rapidly enough the result is an enormous amount of energy the energy of the you dont have to worry about stealing lithium deuteride it can be from any house it a pound if your budget wont allow it you can substitute lithium hydride at a pound you will need at least its a corrosive and toxic powder so be careful place the lithium deuteride or hydride in glass and surround it with four in their attach them to the same detonator so that they will go off simultaneously the container for the whole thing is no problem they can be anywhere inside an old stereo console a refrigerator when the detonator off the four all eight of fissionable material will slam into each other at the same time four critical and four this will raise the temperature of the lithium deuteride to million c fast enough a few of a second so that the lithium will not be blown all over the neighborhood before the nuclei have time to fuse the result at least times the punch of the puny that million of thousand part what to do with your bomb now that you have a fully in an attractive console of your choice you may be wondering what should i do with it every family will have to answer this question according to its own and but you may want to explore some which have been successfully by the government sell your bomb and make a pile of money in these days of rising inflation increasing unemployment and an uncertain economic outlook few make as much sense as production if your career forecast is cloudy bomb may be the only sure way to avoid the humiliation of welfare or unemployment regardless of your present income level a home business can be an invaluable income supplement and certainly a profitable alternative to selling or girl scout unfortunately for the family bomb business big government already cornered a large part of the world market but this does not mean that there is a shortage of potential the raid on was the of and many nationalist are now on the alert for new to get their message across jump at the chance to get hold of an which cant ante up enough rice or sugar to buy themselves a reactor from ge or are also shopping around you may wonder about the ethics of selling to or whose you may disapprove of but here again take a tip from our government forget ideology its cash that and remember have a way of almost like a chain reaction suppose you make a sale to south which you believe to be a soviet puppet well within a few days some discrete from north and possibly the the and the as well can be similarly a sale to the will generate a sale to the ulster government and a sale to the will bring the running and so forth it doesnt matter which side on only how many sides there are dont forget about the possibility of repeat to the same customer as the experience of both the us and the shown each individual nation a potentially infinite need for no customer no matter how small can ever have too many use your bomb at home many are to the simply as a deterrent a discrete sticker on the door or on the living room window saying this home by will discourage census and be how fast the crime rate will go down and property will go up and once the news out that you are a home owner find that you have unexpected leverage in neighborhood over everything from parking and stereo noise to school tax so relax and enjoy the pride and excitement of home ownership is it for you be honest the for everyone frankly there are people who cant handle it they break out in hives at the very mention of or radiation sickness the following quiz will help you find out whether you have what it for home ownership if you can answer yes to six or more of these then emotionally eligible to join the nuclear club if not a more conventional weapon may be more your cup of tea try laser or nerve gas i ignore the of i subscribe to one or more of the following soldier of fortune hustler popular mechanics self though i have many interesting i am my own best friend i know what to say after you say hello but i am seldom interested in the conversation i have seen the movie the deer more than once i know that everyone can be a winner if they want to and i resent i own one or more of the following handgun video game trash compactor snowmobile i am convinced that leukemia is psychosomatic i am aware that most are sexually impotent i have read evidence that solar energy is a communist conspiracy about nuclear war ever since the first mushroom cloud over in the atomic age a small group of and and to convince that ownership along with nuclear power is dangerous and unhealthy their virtual over the media these people have tried to discredit everything nuclear from energy to war they have vastly the of nuclear and left many feeling and indecisive not sure where the truth well here are the and here are the myth after a nuclear exchange the earth will no longer be suitable for human habitation fact this is completely false according to one scientist in the curve of binding energy the bomb that ever been exploded anywhere was and that is the force of an earthquake the force of a hurricane we have lived with and for a long time another scientist it is often assumed that a full blown nuclear war would be the end of life on earth that is far from the truth to end life on earth would take at least a thousand times the total yield of all the nuclear in the world and probably a lot more even if many of life would survive a nuclear certain of bacteria and for instance myth radiation is bad for you fact everything is bad for you if you have too much of it if you eat too many get a if you get too much sun you can get sunburned or even skin cancer same thing with radiation too much may make you feel under the weather but nuclear industry insist that there is no evidence that radiation any really serious adverse effects and radiation may bring unexpected it up evolution by out unwanted genetic and new remember the old saying two are better than one to home its plain that radiation will get rid of pesky crab grass and and will find that brief exposure to a nuclear burst acne and other skin many of the bomb found that they were free from skin and its attendant forever we hope this up any you may have had enjoy your'"
      ]
     },
     "execution_count": 39,
     "metadata": {},
     "output_type": "execute_result"
    }
   ],
   "source": [
    "words = set(nltk.corpus.words.words())\n",
    "def remove_non_english_words(text):\n",
    "    return \" \".join(w for w in nltk.wordpunct_tokenize(text) if w.lower() in words or not w.isalpha())\n",
    "\n",
    "remove_non_english_words(data['clean_text'][2])"
   ]
  },
  {
   "cell_type": "code",
   "execution_count": 40,
   "metadata": {},
   "outputs": [],
   "source": [
    "data['clean_text'] = data['clean_text'].apply(lambda text: remove_non_english_words(text))"
   ]
  },
  {
   "cell_type": "code",
   "execution_count": 41,
   "metadata": {},
   "outputs": [
    {
     "data": {
      "text/plain": [
       "'been found and of now i have to wait untill our team leader it and'"
      ]
     },
     "execution_count": 41,
     "metadata": {},
     "output_type": "execute_result"
    }
   ],
   "source": [
    "data['clean_text'][0]"
   ]
  },
  {
   "cell_type": "markdown",
   "metadata": {
    "id": "UaCrMsgl5LMO"
   },
   "source": [
    "**6. Tokenization:**\n",
    "\n",
    "In this step, the text is split into smaller units. We can use either sentence tokenization or word tokenization based on our problem statement"
   ]
  },
  {
   "cell_type": "code",
   "execution_count": 42,
   "metadata": {
    "colab": {
     "base_uri": "https://localhost:8080/"
    },
    "id": "eLfoqWmj5Jzp",
    "outputId": "7437234b-f65a-418b-fbeb-7ef0e00f5728"
   },
   "outputs": [
    {
     "data": {
      "text/plain": [
       "['been',\n",
       " 'found',\n",
       " 'and',\n",
       " 'of',\n",
       " 'now',\n",
       " 'i',\n",
       " 'have',\n",
       " 'to',\n",
       " 'wait',\n",
       " 'untill',\n",
       " 'our',\n",
       " 'team',\n",
       " 'leader',\n",
       " 'it',\n",
       " 'and']"
      ]
     },
     "execution_count": 42,
     "metadata": {},
     "output_type": "execute_result"
    }
   ],
   "source": [
    "word_tokenize(data.clean_text[0])"
   ]
  },
  {
   "cell_type": "code",
   "execution_count": null,
   "metadata": {
    "id": "DWymaW_A-33c"
   },
   "outputs": [],
   "source": [
    "data['tokens'] = data['clean_text'].apply(lambda text: word_tokenize(text))"
   ]
  },
  {
   "cell_type": "code",
   "execution_count": null,
   "metadata": {
    "colab": {
     "base_uri": "https://localhost:8080/"
    },
    "id": "fCpdE_DB_hz-",
    "outputId": "6c1cf901-be54-4e3d-d3f5-52da36cbcc87"
   },
   "outputs": [],
   "source": [
    "data['tokens'].head()"
   ]
  },
  {
   "cell_type": "markdown",
   "metadata": {
    "id": "M8ulzDTCCLkV"
   },
   "source": [
    "**7. Stop words removal:**\n",
    "\n",
    "Stopwords are the commonly used words and are removed from the text as they do not add any value to the analysis. These words carry less or no meaning."
   ]
  },
  {
   "cell_type": "code",
   "execution_count": null,
   "metadata": {},
   "outputs": [],
   "source": [
    "stop_words = list(stopwords.words('english'))"
   ]
  },
  {
   "cell_type": "code",
   "execution_count": null,
   "metadata": {},
   "outputs": [],
   "source": [
    "def remove_stopwords(tokens):\n",
    "    new_tokens = [token for token in tokens if token not in stop_words]\n",
    "    return new_tokens\n",
    "\n",
    "remove_stopwords(data['tokens'][0])"
   ]
  },
  {
   "cell_type": "code",
   "execution_count": null,
   "metadata": {
    "id": "FfivU--KEuK-"
   },
   "outputs": [],
   "source": [
    "data['Without_stopwords_token'] = data['tokens'].apply(lambda tokens : remove_stopwords(tokens) )"
   ]
  },
  {
   "cell_type": "code",
   "execution_count": null,
   "metadata": {
    "id": "qtNwgPPhb2Px"
   },
   "outputs": [],
   "source": [
    "data['Without_stopwords_token'].head()"
   ]
  },
  {
   "cell_type": "markdown",
   "metadata": {},
   "source": [
    "## Normalization"
   ]
  },
  {
   "cell_type": "markdown",
   "metadata": {},
   "source": [
    "**Stemming**"
   ]
  },
  {
   "cell_type": "code",
   "execution_count": null,
   "metadata": {},
   "outputs": [],
   "source": [
    "from nltk.stem import PorterStemmer\n",
    "porter = PorterStemmer()\n",
    "words = ['Connects','Connecting','Connections','Connected','Connection','Connectings','Connect']\n",
    "for word in words:\n",
    "    print(word,\"--->\",porter.stem(word))"
   ]
  },
  {
   "cell_type": "code",
   "execution_count": null,
   "metadata": {},
   "outputs": [],
   "source": [
    " [porter.stem(word) for word in data['Without_stopwords_token'][1]]"
   ]
  },
  {
   "cell_type": "code",
   "execution_count": null,
   "metadata": {},
   "outputs": [],
   "source": [
    "stemmed_tokens =data['Without_stopwords_token'].apply(lambda text : [porter.stem(word) for word in text])"
   ]
  },
  {
   "cell_type": "code",
   "execution_count": null,
   "metadata": {},
   "outputs": [],
   "source": [
    "stemmed_tokens"
   ]
  },
  {
   "cell_type": "code",
   "execution_count": null,
   "metadata": {},
   "outputs": [],
   "source": []
  },
  {
   "cell_type": "markdown",
   "metadata": {},
   "source": [
    "**lemmatization**"
   ]
  },
  {
   "cell_type": "code",
   "execution_count": null,
   "metadata": {},
   "outputs": [],
   "source": [
    "from nltk.stem import WordNetLemmatizer\n",
    "lemmatizer = WordNetLemmatizer()\n",
    "lemmatizer.lemmatize(data['Without_stopwords_token'][2][1])"
   ]
  },
  {
   "cell_type": "code",
   "execution_count": null,
   "metadata": {},
   "outputs": [],
   "source": [
    "lemma_tokens = data['Without_stopwords_token'].apply(lambda text : [lemmatizer.lemmatize(word) for word in text])"
   ]
  },
  {
   "cell_type": "markdown",
   "metadata": {},
   "source": [
    "### Target/label merger and transformation\n"
   ]
  },
  {
   "cell_type": "code",
   "execution_count": null,
   "metadata": {},
   "outputs": [],
   "source": [
    "data['age']= data['age'].astype('object')"
   ]
  },
  {
   "cell_type": "code",
   "execution_count": null,
   "metadata": {},
   "outputs": [],
   "source": [
    "data_orignal = pd.DataFrame()\n",
    "data_orignal[\"labels\"] = data.apply(lambda col :\n",
    "                            [col[\"gender\"],col[\"age\"],col[\"topic\"],col[\"sign\"]],axis =1)"
   ]
  },
  {
   "cell_type": "code",
   "execution_count": null,
   "metadata": {},
   "outputs": [],
   "source": [
    "data_orignal['lamme_text'] = [\" \".join(token) for token in  lemma_tokens]"
   ]
  },
  {
   "cell_type": "code",
   "execution_count": null,
   "metadata": {},
   "outputs": [],
   "source": [
    "data_orignal.head()"
   ]
  },
  {
   "cell_type": "code",
   "execution_count": null,
   "metadata": {},
   "outputs": [],
   "source": [
    "data_orignal.isnull().sum()"
   ]
  },
  {
   "cell_type": "markdown",
   "metadata": {},
   "source": [
    "#### Separate features and labels, and split the data into training and testing"
   ]
  },
  {
   "cell_type": "code",
   "execution_count": null,
   "metadata": {},
   "outputs": [],
   "source": [
    "X = data_orignal['lamme_text']\n",
    "y = data_orignal[\"labels\"]"
   ]
  },
  {
   "cell_type": "code",
   "execution_count": 1,
   "metadata": {},
   "outputs": [
    {
     "ename": "NameError",
     "evalue": "name 'train_test_split' is not defined",
     "output_type": "error",
     "traceback": [
      "\u001b[1;31m---------------------------------------------------------------------------\u001b[0m",
      "\u001b[1;31mNameError\u001b[0m                                 Traceback (most recent call last)",
      "\u001b[1;32mC:\\Users\\PREMKU~1\\AppData\\Local\\Temp/ipykernel_17436/2884685900.py\u001b[0m in \u001b[0;36m<module>\u001b[1;34m\u001b[0m\n\u001b[1;32m----> 1\u001b[1;33m \u001b[0mX_train\u001b[0m\u001b[1;33m,\u001b[0m \u001b[0mX_test\u001b[0m\u001b[1;33m,\u001b[0m \u001b[0my_train\u001b[0m\u001b[1;33m,\u001b[0m \u001b[0my_test\u001b[0m \u001b[1;33m=\u001b[0m  \u001b[0mtrain_test_split\u001b[0m\u001b[1;33m(\u001b[0m\u001b[0mX\u001b[0m\u001b[1;33m,\u001b[0m \u001b[0my\u001b[0m\u001b[1;33m,\u001b[0m \u001b[0mtest_size\u001b[0m \u001b[1;33m=\u001b[0m \u001b[1;36m0.30\u001b[0m\u001b[1;33m,\u001b[0m\u001b[0mrandom_state\u001b[0m \u001b[1;33m=\u001b[0m \u001b[1;36m1\u001b[0m\u001b[1;33m)\u001b[0m\u001b[1;33m\u001b[0m\u001b[1;33m\u001b[0m\u001b[0m\n\u001b[0m",
      "\u001b[1;31mNameError\u001b[0m: name 'train_test_split' is not defined"
     ]
    }
   ],
   "source": [
    "X_train, X_test, y_train, y_test =  train_test_split(X, y, test_size = 0.30,random_state = 1)"
   ]
  },
  {
   "cell_type": "code",
   "execution_count": null,
   "metadata": {},
   "outputs": [],
   "source": [
    "X_train.shape,X_test.shape"
   ]
  },
  {
   "cell_type": "code",
   "execution_count": null,
   "metadata": {},
   "outputs": [],
   "source": [
    "y_train.shape,y_test.shape"
   ]
  },
  {
   "cell_type": "markdown",
   "metadata": {},
   "source": [
    "### Vectorize the features\n",
    "a. Create a Bag of Words using count vectorizer <br/>\n",
    "i. Use ngram_range=(1, 2)"
   ]
  },
  {
   "cell_type": "code",
   "execution_count": null,
   "metadata": {},
   "outputs": [],
   "source": [
    "# Consider only those rows which occur more than 15% and less than 80 %, also restrict features to 100\n",
    "\n",
    "vectorizer =CountVectorizer(ngram_range=(1,2))# CountVectorizer(ngram_range = (1,1),min_df = 0.15, max_df = 0.8, max_features = 100)"
   ]
  },
  {
   "cell_type": "code",
   "execution_count": null,
   "metadata": {},
   "outputs": [],
   "source": [
    "# transform the X data to document_term_matrix\n",
    "\n",
    "X_train_dtm = vectorizer.fit_transform(X_train)\n",
    "X_test_dtm = vectorizer.transform(X_test)\n",
    "X_train_dtm"
   ]
  },
  {
   "cell_type": "code",
   "execution_count": null,
   "metadata": {},
   "outputs": [],
   "source": [
    "# check the vocabulary( First 15 features)\n",
    "vectorizer.get_feature_names_out()[:50]"
   ]
  },
  {
   "cell_type": "markdown",
   "metadata": {},
   "source": [
    "**Create a dictionary to get the count of every label i.e. the key will be label name and value will be the total count of the label. Check below image for reference**"
   ]
  },
  {
   "cell_type": "code",
   "execution_count": null,
   "metadata": {},
   "outputs": [],
   "source": [
    "label_counts=dict()\n",
    "\n",
    "for labels in data_orignal.labels.values:\n",
    "    for label in labels:\n",
    "        if label in label_counts:\n",
    "            label_counts[str(label)]+=1\n",
    "        else:\n",
    "            label_counts[str(label)]=1"
   ]
  },
  {
   "cell_type": "code",
   "execution_count": null,
   "metadata": {},
   "outputs": [],
   "source": [
    "label_counts"
   ]
  },
  {
   "cell_type": "markdown",
   "metadata": {},
   "source": [
    "### Transform the labels\n",
    "As we have noticed before, in this task each example can have multiple tags. To deal with such kind of prediction, we need to transform labels in a binary form and the prediction will be a mask of 0s and 1s. For this purpose, it is convenient to use MultiLabelBinarizer from sklearn a. Convert your train and test labels using MultiLabelBinarizer"
   ]
  },
  {
   "cell_type": "code",
   "execution_count": null,
   "metadata": {},
   "outputs": [],
   "source": [
    "from sklearn.preprocessing import MultiLabelBinarizer\n",
    "binarizer=MultiLabelBinarizer(classes=sorted(label_counts.keys()))"
   ]
  },
  {
   "cell_type": "code",
   "execution_count": null,
   "metadata": {},
   "outputs": [],
   "source": [
    "y_train = binarizer.fit_transform(y_train)"
   ]
  },
  {
   "cell_type": "code",
   "execution_count": null,
   "metadata": {},
   "outputs": [],
   "source": [
    "y_test = binarizer.transform(y_test)"
   ]
  },
  {
   "cell_type": "markdown",
   "metadata": {},
   "source": [
    "### Choose a classifier \n",
    "In this task, we suggest using the One-vs-Rest approach, which is implemented in\n",
    "OneVsRestClassifier class. In this approach k classifiers (= number of tags) are trained. As a\n",
    "basic classifier, use LogisticRegression . It is one of the simplest methods, but often it\n",
    "performs good enough in text classification tasks. It might take some time because the\n",
    "number of classifiers to train is large.\n",
    "\n",
    "\n",
    "### Fit the classifier, make predictions and get the accuracy \n",
    "a. Print the following\n",
    "i. Accuracy score\n",
    "ii. F1 score\n",
    "iii. Average precision score\n",
    "iv. Average recall score\n",
    "v. Tip: Make sure you are familiar with all of them. How would you expect the\n",
    "things to work for the multi-label scenario? Read about micro/macro/weighted\n",
    "averaging"
   ]
  },
  {
   "cell_type": "code",
   "execution_count": null,
   "metadata": {},
   "outputs": [],
   "source": [
    "from sklearn.multiclass import OneVsRestClassifier\n",
    "from sklearn.linear_model import LogisticRegression"
   ]
  },
  {
   "cell_type": "code",
   "execution_count": null,
   "metadata": {},
   "outputs": [],
   "source": [
    "model=LogisticRegression(solver='lbfgs')\n",
    "model=OneVsRestClassifier(model)\n",
    "model.fit(X_train_dtm,y_train)"
   ]
  },
  {
   "cell_type": "code",
   "execution_count": null,
   "metadata": {},
   "outputs": [],
   "source": [
    "Ypred=model.predict(X_test_ct)"
   ]
  },
  {
   "cell_type": "code",
   "execution_count": null,
   "metadata": {},
   "outputs": [],
   "source": [
    "Ypred"
   ]
  },
  {
   "cell_type": "code",
   "execution_count": null,
   "metadata": {},
   "outputs": [],
   "source": [
    "y_test"
   ]
  },
  {
   "cell_type": "markdown",
   "metadata": {},
   "source": [
    "### In Micro-average method, \n",
    "you sum up the individual true positives, false positives, and false negatives of the system for different sets and the apply them to get the statistics.\n",
    "\n",
    "### Macro-average Method\n",
    "The method is straight forward. Just take the average of the precision and recall of the system on different sets\n",
    "\n"
   ]
  },
  {
   "cell_type": "code",
   "execution_count": null,
   "metadata": {},
   "outputs": [],
   "source": [
    "from sklearn.metrics import accuracy_score\n",
    "from sklearn.metrics import f1_score\n",
    "from sklearn.metrics import average_precision_score\n",
    "from sklearn.metrics import recall_score\n",
    "\n",
    "def display_metrics_micro(Ytest, Ypred):\n",
    "    print('Accuracy score: ', accuracy_score(Ytest, Ypred))\n",
    "    print('F1 score: Micro', f1_score(Ytest, Ypred, average='micro'))\n",
    "    print('Average precision score: Micro', average_precision_score(Ytest, Ypred, average='micro'))\n",
    "    print('Average recall score: Micro', recall_score(Ytest, Ypred, average='micro'))\n",
    "    \n",
    "    \n",
    "def display_metrics_macro(Ytest, Ypred):\n",
    "    print('Accuracy score: ', accuracy_score(Ytest, Ypred))\n",
    "    print('F1 score: Macro', f1_score(Ytest, Ypred, average='macro'))\n",
    "    print('Average recall score: MAcro', recall_score(Ytest, Ypred, average='macro'))\n",
    "    \n",
    "def display_metrics_weighted(Ytest, Ypred):\n",
    "    print('Accuracy score: ', accuracy_score(Ytest, Ypred))\n",
    "    print('F1 score: weighted', f1_score(Ytest, Ypred, average='weighted'))\n",
    "    print('Average precision score: weighted', average_precision_score(Ytest, Ypred, average='weighted'))\n",
    "    print('Average recall score: weighted', recall_score(Ytest, Ypred, average='weighted'))\n",
    "    "
   ]
  },
  {
   "cell_type": "code",
   "execution_count": null,
   "metadata": {},
   "outputs": [],
   "source": [
    "\n",
    "display_metrics_micro(y_test,Ypred)"
   ]
  },
  {
   "cell_type": "code",
   "execution_count": null,
   "metadata": {},
   "outputs": [],
   "source": [
    "display_metrics_macro(Ytest, Ypred)"
   ]
  },
  {
   "cell_type": "code",
   "execution_count": null,
   "metadata": {},
   "outputs": [],
   "source": [
    "display_metrics_weighted(Ytest, Ypred)"
   ]
  },
  {
   "cell_type": "markdown",
   "metadata": {},
   "source": [
    "\n",
    "\n",
    "\n",
    "\n",
    "### Use a linear classifier (LinearSVC is used in the following) of your choice, wrap it up in OneVsRestClassifier to train it on every label"
   ]
  },
  {
   "cell_type": "code",
   "execution_count": null,
   "metadata": {},
   "outputs": [],
   "source": [
    "from sklearn.linear_model import LogisticRegression\n",
    "from sklearn.discriminant_analysis import LinearDiscriminantAnalysis\n",
    "from sklearn.svm import LinearSVC\n",
    "from sklearn.naive_bayes import MultinomialNB\n",
    "\n",
    "def build_model_train(X_train, y_train, X_valid=None, y_valid=None, C=1.0, model='lr'):\n",
    "    if model=='lr':\n",
    "        model = LogisticRegression(C=C, penalty='l1', dual=False, solver='liblinear')\n",
    "        model = OneVsRestClassifier(model)\n",
    "        model.fit(X_train, y_train)\n",
    "    \n",
    "    elif model=='svm':\n",
    "        model = LinearSVC(C=C, penalty='l1', dual=False, loss='squared_hinge')\n",
    "        model = OneVsRestClassifier(model)\n",
    "        model.fit(X_train, y_train)\n",
    "    \n",
    "    elif model=='nbayes':\n",
    "        model = MultinomialNB(alpha=1.0)\n",
    "        model = OneVsRestClassifier(model)\n",
    "        model.fit(X_train, y_train)\n",
    "        \n",
    "    elif model=='lda':\n",
    "        model = LinearDiscriminantAnalysis(solver='svd')\n",
    "        model = OneVsRestClassifier(model)\n",
    "        model.fit(X_train, y_train)\n",
    "\n",
    "    return model"
   ]
  },
  {
   "cell_type": "code",
   "execution_count": null,
   "metadata": {},
   "outputs": [],
   "source": [
    "models = ['lr','svm','nbayes']\n",
    "for model in models:\n",
    "    model = build_model_train(X_train_ct,y_train,model=model)\n",
    "    model.fit(X_train_ct,y_train)\n",
    "    Ypred=model.predict(X_test_ct)\n",
    "    print(\"\\n\")\n",
    "    print(f\"**displaying  metrics for the mode {model}\\n\")\n",
    "    display_metrics_micro(y_test,Ypred)\n",
    "    print(\"\\n\")\n",
    "    print(\"\\n\")\n",
    "    display_metrics_macro(y_test,Ypred)\n",
    "    print(\"\\n\")\n",
    "    print(\"\\n\")\n",
    "    display_metrics_weighted(y_test,Ypred)\n",
    "    print(\"\\n\")\n",
    "    print(\"\\n\")\n",
    "    "
   ]
  },
  {
   "cell_type": "markdown",
   "metadata": {},
   "source": [
    "### NOTE : I Didn't perform NN because of memory constaint , Understand it and dont reduce mark for that  and didnt not perform any tuning Here as it is crashing my os "
   ]
  },
  {
   "cell_type": "markdown",
   "metadata": {},
   "source": [
    "__Key Notes__:\n",
    "\n",
    "1. we have solved  Multilabel classification problem that predicts multiple features of the author of a given text\n",
    "2. Loading the data and  required basic EDA and data inspection has been done\n",
    "2. The text has been pre processed like cleansing it(removing the unnecessary chars, removing the spaces, converting the case to lower) and also removing the stop words, vectorizing the features\n",
    "3. Preparing the date, splitting them to train and test\n",
    "4. using multilable binarizers, also various classifier models are trained and the predictions are made and also the accuracy, f1 score, Avg precision and recall scores are calculated.\n"
   ]
  },
  {
   "cell_type": "code",
   "execution_count": null,
   "metadata": {},
   "outputs": [],
   "source": []
  },
  {
   "cell_type": "code",
   "execution_count": null,
   "metadata": {},
   "outputs": [],
   "source": []
  },
  {
   "cell_type": "code",
   "execution_count": null,
   "metadata": {},
   "outputs": [],
   "source": []
  }
 ],
 "metadata": {
  "colab": {
   "collapsed_sections": [],
   "name": "Text_Classification.ipynb",
   "provenance": []
  },
  "kernelspec": {
   "display_name": "Python 3 (ipykernel)",
   "language": "python",
   "name": "python3"
  },
  "language_info": {
   "codemirror_mode": {
    "name": "ipython",
    "version": 3
   },
   "file_extension": ".py",
   "mimetype": "text/x-python",
   "name": "python",
   "nbconvert_exporter": "python",
   "pygments_lexer": "ipython3",
   "version": "3.9.7"
  }
 },
 "nbformat": 4,
 "nbformat_minor": 1
}
